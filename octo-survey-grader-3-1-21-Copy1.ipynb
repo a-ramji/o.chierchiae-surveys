{
 "cells": [
  {
   "cell_type": "code",
   "execution_count": 115,
   "metadata": {},
   "outputs": [],
   "source": [
    "import numpy as np\n",
    "from datascience import *\n",
    "import pandas as pd\n",
    "import os\n",
    "from scipy.stats import ttest_ind\n",
    "from scipy.stats import sem\n",
    "\n",
    "from scipy.stats import ttest_1samp\n",
    "from scipy.stats import spearmanr\n",
    "import matplotlib.pyplot as plt"
   ]
  },
  {
   "cell_type": "code",
   "execution_count": 116,
   "metadata": {},
   "outputs": [
    {
     "data": {
      "text/plain": [
       "'/home/jovyan/octo'"
      ]
     },
     "execution_count": 116,
     "metadata": {},
     "output_type": "execute_result"
    }
   ],
   "source": [
    "pwd\n"
   ]
  },
  {
   "cell_type": "code",
   "execution_count": 117,
   "metadata": {},
   "outputs": [
    {
     "data": {
      "text/plain": [
       "50"
      ]
     },
     "execution_count": 117,
     "metadata": {},
     "output_type": "execute_result"
    }
   ],
   "source": [
    "N = \"no match\"\n",
    "Y = \"match\"\n",
    "\n",
    "answerkey = make_array(\n",
    "N,\n",
    "Y,\n",
    "Y,\n",
    "Y,\n",
    "N,\n",
    "N,\n",
    "N,\n",
    "Y,\n",
    "N,\n",
    "Y,\n",
    "Y,\n",
    "N,\n",
    "N,\n",
    "N,\n",
    "N,\n",
    "Y,\n",
    "Y,\n",
    "N,\n",
    "Y,\n",
    "Y,\n",
    "N,\n",
    "Y,\n",
    "Y,\n",
    "Y,\n",
    "Y,\n",
    "Y,\n",
    "Y,\n",
    "N,\n",
    "Y,\n",
    "Y,\n",
    "N,\n",
    "Y,\n",
    "Y,\n",
    "Y,\n",
    "N,\n",
    "N,\n",
    "Y,\n",
    "N,\n",
    "Y,\n",
    "Y,\n",
    "N,\n",
    "Y,\n",
    "N,\n",
    "N,\n",
    "Y,\n",
    "N,\n",
    "Y,\n",
    "Y,\n",
    "N,\n",
    "N,)\n",
    "\n",
    "len(answerkey)"
   ]
  },
  {
   "cell_type": "code",
   "execution_count": 118,
   "metadata": {},
   "outputs": [],
   "source": [
    "Bres = Table.read_table('Bresponses.3-1-21.csv')\n",
    "Bres = Bres.with_columns(\"label\", [\"A\",\"B\",\"C\",\"D\",\"E\",\"F\",\"G\",\"H\",\"I\",\"J\",\"K\",\"L\",\"M\",\"N\",\"O\",\"P\",\"Q\",\"R\",\"S\",\"T\",\"U\",\"V\"])"
   ]
  },
  {
   "cell_type": "code",
   "execution_count": 119,
   "metadata": {},
   "outputs": [],
   "source": [
    "Cres = Table.read_table('Cresponses.3-1-21.csv')\n",
    "Cres = Cres.with_columns(\"label\", [\"a\",\"b\",\"c\",\"d\",\"e\",\"f\",\"g\",\"h\",\"i\",\"j\",\"k\",\"l\",\"m\",\"n\",\"o\",\"p\",\"q\",\"r\",\"s\",\"t\",\"u\",\"v\"])"
   ]
  },
  {
   "cell_type": "code",
   "execution_count": 120,
   "metadata": {
    "scrolled": true
   },
   "outputs": [
    {
     "data": {
      "text/html": [
       "<table border=\"1\" class=\"dataframe\">\n",
       "    <thead>\n",
       "        <tr>\n",
       "            <th>Timestamp</th> <th>Unnamed: 1</th> <th>Unnamed: 2</th> <th>Unnamed: 3</th> <th>Unnamed: 4</th> <th>Unnamed: 5</th> <th>Unnamed: 6</th> <th>Unnamed: 7</th> <th>Unnamed: 8</th> <th>Unnamed: 9</th> <th>Unnamed: 10</th> <th>Unnamed: 11</th> <th>Unnamed: 12</th> <th>Unnamed: 13</th> <th>Unnamed: 14</th> <th>Unnamed: 15</th> <th>Unnamed: 16</th> <th>Unnamed: 17</th> <th>Unnamed: 18</th> <th>Unnamed: 19</th> <th>Unnamed: 20</th> <th>Unnamed: 21</th> <th>Unnamed: 22</th> <th>Unnamed: 23</th> <th>Unnamed: 24</th> <th>Unnamed: 25</th> <th>Unnamed: 26</th> <th>Unnamed: 27</th> <th>Unnamed: 28</th> <th>Unnamed: 29</th> <th>Unnamed: 30</th> <th>Unnamed: 31</th> <th>Unnamed: 32</th> <th>Unnamed: 33</th> <th>Unnamed: 34</th> <th>Unnamed: 35</th> <th>Unnamed: 36</th> <th>Unnamed: 37</th> <th>Unnamed: 38</th> <th>Unnamed: 39</th> <th>Unnamed: 40</th> <th>Unnamed: 41</th> <th>Unnamed: 42</th> <th>Unnamed: 43</th> <th>Unnamed: 44</th> <th>Unnamed: 45</th> <th>Unnamed: 46</th> <th>Unnamed: 47</th> <th>Unnamed: 48</th> <th>Unnamed: 49</th> <th>Unnamed: 50</th> <th>label</th>\n",
       "        </tr>\n",
       "    </thead>\n",
       "    <tbody>\n",
       "        <tr>\n",
       "            <td>4/26/2020 23:40:38</td> <td>no match  </td> <td>match     </td> <td>match     </td> <td>no match  </td> <td>no match  </td> <td>match     </td> <td>no match  </td> <td>match     </td> <td>match     </td> <td>no match   </td> <td>match      </td> <td>no match   </td> <td>no match   </td> <td>no match   </td> <td>match      </td> <td>match      </td> <td>match      </td> <td>no match   </td> <td>match      </td> <td>no match   </td> <td>no match   </td> <td>match      </td> <td>match      </td> <td>match      </td> <td>match      </td> <td>match      </td> <td>no match   </td> <td>no match   </td> <td>match      </td> <td>match      </td> <td>no match   </td> <td>no match   </td> <td>no match   </td> <td>no match   </td> <td>no match   </td> <td>match      </td> <td>no match   </td> <td>no match   </td> <td>match      </td> <td>match      </td> <td>match      </td> <td>match      </td> <td>no match   </td> <td>no match   </td> <td>match      </td> <td>no match   </td> <td>no match   </td> <td>match      </td> <td>match      </td> <td>match      </td> <td>A    </td>\n",
       "        </tr>\n",
       "        <tr>\n",
       "            <td>4/27/2020 3:36:17 </td> <td>no match  </td> <td>match     </td> <td>match     </td> <td>match     </td> <td>no match  </td> <td>no match  </td> <td>no match  </td> <td>match     </td> <td>no match  </td> <td>match      </td> <td>match      </td> <td>no match   </td> <td>no match   </td> <td>no match   </td> <td>no match   </td> <td>match      </td> <td>match      </td> <td>no match   </td> <td>match      </td> <td>match      </td> <td>no match   </td> <td>match      </td> <td>match      </td> <td>match      </td> <td>match      </td> <td>match      </td> <td>no match   </td> <td>no match   </td> <td>match      </td> <td>match      </td> <td>no match   </td> <td>match      </td> <td>match      </td> <td>match      </td> <td>no match   </td> <td>no match   </td> <td>match      </td> <td>no match   </td> <td>match      </td> <td>match      </td> <td>no match   </td> <td>match      </td> <td>no match   </td> <td>no match   </td> <td>match      </td> <td>no match   </td> <td>match      </td> <td>no match   </td> <td>no match   </td> <td>no match   </td> <td>B    </td>\n",
       "        </tr>\n",
       "        <tr>\n",
       "            <td>5/7/2020 2:46:27  </td> <td>no match  </td> <td>match     </td> <td>match     </td> <td>match     </td> <td>match     </td> <td>match     </td> <td>no match  </td> <td>match     </td> <td>match     </td> <td>match      </td> <td>match      </td> <td>match      </td> <td>no match   </td> <td>no match   </td> <td>no match   </td> <td>match      </td> <td>match      </td> <td>no match   </td> <td>match      </td> <td>no match   </td> <td>no match   </td> <td>match      </td> <td>match      </td> <td>match      </td> <td>match      </td> <td>match      </td> <td>no match   </td> <td>no match   </td> <td>match      </td> <td>match      </td> <td>no match   </td> <td>match      </td> <td>match      </td> <td>match      </td> <td>match      </td> <td>no match   </td> <td>match      </td> <td>no match   </td> <td>match      </td> <td>match      </td> <td>match      </td> <td>match      </td> <td>no match   </td> <td>match      </td> <td>match      </td> <td>no match   </td> <td>match      </td> <td>match      </td> <td>no match   </td> <td>no match   </td> <td>C    </td>\n",
       "        </tr>\n",
       "        <tr>\n",
       "            <td>5/7/2020 10:13:05 </td> <td>no match  </td> <td>no match  </td> <td>match     </td> <td>match     </td> <td>no match  </td> <td>no match  </td> <td>no match  </td> <td>match     </td> <td>match     </td> <td>no match   </td> <td>no match   </td> <td>no match   </td> <td>no match   </td> <td>no match   </td> <td>no match   </td> <td>match      </td> <td>match      </td> <td>no match   </td> <td>match      </td> <td>match      </td> <td>no match   </td> <td>match      </td> <td>match      </td> <td>match      </td> <td>match      </td> <td>match      </td> <td>no match   </td> <td>no match   </td> <td>match      </td> <td>match      </td> <td>no match   </td> <td>no match   </td> <td>match      </td> <td>no match   </td> <td>no match   </td> <td>no match   </td> <td>no match   </td> <td>no match   </td> <td>match      </td> <td>match      </td> <td>no match   </td> <td>match      </td> <td>no match   </td> <td>no match   </td> <td>match      </td> <td>no match   </td> <td>match      </td> <td>match      </td> <td>no match   </td> <td>no match   </td> <td>D    </td>\n",
       "        </tr>\n",
       "        <tr>\n",
       "            <td>5/7/2020 13:31:50 </td> <td>no match  </td> <td>match     </td> <td>match     </td> <td>match     </td> <td>match     </td> <td>match     </td> <td>no match  </td> <td>match     </td> <td>match     </td> <td>no match   </td> <td>match      </td> <td>no match   </td> <td>no match   </td> <td>no match   </td> <td>no match   </td> <td>match      </td> <td>match      </td> <td>no match   </td> <td>match      </td> <td>match      </td> <td>no match   </td> <td>match      </td> <td>match      </td> <td>match      </td> <td>match      </td> <td>match      </td> <td>match      </td> <td>no match   </td> <td>match      </td> <td>match      </td> <td>no match   </td> <td>no match   </td> <td>match      </td> <td>match      </td> <td>no match   </td> <td>no match   </td> <td>match      </td> <td>no match   </td> <td>match      </td> <td>match      </td> <td>match      </td> <td>match      </td> <td>match      </td> <td>no match   </td> <td>match      </td> <td>no match   </td> <td>match      </td> <td>match      </td> <td>no match   </td> <td>match      </td> <td>E    </td>\n",
       "        </tr>\n",
       "        <tr>\n",
       "            <td>5/7/2020 21:10:43 </td> <td>no match  </td> <td>match     </td> <td>match     </td> <td>match     </td> <td>match     </td> <td>no match  </td> <td>no match  </td> <td>match     </td> <td>no match  </td> <td>no match   </td> <td>match      </td> <td>no match   </td> <td>match      </td> <td>match      </td> <td>no match   </td> <td>match      </td> <td>match      </td> <td>no match   </td> <td>match      </td> <td>match      </td> <td>match      </td> <td>match      </td> <td>match      </td> <td>match      </td> <td>match      </td> <td>match      </td> <td>no match   </td> <td>no match   </td> <td>no match   </td> <td>match      </td> <td>no match   </td> <td>no match   </td> <td>no match   </td> <td>match      </td> <td>no match   </td> <td>no match   </td> <td>match      </td> <td>no match   </td> <td>match      </td> <td>match      </td> <td>match      </td> <td>match      </td> <td>match      </td> <td>no match   </td> <td>match      </td> <td>no match   </td> <td>match      </td> <td>match      </td> <td>match      </td> <td>no match   </td> <td>F    </td>\n",
       "        </tr>\n",
       "        <tr>\n",
       "            <td>5/8/2020 20:11:18 </td> <td>no match  </td> <td>match     </td> <td>match     </td> <td>match     </td> <td>no match  </td> <td>no match  </td> <td>no match  </td> <td>match     </td> <td>no match  </td> <td>no match   </td> <td>match      </td> <td>no match   </td> <td>no match   </td> <td>no match   </td> <td>no match   </td> <td>match      </td> <td>match      </td> <td>no match   </td> <td>match      </td> <td>match      </td> <td>no match   </td> <td>match      </td> <td>match      </td> <td>match      </td> <td>match      </td> <td>no match   </td> <td>no match   </td> <td>no match   </td> <td>no match   </td> <td>match      </td> <td>no match   </td> <td>no match   </td> <td>no match   </td> <td>match      </td> <td>no match   </td> <td>no match   </td> <td>no match   </td> <td>no match   </td> <td>match      </td> <td>no match   </td> <td>no match   </td> <td>match      </td> <td>no match   </td> <td>no match   </td> <td>match      </td> <td>match      </td> <td>match      </td> <td>no match   </td> <td>no match   </td> <td>no match   </td> <td>G    </td>\n",
       "        </tr>\n",
       "        <tr>\n",
       "            <td>5/8/2020 23:24:03 </td> <td>no match  </td> <td>match     </td> <td>match     </td> <td>match     </td> <td>no match  </td> <td>no match  </td> <td>no match  </td> <td>no match  </td> <td>no match  </td> <td>match      </td> <td>no match   </td> <td>no match   </td> <td>no match   </td> <td>no match   </td> <td>match      </td> <td>match      </td> <td>match      </td> <td>no match   </td> <td>no match   </td> <td>match      </td> <td>no match   </td> <td>match      </td> <td>match      </td> <td>match      </td> <td>match      </td> <td>match      </td> <td>match      </td> <td>no match   </td> <td>match      </td> <td>match      </td> <td>no match   </td> <td>match      </td> <td>no match   </td> <td>match      </td> <td>no match   </td> <td>no match   </td> <td>no match   </td> <td>no match   </td> <td>match      </td> <td>match      </td> <td>no match   </td> <td>match      </td> <td>match      </td> <td>match      </td> <td>no match   </td> <td>no match   </td> <td>match      </td> <td>no match   </td> <td>no match   </td> <td>no match   </td> <td>H    </td>\n",
       "        </tr>\n",
       "        <tr>\n",
       "            <td>6/10/2020 9:12:17 </td> <td>no match  </td> <td>match     </td> <td>match     </td> <td>no match  </td> <td>no match  </td> <td>no match  </td> <td>no match  </td> <td>match     </td> <td>no match  </td> <td>no match   </td> <td>no match   </td> <td>no match   </td> <td>no match   </td> <td>no match   </td> <td>no match   </td> <td>match      </td> <td>match      </td> <td>no match   </td> <td>match      </td> <td>match      </td> <td>match      </td> <td>match      </td> <td>match      </td> <td>match      </td> <td>match      </td> <td>no match   </td> <td>no match   </td> <td>match      </td> <td>match      </td> <td>match      </td> <td>no match   </td> <td>no match   </td> <td>no match   </td> <td>no match   </td> <td>no match   </td> <td>no match   </td> <td>match      </td> <td>no match   </td> <td>match      </td> <td>match      </td> <td>match      </td> <td>match      </td> <td>no match   </td> <td>match      </td> <td>no match   </td> <td>no match   </td> <td>match      </td> <td>no match   </td> <td>no match   </td> <td>match      </td> <td>I    </td>\n",
       "        </tr>\n",
       "        <tr>\n",
       "            <td>6/11/2020 11:51:34</td> <td>no match  </td> <td>match     </td> <td>match     </td> <td>match     </td> <td>no match  </td> <td>no match  </td> <td>no match  </td> <td>match     </td> <td>match     </td> <td>match      </td> <td>match      </td> <td>no match   </td> <td>no match   </td> <td>no match   </td> <td>no match   </td> <td>match      </td> <td>match      </td> <td>no match   </td> <td>match      </td> <td>match      </td> <td>no match   </td> <td>match      </td> <td>match      </td> <td>match      </td> <td>match      </td> <td>match      </td> <td>no match   </td> <td>match      </td> <td>match      </td> <td>match      </td> <td>no match   </td> <td>no match   </td> <td>match      </td> <td>match      </td> <td>match      </td> <td>no match   </td> <td>match      </td> <td>no match   </td> <td>match      </td> <td>match      </td> <td>match      </td> <td>match      </td> <td>match      </td> <td>match      </td> <td>match      </td> <td>match      </td> <td>match      </td> <td>match      </td> <td>no match   </td> <td>match      </td> <td>J    </td>\n",
       "        </tr>\n",
       "    </tbody>\n",
       "</table>\n",
       "<p>... (12 rows omitted)</p>"
      ],
      "text/plain": [
       "Timestamp          | Unnamed: 1 | Unnamed: 2 | Unnamed: 3 | Unnamed: 4 | Unnamed: 5 | Unnamed: 6 | Unnamed: 7 | Unnamed: 8 | Unnamed: 9 | Unnamed: 10 | Unnamed: 11 | Unnamed: 12 | Unnamed: 13 | Unnamed: 14 | Unnamed: 15 | Unnamed: 16 | Unnamed: 17 | Unnamed: 18 | Unnamed: 19 | Unnamed: 20 | Unnamed: 21 | Unnamed: 22 | Unnamed: 23 | Unnamed: 24 | Unnamed: 25 | Unnamed: 26 | Unnamed: 27 | Unnamed: 28 | Unnamed: 29 | Unnamed: 30 | Unnamed: 31 | Unnamed: 32 | Unnamed: 33 | Unnamed: 34 | Unnamed: 35 | Unnamed: 36 | Unnamed: 37 | Unnamed: 38 | Unnamed: 39 | Unnamed: 40 | Unnamed: 41 | Unnamed: 42 | Unnamed: 43 | Unnamed: 44 | Unnamed: 45 | Unnamed: 46 | Unnamed: 47 | Unnamed: 48 | Unnamed: 49 | Unnamed: 50 | label\n",
       "4/26/2020 23:40:38 | no match   | match      | match      | no match   | no match   | match      | no match   | match      | match      | no match    | match       | no match    | no match    | no match    | match       | match       | match       | no match    | match       | no match    | no match    | match       | match       | match       | match       | match       | no match    | no match    | match       | match       | no match    | no match    | no match    | no match    | no match    | match       | no match    | no match    | match       | match       | match       | match       | no match    | no match    | match       | no match    | no match    | match       | match       | match       | A\n",
       "4/27/2020 3:36:17  | no match   | match      | match      | match      | no match   | no match   | no match   | match      | no match   | match       | match       | no match    | no match    | no match    | no match    | match       | match       | no match    | match       | match       | no match    | match       | match       | match       | match       | match       | no match    | no match    | match       | match       | no match    | match       | match       | match       | no match    | no match    | match       | no match    | match       | match       | no match    | match       | no match    | no match    | match       | no match    | match       | no match    | no match    | no match    | B\n",
       "5/7/2020 2:46:27   | no match   | match      | match      | match      | match      | match      | no match   | match      | match      | match       | match       | match       | no match    | no match    | no match    | match       | match       | no match    | match       | no match    | no match    | match       | match       | match       | match       | match       | no match    | no match    | match       | match       | no match    | match       | match       | match       | match       | no match    | match       | no match    | match       | match       | match       | match       | no match    | match       | match       | no match    | match       | match       | no match    | no match    | C\n",
       "5/7/2020 10:13:05  | no match   | no match   | match      | match      | no match   | no match   | no match   | match      | match      | no match    | no match    | no match    | no match    | no match    | no match    | match       | match       | no match    | match       | match       | no match    | match       | match       | match       | match       | match       | no match    | no match    | match       | match       | no match    | no match    | match       | no match    | no match    | no match    | no match    | no match    | match       | match       | no match    | match       | no match    | no match    | match       | no match    | match       | match       | no match    | no match    | D\n",
       "5/7/2020 13:31:50  | no match   | match      | match      | match      | match      | match      | no match   | match      | match      | no match    | match       | no match    | no match    | no match    | no match    | match       | match       | no match    | match       | match       | no match    | match       | match       | match       | match       | match       | match       | no match    | match       | match       | no match    | no match    | match       | match       | no match    | no match    | match       | no match    | match       | match       | match       | match       | match       | no match    | match       | no match    | match       | match       | no match    | match       | E\n",
       "5/7/2020 21:10:43  | no match   | match      | match      | match      | match      | no match   | no match   | match      | no match   | no match    | match       | no match    | match       | match       | no match    | match       | match       | no match    | match       | match       | match       | match       | match       | match       | match       | match       | no match    | no match    | no match    | match       | no match    | no match    | no match    | match       | no match    | no match    | match       | no match    | match       | match       | match       | match       | match       | no match    | match       | no match    | match       | match       | match       | no match    | F\n",
       "5/8/2020 20:11:18  | no match   | match      | match      | match      | no match   | no match   | no match   | match      | no match   | no match    | match       | no match    | no match    | no match    | no match    | match       | match       | no match    | match       | match       | no match    | match       | match       | match       | match       | no match    | no match    | no match    | no match    | match       | no match    | no match    | no match    | match       | no match    | no match    | no match    | no match    | match       | no match    | no match    | match       | no match    | no match    | match       | match       | match       | no match    | no match    | no match    | G\n",
       "5/8/2020 23:24:03  | no match   | match      | match      | match      | no match   | no match   | no match   | no match   | no match   | match       | no match    | no match    | no match    | no match    | match       | match       | match       | no match    | no match    | match       | no match    | match       | match       | match       | match       | match       | match       | no match    | match       | match       | no match    | match       | no match    | match       | no match    | no match    | no match    | no match    | match       | match       | no match    | match       | match       | match       | no match    | no match    | match       | no match    | no match    | no match    | H\n",
       "6/10/2020 9:12:17  | no match   | match      | match      | no match   | no match   | no match   | no match   | match      | no match   | no match    | no match    | no match    | no match    | no match    | no match    | match       | match       | no match    | match       | match       | match       | match       | match       | match       | match       | no match    | no match    | match       | match       | match       | no match    | no match    | no match    | no match    | no match    | no match    | match       | no match    | match       | match       | match       | match       | no match    | match       | no match    | no match    | match       | no match    | no match    | match       | I\n",
       "6/11/2020 11:51:34 | no match   | match      | match      | match      | no match   | no match   | no match   | match      | match      | match       | match       | no match    | no match    | no match    | no match    | match       | match       | no match    | match       | match       | no match    | match       | match       | match       | match       | match       | no match    | match       | match       | match       | no match    | no match    | match       | match       | match       | no match    | match       | no match    | match       | match       | match       | match       | match       | match       | match       | match       | match       | match       | no match    | match       | J\n",
       "... (12 rows omitted)"
      ]
     },
     "execution_count": 120,
     "metadata": {},
     "output_type": "execute_result"
    }
   ],
   "source": [
    "Bres"
   ]
  },
  {
   "cell_type": "code",
   "execution_count": 121,
   "metadata": {},
   "outputs": [
    {
     "data": {
      "text/html": [
       "<table border=\"1\" class=\"dataframe\">\n",
       "    <thead>\n",
       "        <tr>\n",
       "            <th>Timestamp</th> <th>Unnamed: 1</th> <th>Unnamed: 2</th> <th>Unnamed: 3</th> <th>Unnamed: 4</th> <th>Unnamed: 5</th> <th>Unnamed: 6</th> <th>Unnamed: 7</th> <th>Unnamed: 8</th> <th>Unnamed: 9</th> <th>Unnamed: 10</th> <th>Unnamed: 11</th> <th>Unnamed: 12</th> <th>Unnamed: 13</th> <th>Unnamed: 14</th> <th>Unnamed: 15</th> <th>Unnamed: 16</th> <th>Unnamed: 17</th> <th>Unnamed: 18</th> <th>Unnamed: 19</th> <th>Unnamed: 20</th> <th>Unnamed: 21</th> <th>Unnamed: 22</th> <th>Unnamed: 23</th> <th>Unnamed: 24</th> <th>Unnamed: 25</th> <th>Unnamed: 26</th> <th>Unnamed: 27</th> <th>Unnamed: 28</th> <th>Unnamed: 29</th> <th>Unnamed: 30</th> <th>Unnamed: 31</th> <th>Unnamed: 32</th> <th>Unnamed: 33</th> <th>Unnamed: 34</th> <th>Unnamed: 35</th> <th>Unnamed: 36</th> <th>Unnamed: 37</th> <th>Unnamed: 38</th> <th>Unnamed: 39</th> <th>Unnamed: 40</th> <th>Unnamed: 41</th> <th>Unnamed: 42</th> <th>Unnamed: 43</th> <th>Unnamed: 44</th> <th>Unnamed: 45</th> <th>Unnamed: 46</th> <th>Unnamed: 47</th> <th>Unnamed: 48</th> <th>Unnamed: 49</th> <th>Unnamed: 50</th> <th>label</th>\n",
       "        </tr>\n",
       "    </thead>\n",
       "    <tbody>\n",
       "        <tr>\n",
       "            <td>4/26/2020 23:43:45</td> <td>no match  </td> <td>no match  </td> <td>match     </td> <td>match     </td> <td>match     </td> <td>match     </td> <td>no match  </td> <td>match     </td> <td>no match  </td> <td>no match   </td> <td>match      </td> <td>no match   </td> <td>no match   </td> <td>no match   </td> <td>no match   </td> <td>match      </td> <td>nan        </td> <td>no match   </td> <td>no match   </td> <td>match      </td> <td>no match   </td> <td>no match   </td> <td>match      </td> <td>match      </td> <td>match      </td> <td>no match   </td> <td>no match   </td> <td>no match   </td> <td>no match   </td> <td>no match   </td> <td>no match   </td> <td>match      </td> <td>match      </td> <td>match      </td> <td>no match   </td> <td>no match   </td> <td>no match   </td> <td>no match   </td> <td>match      </td> <td>nan        </td> <td>match      </td> <td>match      </td> <td>no match   </td> <td>no match   </td> <td>no match   </td> <td>no match   </td> <td>match      </td> <td>match      </td> <td>match      </td> <td>no match   </td> <td>a    </td>\n",
       "        </tr>\n",
       "        <tr>\n",
       "            <td>5/9/2020 19:34:14 </td> <td>no match  </td> <td>match     </td> <td>match     </td> <td>match     </td> <td>no match  </td> <td>no match  </td> <td>no match  </td> <td>no match  </td> <td>no match  </td> <td>match      </td> <td>no match   </td> <td>no match   </td> <td>no match   </td> <td>no match   </td> <td>no match   </td> <td>match      </td> <td>match      </td> <td>no match   </td> <td>match      </td> <td>match      </td> <td>no match   </td> <td>match      </td> <td>match      </td> <td>match      </td> <td>match      </td> <td>match      </td> <td>no match   </td> <td>no match   </td> <td>match      </td> <td>match      </td> <td>no match   </td> <td>no match   </td> <td>match      </td> <td>match      </td> <td>no match   </td> <td>no match   </td> <td>match      </td> <td>no match   </td> <td>match      </td> <td>match      </td> <td>no match   </td> <td>no match   </td> <td>no match   </td> <td>no match   </td> <td>no match   </td> <td>no match   </td> <td>no match   </td> <td>match      </td> <td>no match   </td> <td>no match   </td> <td>b    </td>\n",
       "        </tr>\n",
       "        <tr>\n",
       "            <td>6/11/2020 12:01:40</td> <td>no match  </td> <td>no match  </td> <td>match     </td> <td>match     </td> <td>no match  </td> <td>no match  </td> <td>no match  </td> <td>no match  </td> <td>no match  </td> <td>match      </td> <td>match      </td> <td>no match   </td> <td>no match   </td> <td>no match   </td> <td>no match   </td> <td>match      </td> <td>match      </td> <td>no match   </td> <td>no match   </td> <td>no match   </td> <td>no match   </td> <td>match      </td> <td>match      </td> <td>match      </td> <td>match      </td> <td>match      </td> <td>no match   </td> <td>no match   </td> <td>match      </td> <td>match      </td> <td>no match   </td> <td>no match   </td> <td>match      </td> <td>match      </td> <td>no match   </td> <td>no match   </td> <td>match      </td> <td>no match   </td> <td>no match   </td> <td>match      </td> <td>match      </td> <td>match      </td> <td>no match   </td> <td>no match   </td> <td>match      </td> <td>match      </td> <td>no match   </td> <td>match      </td> <td>no match   </td> <td>no match   </td> <td>c    </td>\n",
       "        </tr>\n",
       "        <tr>\n",
       "            <td>6/15/2020 19:23:33</td> <td>no match  </td> <td>match     </td> <td>match     </td> <td>match     </td> <td>match     </td> <td>no match  </td> <td>no match  </td> <td>match     </td> <td>no match  </td> <td>match      </td> <td>match      </td> <td>no match   </td> <td>match      </td> <td>no match   </td> <td>match      </td> <td>match      </td> <td>match      </td> <td>no match   </td> <td>match      </td> <td>match      </td> <td>match      </td> <td>match      </td> <td>match      </td> <td>match      </td> <td>match      </td> <td>match      </td> <td>no match   </td> <td>match      </td> <td>match      </td> <td>match      </td> <td>no match   </td> <td>no match   </td> <td>match      </td> <td>match      </td> <td>no match   </td> <td>no match   </td> <td>match      </td> <td>no match   </td> <td>match      </td> <td>match      </td> <td>match      </td> <td>match      </td> <td>match      </td> <td>no match   </td> <td>match      </td> <td>no match   </td> <td>match      </td> <td>match      </td> <td>no match   </td> <td>no match   </td> <td>d    </td>\n",
       "        </tr>\n",
       "        <tr>\n",
       "            <td>6/15/2020 19:25:14</td> <td>match     </td> <td>no match  </td> <td>match     </td> <td>no match  </td> <td>match     </td> <td>match     </td> <td>no match  </td> <td>no match  </td> <td>no match  </td> <td>match      </td> <td>match      </td> <td>match      </td> <td>no match   </td> <td>no match   </td> <td>no match   </td> <td>no match   </td> <td>match      </td> <td>no match   </td> <td>no match   </td> <td>match      </td> <td>no match   </td> <td>match      </td> <td>match      </td> <td>match      </td> <td>no match   </td> <td>match      </td> <td>no match   </td> <td>no match   </td> <td>match      </td> <td>match      </td> <td>match      </td> <td>match      </td> <td>no match   </td> <td>no match   </td> <td>match      </td> <td>no match   </td> <td>match      </td> <td>no match   </td> <td>match      </td> <td>no match   </td> <td>no match   </td> <td>no match   </td> <td>no match   </td> <td>match      </td> <td>no match   </td> <td>match      </td> <td>match      </td> <td>match      </td> <td>match      </td> <td>no match   </td> <td>e    </td>\n",
       "        </tr>\n",
       "        <tr>\n",
       "            <td>6/15/2020 19:41:50</td> <td>match     </td> <td>match     </td> <td>match     </td> <td>match     </td> <td>no match  </td> <td>no match  </td> <td>no match  </td> <td>no match  </td> <td>no match  </td> <td>no match   </td> <td>match      </td> <td>no match   </td> <td>no match   </td> <td>no match   </td> <td>no match   </td> <td>match      </td> <td>match      </td> <td>no match   </td> <td>match      </td> <td>match      </td> <td>no match   </td> <td>match      </td> <td>match      </td> <td>match      </td> <td>match      </td> <td>match      </td> <td>no match   </td> <td>match      </td> <td>no match   </td> <td>match      </td> <td>no match   </td> <td>no match   </td> <td>no match   </td> <td>match      </td> <td>match      </td> <td>no match   </td> <td>match      </td> <td>no match   </td> <td>match      </td> <td>no match   </td> <td>no match   </td> <td>no match   </td> <td>no match   </td> <td>no match   </td> <td>match      </td> <td>no match   </td> <td>match      </td> <td>match      </td> <td>no match   </td> <td>match      </td> <td>f    </td>\n",
       "        </tr>\n",
       "        <tr>\n",
       "            <td>6/15/2020 19:49:12</td> <td>no match  </td> <td>match     </td> <td>match     </td> <td>no match  </td> <td>match     </td> <td>match     </td> <td>match     </td> <td>match     </td> <td>no match  </td> <td>no match   </td> <td>no match   </td> <td>no match   </td> <td>no match   </td> <td>no match   </td> <td>no match   </td> <td>match      </td> <td>match      </td> <td>no match   </td> <td>match      </td> <td>match      </td> <td>no match   </td> <td>match      </td> <td>match      </td> <td>match      </td> <td>match      </td> <td>match      </td> <td>match      </td> <td>match      </td> <td>match      </td> <td>match      </td> <td>no match   </td> <td>match      </td> <td>match      </td> <td>match      </td> <td>no match   </td> <td>no match   </td> <td>match      </td> <td>no match   </td> <td>match      </td> <td>match      </td> <td>match      </td> <td>match      </td> <td>match      </td> <td>no match   </td> <td>match      </td> <td>no match   </td> <td>match      </td> <td>match      </td> <td>match      </td> <td>match      </td> <td>g    </td>\n",
       "        </tr>\n",
       "        <tr>\n",
       "            <td>6/15/2020 20:22:31</td> <td>no match  </td> <td>match     </td> <td>match     </td> <td>match     </td> <td>no match  </td> <td>match     </td> <td>no match  </td> <td>no match  </td> <td>no match  </td> <td>match      </td> <td>match      </td> <td>no match   </td> <td>no match   </td> <td>no match   </td> <td>match      </td> <td>no match   </td> <td>match      </td> <td>match      </td> <td>no match   </td> <td>match      </td> <td>no match   </td> <td>no match   </td> <td>match      </td> <td>match      </td> <td>match      </td> <td>no match   </td> <td>no match   </td> <td>no match   </td> <td>match      </td> <td>match      </td> <td>no match   </td> <td>no match   </td> <td>no match   </td> <td>match      </td> <td>no match   </td> <td>no match   </td> <td>match      </td> <td>no match   </td> <td>no match   </td> <td>no match   </td> <td>match      </td> <td>no match   </td> <td>no match   </td> <td>no match   </td> <td>no match   </td> <td>no match   </td> <td>match      </td> <td>match      </td> <td>no match   </td> <td>no match   </td> <td>h    </td>\n",
       "        </tr>\n",
       "        <tr>\n",
       "            <td>6/15/2020 21:10:22</td> <td>no match  </td> <td>no match  </td> <td>match     </td> <td>match     </td> <td>match     </td> <td>no match  </td> <td>no match  </td> <td>no match  </td> <td>no match  </td> <td>no match   </td> <td>match      </td> <td>no match   </td> <td>no match   </td> <td>no match   </td> <td>no match   </td> <td>no match   </td> <td>match      </td> <td>match      </td> <td>match      </td> <td>no match   </td> <td>no match   </td> <td>no match   </td> <td>match      </td> <td>match      </td> <td>no match   </td> <td>no match   </td> <td>no match   </td> <td>no match   </td> <td>match      </td> <td>match      </td> <td>match      </td> <td>no match   </td> <td>match      </td> <td>match      </td> <td>match      </td> <td>no match   </td> <td>match      </td> <td>match      </td> <td>match      </td> <td>no match   </td> <td>no match   </td> <td>no match   </td> <td>match      </td> <td>no match   </td> <td>match      </td> <td>no match   </td> <td>no match   </td> <td>match      </td> <td>no match   </td> <td>match      </td> <td>i    </td>\n",
       "        </tr>\n",
       "        <tr>\n",
       "            <td>6/15/2020 21:12:37</td> <td>no match  </td> <td>match     </td> <td>no match  </td> <td>no match  </td> <td>match     </td> <td>match     </td> <td>no match  </td> <td>no match  </td> <td>no match  </td> <td>no match   </td> <td>match      </td> <td>no match   </td> <td>no match   </td> <td>no match   </td> <td>no match   </td> <td>match      </td> <td>match      </td> <td>no match   </td> <td>match      </td> <td>match      </td> <td>no match   </td> <td>no match   </td> <td>match      </td> <td>match      </td> <td>no match   </td> <td>match      </td> <td>no match   </td> <td>no match   </td> <td>no match   </td> <td>match      </td> <td>match      </td> <td>no match   </td> <td>match      </td> <td>match      </td> <td>match      </td> <td>no match   </td> <td>no match   </td> <td>no match   </td> <td>match      </td> <td>match      </td> <td>match      </td> <td>no match   </td> <td>no match   </td> <td>no match   </td> <td>match      </td> <td>match      </td> <td>match      </td> <td>no match   </td> <td>no match   </td> <td>no match   </td> <td>j    </td>\n",
       "        </tr>\n",
       "        <tr>\n",
       "            <td>6/15/2020 21:23:38</td> <td>no match  </td> <td>no match  </td> <td>no match  </td> <td>match     </td> <td>no match  </td> <td>no match  </td> <td>no match  </td> <td>no match  </td> <td>no match  </td> <td>no match   </td> <td>match      </td> <td>no match   </td> <td>no match   </td> <td>no match   </td> <td>no match   </td> <td>match      </td> <td>match      </td> <td>no match   </td> <td>match      </td> <td>match      </td> <td>no match   </td> <td>match      </td> <td>match      </td> <td>match      </td> <td>match      </td> <td>match      </td> <td>no match   </td> <td>no match   </td> <td>match      </td> <td>match      </td> <td>no match   </td> <td>no match   </td> <td>no match   </td> <td>no match   </td> <td>no match   </td> <td>no match   </td> <td>no match   </td> <td>no match   </td> <td>match      </td> <td>match      </td> <td>no match   </td> <td>no match   </td> <td>no match   </td> <td>no match   </td> <td>no match   </td> <td>no match   </td> <td>match      </td> <td>match      </td> <td>no match   </td> <td>no match   </td> <td>k    </td>\n",
       "        </tr>\n",
       "        <tr>\n",
       "            <td>6/16/2020 0:03:42 </td> <td>no match  </td> <td>match     </td> <td>match     </td> <td>match     </td> <td>no match  </td> <td>match     </td> <td>no match  </td> <td>match     </td> <td>match     </td> <td>no match   </td> <td>match      </td> <td>match      </td> <td>no match   </td> <td>match      </td> <td>match      </td> <td>match      </td> <td>match      </td> <td>no match   </td> <td>match      </td> <td>match      </td> <td>match      </td> <td>match      </td> <td>match      </td> <td>match      </td> <td>no match   </td> <td>match      </td> <td>match      </td> <td>match      </td> <td>match      </td> <td>match      </td> <td>no match   </td> <td>match      </td> <td>match      </td> <td>match      </td> <td>match      </td> <td>match      </td> <td>match      </td> <td>no match   </td> <td>match      </td> <td>match      </td> <td>match      </td> <td>match      </td> <td>match      </td> <td>no match   </td> <td>no match   </td> <td>no match   </td> <td>match      </td> <td>match      </td> <td>no match   </td> <td>match      </td> <td>l    </td>\n",
       "        </tr>\n",
       "        <tr>\n",
       "            <td>6/16/2020 9:47:02 </td> <td>no match  </td> <td>match     </td> <td>match     </td> <td>match     </td> <td>match     </td> <td>match     </td> <td>match     </td> <td>no match  </td> <td>match     </td> <td>no match   </td> <td>match      </td> <td>no match   </td> <td>match      </td> <td>no match   </td> <td>match      </td> <td>match      </td> <td>match      </td> <td>match      </td> <td>match      </td> <td>match      </td> <td>match      </td> <td>match      </td> <td>match      </td> <td>match      </td> <td>match      </td> <td>match      </td> <td>no match   </td> <td>no match   </td> <td>match      </td> <td>match      </td> <td>no match   </td> <td>match      </td> <td>match      </td> <td>no match   </td> <td>match      </td> <td>match      </td> <td>match      </td> <td>match      </td> <td>match      </td> <td>match      </td> <td>match      </td> <td>match      </td> <td>match      </td> <td>match      </td> <td>match      </td> <td>match      </td> <td>match      </td> <td>match      </td> <td>match      </td> <td>match      </td> <td>m    </td>\n",
       "        </tr>\n",
       "        <tr>\n",
       "            <td>6/16/2020 12:29:40</td> <td>no match  </td> <td>match     </td> <td>match     </td> <td>match     </td> <td>no match  </td> <td>no match  </td> <td>no match  </td> <td>no match  </td> <td>match     </td> <td>no match   </td> <td>match      </td> <td>match      </td> <td>no match   </td> <td>no match   </td> <td>no match   </td> <td>match      </td> <td>match      </td> <td>no match   </td> <td>match      </td> <td>no match   </td> <td>no match   </td> <td>match      </td> <td>match      </td> <td>match      </td> <td>match      </td> <td>match      </td> <td>no match   </td> <td>match      </td> <td>match      </td> <td>match      </td> <td>no match   </td> <td>no match   </td> <td>match      </td> <td>match      </td> <td>no match   </td> <td>no match   </td> <td>match      </td> <td>no match   </td> <td>match      </td> <td>match      </td> <td>no match   </td> <td>no match   </td> <td>match      </td> <td>no match   </td> <td>match      </td> <td>match      </td> <td>match      </td> <td>match      </td> <td>no match   </td> <td>no match   </td> <td>n    </td>\n",
       "        </tr>\n",
       "        <tr>\n",
       "            <td>6/16/2020 23:35:25</td> <td>no match  </td> <td>no match  </td> <td>match     </td> <td>match     </td> <td>no match  </td> <td>match     </td> <td>no match  </td> <td>match     </td> <td>match     </td> <td>no match   </td> <td>match      </td> <td>no match   </td> <td>no match   </td> <td>no match   </td> <td>no match   </td> <td>no match   </td> <td>match      </td> <td>match      </td> <td>match      </td> <td>match      </td> <td>match      </td> <td>match      </td> <td>match      </td> <td>match      </td> <td>match      </td> <td>match      </td> <td>match      </td> <td>no match   </td> <td>match      </td> <td>match      </td> <td>no match   </td> <td>match      </td> <td>match      </td> <td>match      </td> <td>match      </td> <td>match      </td> <td>no match   </td> <td>no match   </td> <td>match      </td> <td>match      </td> <td>match      </td> <td>no match   </td> <td>match      </td> <td>match      </td> <td>match      </td> <td>match      </td> <td>match      </td> <td>match      </td> <td>no match   </td> <td>no match   </td> <td>o    </td>\n",
       "        </tr>\n",
       "        <tr>\n",
       "            <td>6/18/2020 15:45:25</td> <td>no match  </td> <td>match     </td> <td>match     </td> <td>match     </td> <td>no match  </td> <td>match     </td> <td>no match  </td> <td>match     </td> <td>no match  </td> <td>no match   </td> <td>match      </td> <td>no match   </td> <td>match      </td> <td>no match   </td> <td>no match   </td> <td>match      </td> <td>match      </td> <td>no match   </td> <td>match      </td> <td>match      </td> <td>no match   </td> <td>match      </td> <td>match      </td> <td>match      </td> <td>match      </td> <td>match      </td> <td>match      </td> <td>no match   </td> <td>match      </td> <td>match      </td> <td>no match   </td> <td>no match   </td> <td>match      </td> <td>match      </td> <td>no match   </td> <td>no match   </td> <td>match      </td> <td>match      </td> <td>match      </td> <td>match      </td> <td>match      </td> <td>match      </td> <td>no match   </td> <td>no match   </td> <td>match      </td> <td>no match   </td> <td>match      </td> <td>no match   </td> <td>no match   </td> <td>no match   </td> <td>p    </td>\n",
       "        </tr>\n",
       "        <tr>\n",
       "            <td>2/20/2021 21:30:47</td> <td>no match  </td> <td>match     </td> <td>match     </td> <td>match     </td> <td>no match  </td> <td>no match  </td> <td>no match  </td> <td>no match  </td> <td>match     </td> <td>match      </td> <td>no match   </td> <td>no match   </td> <td>nan        </td> <td>no match   </td> <td>no match   </td> <td>match      </td> <td>match      </td> <td>no match   </td> <td>match      </td> <td>no match   </td> <td>no match   </td> <td>match      </td> <td>match      </td> <td>match      </td> <td>no match   </td> <td>no match   </td> <td>no match   </td> <td>match      </td> <td>match      </td> <td>match      </td> <td>match      </td> <td>no match   </td> <td>no match   </td> <td>match      </td> <td>match      </td> <td>no match   </td> <td>no match   </td> <td>no match   </td> <td>match      </td> <td>no match   </td> <td>match      </td> <td>no match   </td> <td>no match   </td> <td>no match   </td> <td>no match   </td> <td>match      </td> <td>match      </td> <td>no match   </td> <td>no match   </td> <td>no match   </td> <td>q    </td>\n",
       "        </tr>\n",
       "        <tr>\n",
       "            <td>2/20/2021 22:44:59</td> <td>no match  </td> <td>match     </td> <td>match     </td> <td>match     </td> <td>no match  </td> <td>no match  </td> <td>no match  </td> <td>no match  </td> <td>no match  </td> <td>match      </td> <td>match      </td> <td>no match   </td> <td>no match   </td> <td>no match   </td> <td>no match   </td> <td>match      </td> <td>match      </td> <td>no match   </td> <td>no match   </td> <td>match      </td> <td>no match   </td> <td>match      </td> <td>match      </td> <td>match      </td> <td>match      </td> <td>match      </td> <td>no match   </td> <td>match      </td> <td>match      </td> <td>match      </td> <td>no match   </td> <td>no match   </td> <td>no match   </td> <td>no match   </td> <td>no match   </td> <td>no match   </td> <td>match      </td> <td>no match   </td> <td>match      </td> <td>match      </td> <td>no match   </td> <td>match      </td> <td>match      </td> <td>no match   </td> <td>match      </td> <td>no match   </td> <td>match      </td> <td>no match   </td> <td>no match   </td> <td>no match   </td> <td>r    </td>\n",
       "        </tr>\n",
       "        <tr>\n",
       "            <td>2/20/2021 22:58:37</td> <td>no match  </td> <td>match     </td> <td>match     </td> <td>match     </td> <td>no match  </td> <td>no match  </td> <td>no match  </td> <td>no match  </td> <td>no match  </td> <td>no match   </td> <td>match      </td> <td>no match   </td> <td>no match   </td> <td>no match   </td> <td>no match   </td> <td>match      </td> <td>match      </td> <td>no match   </td> <td>match      </td> <td>match      </td> <td>no match   </td> <td>match      </td> <td>match      </td> <td>match      </td> <td>match      </td> <td>match      </td> <td>no match   </td> <td>no match   </td> <td>match      </td> <td>match      </td> <td>no match   </td> <td>match      </td> <td>no match   </td> <td>match      </td> <td>no match   </td> <td>no match   </td> <td>match      </td> <td>no match   </td> <td>match      </td> <td>match      </td> <td>no match   </td> <td>match      </td> <td>no match   </td> <td>no match   </td> <td>match      </td> <td>no match   </td> <td>match      </td> <td>match      </td> <td>no match   </td> <td>no match   </td> <td>s    </td>\n",
       "        </tr>\n",
       "        <tr>\n",
       "            <td>2/21/2021 4:13:23 </td> <td>no match  </td> <td>match     </td> <td>match     </td> <td>no match  </td> <td>no match  </td> <td>no match  </td> <td>no match  </td> <td>no match  </td> <td>no match  </td> <td>match      </td> <td>match      </td> <td>no match   </td> <td>no match   </td> <td>no match   </td> <td>no match   </td> <td>no match   </td> <td>match      </td> <td>no match   </td> <td>match      </td> <td>match      </td> <td>no match   </td> <td>match      </td> <td>match      </td> <td>match      </td> <td>match      </td> <td>match      </td> <td>no match   </td> <td>no match   </td> <td>match      </td> <td>match      </td> <td>no match   </td> <td>no match   </td> <td>no match   </td> <td>match      </td> <td>no match   </td> <td>no match   </td> <td>match      </td> <td>no match   </td> <td>match      </td> <td>match      </td> <td>no match   </td> <td>match      </td> <td>no match   </td> <td>match      </td> <td>match      </td> <td>no match   </td> <td>match      </td> <td>no match   </td> <td>no match   </td> <td>no match   </td> <td>t    </td>\n",
       "        </tr>\n",
       "        <tr>\n",
       "            <td>2/21/2021 7:30:38 </td> <td>no match  </td> <td>match     </td> <td>match     </td> <td>match     </td> <td>match     </td> <td>match     </td> <td>match     </td> <td>match     </td> <td>match     </td> <td>match      </td> <td>match      </td> <td>no match   </td> <td>no match   </td> <td>no match   </td> <td>match      </td> <td>match      </td> <td>match      </td> <td>match      </td> <td>match      </td> <td>match      </td> <td>match      </td> <td>match      </td> <td>match      </td> <td>match      </td> <td>match      </td> <td>match      </td> <td>match      </td> <td>match      </td> <td>match      </td> <td>match      </td> <td>no match   </td> <td>match      </td> <td>match      </td> <td>match      </td> <td>match      </td> <td>no match   </td> <td>match      </td> <td>no match   </td> <td>match      </td> <td>match      </td> <td>match      </td> <td>no match   </td> <td>match      </td> <td>no match   </td> <td>match      </td> <td>match      </td> <td>match      </td> <td>match      </td> <td>match      </td> <td>match      </td> <td>u    </td>\n",
       "        </tr>\n",
       "        <tr>\n",
       "            <td>2/21/2021 11:17:10</td> <td>no match  </td> <td>match     </td> <td>match     </td> <td>match     </td> <td>no match  </td> <td>no match  </td> <td>no match  </td> <td>no match  </td> <td>no match  </td> <td>match      </td> <td>match      </td> <td>no match   </td> <td>no match   </td> <td>no match   </td> <td>no match   </td> <td>match      </td> <td>match      </td> <td>no match   </td> <td>match      </td> <td>match      </td> <td>no match   </td> <td>match      </td> <td>match      </td> <td>match      </td> <td>match      </td> <td>match      </td> <td>no match   </td> <td>no match   </td> <td>match      </td> <td>match      </td> <td>no match   </td> <td>no match   </td> <td>no match   </td> <td>match      </td> <td>no match   </td> <td>no match   </td> <td>no match   </td> <td>no match   </td> <td>match      </td> <td>match      </td> <td>no match   </td> <td>match      </td> <td>no match   </td> <td>no match   </td> <td>no match   </td> <td>no match   </td> <td>match      </td> <td>no match   </td> <td>no match   </td> <td>no match   </td> <td>v    </td>\n",
       "        </tr>\n",
       "    </tbody>\n",
       "</table>"
      ],
      "text/plain": [
       "<IPython.core.display.HTML object>"
      ]
     },
     "metadata": {},
     "output_type": "display_data"
    }
   ],
   "source": [
    "Cres.show(50)"
   ]
  },
  {
   "cell_type": "code",
   "execution_count": 122,
   "metadata": {},
   "outputs": [
    {
     "data": {
      "text/html": [
       "<table border=\"1\" class=\"dataframe\">\n",
       "    <thead>\n",
       "        <tr>\n",
       "            <th>Unnamed: 1</th> <th>Unnamed: 2</th> <th>Unnamed: 3</th> <th>Unnamed: 4</th> <th>Unnamed: 5</th> <th>Unnamed: 6</th> <th>Unnamed: 7</th> <th>Unnamed: 8</th> <th>Unnamed: 9</th> <th>Unnamed: 10</th> <th>Unnamed: 11</th> <th>Unnamed: 12</th> <th>Unnamed: 13</th> <th>Unnamed: 14</th> <th>Unnamed: 15</th> <th>Unnamed: 16</th> <th>Unnamed: 17</th> <th>Unnamed: 18</th> <th>Unnamed: 19</th> <th>Unnamed: 20</th> <th>Unnamed: 21</th> <th>Unnamed: 22</th> <th>Unnamed: 23</th> <th>Unnamed: 24</th> <th>Unnamed: 25</th> <th>Unnamed: 26</th> <th>Unnamed: 27</th> <th>Unnamed: 28</th> <th>Unnamed: 29</th> <th>Unnamed: 30</th> <th>Unnamed: 31</th> <th>Unnamed: 32</th> <th>Unnamed: 33</th> <th>Unnamed: 34</th> <th>Unnamed: 35</th> <th>Unnamed: 36</th> <th>Unnamed: 37</th> <th>Unnamed: 38</th> <th>Unnamed: 39</th> <th>Unnamed: 40</th> <th>Unnamed: 41</th> <th>Unnamed: 42</th> <th>Unnamed: 43</th> <th>Unnamed: 44</th> <th>Unnamed: 45</th> <th>Unnamed: 46</th> <th>Unnamed: 47</th> <th>Unnamed: 48</th> <th>Unnamed: 49</th> <th>Unnamed: 50</th> <th>label</th>\n",
       "        </tr>\n",
       "    </thead>\n",
       "    <tbody>\n",
       "        <tr>\n",
       "            <td>no match  </td> <td>match     </td> <td>match     </td> <td>no match  </td> <td>no match  </td> <td>match     </td> <td>no match  </td> <td>match     </td> <td>match     </td> <td>no match   </td> <td>match      </td> <td>no match   </td> <td>no match   </td> <td>no match   </td> <td>match      </td> <td>match      </td> <td>match      </td> <td>no match   </td> <td>match      </td> <td>no match   </td> <td>no match   </td> <td>match      </td> <td>match      </td> <td>match      </td> <td>match      </td> <td>match      </td> <td>no match   </td> <td>no match   </td> <td>match      </td> <td>match      </td> <td>no match   </td> <td>no match   </td> <td>no match   </td> <td>no match   </td> <td>no match   </td> <td>match      </td> <td>no match   </td> <td>no match   </td> <td>match      </td> <td>match      </td> <td>match      </td> <td>match      </td> <td>no match   </td> <td>no match   </td> <td>match      </td> <td>no match   </td> <td>no match   </td> <td>match      </td> <td>match      </td> <td>match      </td> <td>A    </td>\n",
       "        </tr>\n",
       "        <tr>\n",
       "            <td>no match  </td> <td>match     </td> <td>match     </td> <td>match     </td> <td>no match  </td> <td>no match  </td> <td>no match  </td> <td>match     </td> <td>no match  </td> <td>match      </td> <td>match      </td> <td>no match   </td> <td>no match   </td> <td>no match   </td> <td>no match   </td> <td>match      </td> <td>match      </td> <td>no match   </td> <td>match      </td> <td>match      </td> <td>no match   </td> <td>match      </td> <td>match      </td> <td>match      </td> <td>match      </td> <td>match      </td> <td>no match   </td> <td>no match   </td> <td>match      </td> <td>match      </td> <td>no match   </td> <td>match      </td> <td>match      </td> <td>match      </td> <td>no match   </td> <td>no match   </td> <td>match      </td> <td>no match   </td> <td>match      </td> <td>match      </td> <td>no match   </td> <td>match      </td> <td>no match   </td> <td>no match   </td> <td>match      </td> <td>no match   </td> <td>match      </td> <td>no match   </td> <td>no match   </td> <td>no match   </td> <td>B    </td>\n",
       "        </tr>\n",
       "        <tr>\n",
       "            <td>no match  </td> <td>match     </td> <td>match     </td> <td>match     </td> <td>match     </td> <td>match     </td> <td>no match  </td> <td>match     </td> <td>match     </td> <td>match      </td> <td>match      </td> <td>match      </td> <td>no match   </td> <td>no match   </td> <td>no match   </td> <td>match      </td> <td>match      </td> <td>no match   </td> <td>match      </td> <td>no match   </td> <td>no match   </td> <td>match      </td> <td>match      </td> <td>match      </td> <td>match      </td> <td>match      </td> <td>no match   </td> <td>no match   </td> <td>match      </td> <td>match      </td> <td>no match   </td> <td>match      </td> <td>match      </td> <td>match      </td> <td>match      </td> <td>no match   </td> <td>match      </td> <td>no match   </td> <td>match      </td> <td>match      </td> <td>match      </td> <td>match      </td> <td>no match   </td> <td>match      </td> <td>match      </td> <td>no match   </td> <td>match      </td> <td>match      </td> <td>no match   </td> <td>no match   </td> <td>C    </td>\n",
       "        </tr>\n",
       "        <tr>\n",
       "            <td>no match  </td> <td>no match  </td> <td>match     </td> <td>match     </td> <td>no match  </td> <td>no match  </td> <td>no match  </td> <td>match     </td> <td>match     </td> <td>no match   </td> <td>no match   </td> <td>no match   </td> <td>no match   </td> <td>no match   </td> <td>no match   </td> <td>match      </td> <td>match      </td> <td>no match   </td> <td>match      </td> <td>match      </td> <td>no match   </td> <td>match      </td> <td>match      </td> <td>match      </td> <td>match      </td> <td>match      </td> <td>no match   </td> <td>no match   </td> <td>match      </td> <td>match      </td> <td>no match   </td> <td>no match   </td> <td>match      </td> <td>no match   </td> <td>no match   </td> <td>no match   </td> <td>no match   </td> <td>no match   </td> <td>match      </td> <td>match      </td> <td>no match   </td> <td>match      </td> <td>no match   </td> <td>no match   </td> <td>match      </td> <td>no match   </td> <td>match      </td> <td>match      </td> <td>no match   </td> <td>no match   </td> <td>D    </td>\n",
       "        </tr>\n",
       "        <tr>\n",
       "            <td>no match  </td> <td>match     </td> <td>match     </td> <td>match     </td> <td>match     </td> <td>match     </td> <td>no match  </td> <td>match     </td> <td>match     </td> <td>no match   </td> <td>match      </td> <td>no match   </td> <td>no match   </td> <td>no match   </td> <td>no match   </td> <td>match      </td> <td>match      </td> <td>no match   </td> <td>match      </td> <td>match      </td> <td>no match   </td> <td>match      </td> <td>match      </td> <td>match      </td> <td>match      </td> <td>match      </td> <td>match      </td> <td>no match   </td> <td>match      </td> <td>match      </td> <td>no match   </td> <td>no match   </td> <td>match      </td> <td>match      </td> <td>no match   </td> <td>no match   </td> <td>match      </td> <td>no match   </td> <td>match      </td> <td>match      </td> <td>match      </td> <td>match      </td> <td>match      </td> <td>no match   </td> <td>match      </td> <td>no match   </td> <td>match      </td> <td>match      </td> <td>no match   </td> <td>match      </td> <td>E    </td>\n",
       "        </tr>\n",
       "        <tr>\n",
       "            <td>no match  </td> <td>match     </td> <td>match     </td> <td>match     </td> <td>match     </td> <td>no match  </td> <td>no match  </td> <td>match     </td> <td>no match  </td> <td>no match   </td> <td>match      </td> <td>no match   </td> <td>match      </td> <td>match      </td> <td>no match   </td> <td>match      </td> <td>match      </td> <td>no match   </td> <td>match      </td> <td>match      </td> <td>match      </td> <td>match      </td> <td>match      </td> <td>match      </td> <td>match      </td> <td>match      </td> <td>no match   </td> <td>no match   </td> <td>no match   </td> <td>match      </td> <td>no match   </td> <td>no match   </td> <td>no match   </td> <td>match      </td> <td>no match   </td> <td>no match   </td> <td>match      </td> <td>no match   </td> <td>match      </td> <td>match      </td> <td>match      </td> <td>match      </td> <td>match      </td> <td>no match   </td> <td>match      </td> <td>no match   </td> <td>match      </td> <td>match      </td> <td>match      </td> <td>no match   </td> <td>F    </td>\n",
       "        </tr>\n",
       "        <tr>\n",
       "            <td>no match  </td> <td>match     </td> <td>match     </td> <td>match     </td> <td>no match  </td> <td>no match  </td> <td>no match  </td> <td>match     </td> <td>no match  </td> <td>no match   </td> <td>match      </td> <td>no match   </td> <td>no match   </td> <td>no match   </td> <td>no match   </td> <td>match      </td> <td>match      </td> <td>no match   </td> <td>match      </td> <td>match      </td> <td>no match   </td> <td>match      </td> <td>match      </td> <td>match      </td> <td>match      </td> <td>no match   </td> <td>no match   </td> <td>no match   </td> <td>no match   </td> <td>match      </td> <td>no match   </td> <td>no match   </td> <td>no match   </td> <td>match      </td> <td>no match   </td> <td>no match   </td> <td>no match   </td> <td>no match   </td> <td>match      </td> <td>no match   </td> <td>no match   </td> <td>match      </td> <td>no match   </td> <td>no match   </td> <td>match      </td> <td>match      </td> <td>match      </td> <td>no match   </td> <td>no match   </td> <td>no match   </td> <td>G    </td>\n",
       "        </tr>\n",
       "        <tr>\n",
       "            <td>no match  </td> <td>match     </td> <td>match     </td> <td>match     </td> <td>no match  </td> <td>no match  </td> <td>no match  </td> <td>no match  </td> <td>no match  </td> <td>match      </td> <td>no match   </td> <td>no match   </td> <td>no match   </td> <td>no match   </td> <td>match      </td> <td>match      </td> <td>match      </td> <td>no match   </td> <td>no match   </td> <td>match      </td> <td>no match   </td> <td>match      </td> <td>match      </td> <td>match      </td> <td>match      </td> <td>match      </td> <td>match      </td> <td>no match   </td> <td>match      </td> <td>match      </td> <td>no match   </td> <td>match      </td> <td>no match   </td> <td>match      </td> <td>no match   </td> <td>no match   </td> <td>no match   </td> <td>no match   </td> <td>match      </td> <td>match      </td> <td>no match   </td> <td>match      </td> <td>match      </td> <td>match      </td> <td>no match   </td> <td>no match   </td> <td>match      </td> <td>no match   </td> <td>no match   </td> <td>no match   </td> <td>H    </td>\n",
       "        </tr>\n",
       "        <tr>\n",
       "            <td>no match  </td> <td>match     </td> <td>match     </td> <td>no match  </td> <td>no match  </td> <td>no match  </td> <td>no match  </td> <td>match     </td> <td>no match  </td> <td>no match   </td> <td>no match   </td> <td>no match   </td> <td>no match   </td> <td>no match   </td> <td>no match   </td> <td>match      </td> <td>match      </td> <td>no match   </td> <td>match      </td> <td>match      </td> <td>match      </td> <td>match      </td> <td>match      </td> <td>match      </td> <td>match      </td> <td>no match   </td> <td>no match   </td> <td>match      </td> <td>match      </td> <td>match      </td> <td>no match   </td> <td>no match   </td> <td>no match   </td> <td>no match   </td> <td>no match   </td> <td>no match   </td> <td>match      </td> <td>no match   </td> <td>match      </td> <td>match      </td> <td>match      </td> <td>match      </td> <td>no match   </td> <td>match      </td> <td>no match   </td> <td>no match   </td> <td>match      </td> <td>no match   </td> <td>no match   </td> <td>match      </td> <td>I    </td>\n",
       "        </tr>\n",
       "        <tr>\n",
       "            <td>no match  </td> <td>match     </td> <td>match     </td> <td>match     </td> <td>no match  </td> <td>no match  </td> <td>no match  </td> <td>match     </td> <td>match     </td> <td>match      </td> <td>match      </td> <td>no match   </td> <td>no match   </td> <td>no match   </td> <td>no match   </td> <td>match      </td> <td>match      </td> <td>no match   </td> <td>match      </td> <td>match      </td> <td>no match   </td> <td>match      </td> <td>match      </td> <td>match      </td> <td>match      </td> <td>match      </td> <td>no match   </td> <td>match      </td> <td>match      </td> <td>match      </td> <td>no match   </td> <td>no match   </td> <td>match      </td> <td>match      </td> <td>match      </td> <td>no match   </td> <td>match      </td> <td>no match   </td> <td>match      </td> <td>match      </td> <td>match      </td> <td>match      </td> <td>match      </td> <td>match      </td> <td>match      </td> <td>match      </td> <td>match      </td> <td>match      </td> <td>no match   </td> <td>match      </td> <td>J    </td>\n",
       "        </tr>\n",
       "    </tbody>\n",
       "</table>\n",
       "<p>... (12 rows omitted)</p>"
      ],
      "text/plain": [
       "Unnamed: 1 | Unnamed: 2 | Unnamed: 3 | Unnamed: 4 | Unnamed: 5 | Unnamed: 6 | Unnamed: 7 | Unnamed: 8 | Unnamed: 9 | Unnamed: 10 | Unnamed: 11 | Unnamed: 12 | Unnamed: 13 | Unnamed: 14 | Unnamed: 15 | Unnamed: 16 | Unnamed: 17 | Unnamed: 18 | Unnamed: 19 | Unnamed: 20 | Unnamed: 21 | Unnamed: 22 | Unnamed: 23 | Unnamed: 24 | Unnamed: 25 | Unnamed: 26 | Unnamed: 27 | Unnamed: 28 | Unnamed: 29 | Unnamed: 30 | Unnamed: 31 | Unnamed: 32 | Unnamed: 33 | Unnamed: 34 | Unnamed: 35 | Unnamed: 36 | Unnamed: 37 | Unnamed: 38 | Unnamed: 39 | Unnamed: 40 | Unnamed: 41 | Unnamed: 42 | Unnamed: 43 | Unnamed: 44 | Unnamed: 45 | Unnamed: 46 | Unnamed: 47 | Unnamed: 48 | Unnamed: 49 | Unnamed: 50 | label\n",
       "no match   | match      | match      | no match   | no match   | match      | no match   | match      | match      | no match    | match       | no match    | no match    | no match    | match       | match       | match       | no match    | match       | no match    | no match    | match       | match       | match       | match       | match       | no match    | no match    | match       | match       | no match    | no match    | no match    | no match    | no match    | match       | no match    | no match    | match       | match       | match       | match       | no match    | no match    | match       | no match    | no match    | match       | match       | match       | A\n",
       "no match   | match      | match      | match      | no match   | no match   | no match   | match      | no match   | match       | match       | no match    | no match    | no match    | no match    | match       | match       | no match    | match       | match       | no match    | match       | match       | match       | match       | match       | no match    | no match    | match       | match       | no match    | match       | match       | match       | no match    | no match    | match       | no match    | match       | match       | no match    | match       | no match    | no match    | match       | no match    | match       | no match    | no match    | no match    | B\n",
       "no match   | match      | match      | match      | match      | match      | no match   | match      | match      | match       | match       | match       | no match    | no match    | no match    | match       | match       | no match    | match       | no match    | no match    | match       | match       | match       | match       | match       | no match    | no match    | match       | match       | no match    | match       | match       | match       | match       | no match    | match       | no match    | match       | match       | match       | match       | no match    | match       | match       | no match    | match       | match       | no match    | no match    | C\n",
       "no match   | no match   | match      | match      | no match   | no match   | no match   | match      | match      | no match    | no match    | no match    | no match    | no match    | no match    | match       | match       | no match    | match       | match       | no match    | match       | match       | match       | match       | match       | no match    | no match    | match       | match       | no match    | no match    | match       | no match    | no match    | no match    | no match    | no match    | match       | match       | no match    | match       | no match    | no match    | match       | no match    | match       | match       | no match    | no match    | D\n",
       "no match   | match      | match      | match      | match      | match      | no match   | match      | match      | no match    | match       | no match    | no match    | no match    | no match    | match       | match       | no match    | match       | match       | no match    | match       | match       | match       | match       | match       | match       | no match    | match       | match       | no match    | no match    | match       | match       | no match    | no match    | match       | no match    | match       | match       | match       | match       | match       | no match    | match       | no match    | match       | match       | no match    | match       | E\n",
       "no match   | match      | match      | match      | match      | no match   | no match   | match      | no match   | no match    | match       | no match    | match       | match       | no match    | match       | match       | no match    | match       | match       | match       | match       | match       | match       | match       | match       | no match    | no match    | no match    | match       | no match    | no match    | no match    | match       | no match    | no match    | match       | no match    | match       | match       | match       | match       | match       | no match    | match       | no match    | match       | match       | match       | no match    | F\n",
       "no match   | match      | match      | match      | no match   | no match   | no match   | match      | no match   | no match    | match       | no match    | no match    | no match    | no match    | match       | match       | no match    | match       | match       | no match    | match       | match       | match       | match       | no match    | no match    | no match    | no match    | match       | no match    | no match    | no match    | match       | no match    | no match    | no match    | no match    | match       | no match    | no match    | match       | no match    | no match    | match       | match       | match       | no match    | no match    | no match    | G\n",
       "no match   | match      | match      | match      | no match   | no match   | no match   | no match   | no match   | match       | no match    | no match    | no match    | no match    | match       | match       | match       | no match    | no match    | match       | no match    | match       | match       | match       | match       | match       | match       | no match    | match       | match       | no match    | match       | no match    | match       | no match    | no match    | no match    | no match    | match       | match       | no match    | match       | match       | match       | no match    | no match    | match       | no match    | no match    | no match    | H\n",
       "no match   | match      | match      | no match   | no match   | no match   | no match   | match      | no match   | no match    | no match    | no match    | no match    | no match    | no match    | match       | match       | no match    | match       | match       | match       | match       | match       | match       | match       | no match    | no match    | match       | match       | match       | no match    | no match    | no match    | no match    | no match    | no match    | match       | no match    | match       | match       | match       | match       | no match    | match       | no match    | no match    | match       | no match    | no match    | match       | I\n",
       "no match   | match      | match      | match      | no match   | no match   | no match   | match      | match      | match       | match       | no match    | no match    | no match    | no match    | match       | match       | no match    | match       | match       | no match    | match       | match       | match       | match       | match       | no match    | match       | match       | match       | no match    | no match    | match       | match       | match       | no match    | match       | no match    | match       | match       | match       | match       | match       | match       | match       | match       | match       | match       | no match    | match       | J\n",
       "... (12 rows omitted)"
      ]
     },
     "execution_count": 122,
     "metadata": {},
     "output_type": "execute_result"
    }
   ],
   "source": [
    "Bres1=Bres.drop(0)\n",
    "Bres1"
   ]
  },
  {
   "cell_type": "code",
   "execution_count": null,
   "metadata": {},
   "outputs": [],
   "source": []
  },
  {
   "cell_type": "code",
   "execution_count": 123,
   "metadata": {},
   "outputs": [
    {
     "data": {
      "text/plain": [
       "array([0, 1, 2, 3, 4, 5, 6, 7, 8, 9])"
      ]
     },
     "execution_count": 123,
     "metadata": {},
     "output_type": "execute_result"
    }
   ],
   "source": [
    "a = np.arange(10)\n",
    "a"
   ]
  },
  {
   "cell_type": "code",
   "execution_count": 124,
   "metadata": {},
   "outputs": [],
   "source": [
    "x = Table().with_columns(\"A\",a).with_columns(\"B\",np.arange(10, 20))"
   ]
  },
  {
   "cell_type": "code",
   "execution_count": 125,
   "metadata": {},
   "outputs": [
    {
     "data": {
      "text/html": [
       "<table border=\"1\" class=\"dataframe\">\n",
       "    <thead>\n",
       "        <tr>\n",
       "            <th>A</th> <th>B</th>\n",
       "        </tr>\n",
       "    </thead>\n",
       "    <tbody>\n",
       "        <tr>\n",
       "            <td>0   </td> <td>10  </td>\n",
       "        </tr>\n",
       "        <tr>\n",
       "            <td>1   </td> <td>11  </td>\n",
       "        </tr>\n",
       "        <tr>\n",
       "            <td>2   </td> <td>12  </td>\n",
       "        </tr>\n",
       "        <tr>\n",
       "            <td>3   </td> <td>13  </td>\n",
       "        </tr>\n",
       "        <tr>\n",
       "            <td>4   </td> <td>14  </td>\n",
       "        </tr>\n",
       "        <tr>\n",
       "            <td>5   </td> <td>15  </td>\n",
       "        </tr>\n",
       "        <tr>\n",
       "            <td>6   </td> <td>16  </td>\n",
       "        </tr>\n",
       "        <tr>\n",
       "            <td>7   </td> <td>17  </td>\n",
       "        </tr>\n",
       "        <tr>\n",
       "            <td>8   </td> <td>18  </td>\n",
       "        </tr>\n",
       "        <tr>\n",
       "            <td>9   </td> <td>19  </td>\n",
       "        </tr>\n",
       "    </tbody>\n",
       "</table>"
      ],
      "text/plain": [
       "A    | B\n",
       "0    | 10\n",
       "1    | 11\n",
       "2    | 12\n",
       "3    | 13\n",
       "4    | 14\n",
       "5    | 15\n",
       "6    | 16\n",
       "7    | 17\n",
       "8    | 18\n",
       "9    | 19"
      ]
     },
     "execution_count": 125,
     "metadata": {},
     "output_type": "execute_result"
    }
   ],
   "source": [
    "x"
   ]
  },
  {
   "cell_type": "code",
   "execution_count": 126,
   "metadata": {},
   "outputs": [
    {
     "data": {
      "text/plain": [
       "array([0, 1, 2, 3, 4, 5, 6, 7, 8, 9])"
      ]
     },
     "execution_count": 126,
     "metadata": {},
     "output_type": "execute_result"
    }
   ],
   "source": [
    "x[0]"
   ]
  },
  {
   "cell_type": "code",
   "execution_count": 127,
   "metadata": {},
   "outputs": [],
   "source": [
    "xr1 = x.row(1)"
   ]
  },
  {
   "cell_type": "code",
   "execution_count": 128,
   "metadata": {},
   "outputs": [
    {
     "data": {
      "text/plain": [
       "Row(A=1, B=11)"
      ]
     },
     "execution_count": 128,
     "metadata": {},
     "output_type": "execute_result"
    }
   ],
   "source": [
    "xr1"
   ]
  },
  {
   "cell_type": "code",
   "execution_count": 129,
   "metadata": {},
   "outputs": [
    {
     "data": {
      "text/html": [
       "<table border=\"1\" class=\"dataframe\">\n",
       "    <thead>\n",
       "        <tr>\n",
       "            <th>x</th>\n",
       "        </tr>\n",
       "    </thead>\n",
       "    <tbody>\n",
       "        <tr>\n",
       "            <td>1   </td>\n",
       "        </tr>\n",
       "        <tr>\n",
       "            <td>11  </td>\n",
       "        </tr>\n",
       "    </tbody>\n",
       "</table>"
      ],
      "text/plain": [
       "x\n",
       "1\n",
       "11"
      ]
     },
     "execution_count": 129,
     "metadata": {},
     "output_type": "execute_result"
    }
   ],
   "source": [
    "y = Table().with_columns(\"x\", xr1)\n",
    "y"
   ]
  },
  {
   "cell_type": "code",
   "execution_count": 130,
   "metadata": {},
   "outputs": [
    {
     "data": {
      "text/html": [
       "<table border=\"1\" class=\"dataframe\">\n",
       "    <thead>\n",
       "        <tr>\n",
       "            <th>Unnamed: 1</th> <th>Unnamed: 2</th> <th>Unnamed: 3</th> <th>Unnamed: 4</th> <th>Unnamed: 5</th> <th>Unnamed: 6</th> <th>Unnamed: 7</th> <th>Unnamed: 8</th> <th>Unnamed: 9</th> <th>Unnamed: 10</th> <th>Unnamed: 11</th> <th>Unnamed: 12</th> <th>Unnamed: 13</th> <th>Unnamed: 14</th> <th>Unnamed: 15</th> <th>Unnamed: 16</th> <th>Unnamed: 17</th> <th>Unnamed: 18</th> <th>Unnamed: 19</th> <th>Unnamed: 20</th> <th>Unnamed: 21</th> <th>Unnamed: 22</th> <th>Unnamed: 23</th> <th>Unnamed: 24</th> <th>Unnamed: 25</th> <th>Unnamed: 26</th> <th>Unnamed: 27</th> <th>Unnamed: 28</th> <th>Unnamed: 29</th> <th>Unnamed: 30</th> <th>Unnamed: 31</th> <th>Unnamed: 32</th> <th>Unnamed: 33</th> <th>Unnamed: 34</th> <th>Unnamed: 35</th> <th>Unnamed: 36</th> <th>Unnamed: 37</th> <th>Unnamed: 38</th> <th>Unnamed: 39</th> <th>Unnamed: 40</th> <th>Unnamed: 41</th> <th>Unnamed: 42</th> <th>Unnamed: 43</th> <th>Unnamed: 44</th> <th>Unnamed: 45</th> <th>Unnamed: 46</th> <th>Unnamed: 47</th> <th>Unnamed: 48</th> <th>Unnamed: 49</th> <th>Unnamed: 50</th> <th>label</th>\n",
       "        </tr>\n",
       "    </thead>\n",
       "    <tbody>\n",
       "        <tr>\n",
       "            <td>no match  </td> <td>match     </td> <td>match     </td> <td>no match  </td> <td>no match  </td> <td>match     </td> <td>no match  </td> <td>match     </td> <td>match     </td> <td>no match   </td> <td>match      </td> <td>no match   </td> <td>no match   </td> <td>no match   </td> <td>match      </td> <td>match      </td> <td>match      </td> <td>no match   </td> <td>match      </td> <td>no match   </td> <td>no match   </td> <td>match      </td> <td>match      </td> <td>match      </td> <td>match      </td> <td>match      </td> <td>no match   </td> <td>no match   </td> <td>match      </td> <td>match      </td> <td>no match   </td> <td>no match   </td> <td>no match   </td> <td>no match   </td> <td>no match   </td> <td>match      </td> <td>no match   </td> <td>no match   </td> <td>match      </td> <td>match      </td> <td>match      </td> <td>match      </td> <td>no match   </td> <td>no match   </td> <td>match      </td> <td>no match   </td> <td>no match   </td> <td>match      </td> <td>match      </td> <td>match      </td> <td>A    </td>\n",
       "        </tr>\n",
       "        <tr>\n",
       "            <td>no match  </td> <td>match     </td> <td>match     </td> <td>match     </td> <td>no match  </td> <td>no match  </td> <td>no match  </td> <td>match     </td> <td>no match  </td> <td>match      </td> <td>match      </td> <td>no match   </td> <td>no match   </td> <td>no match   </td> <td>no match   </td> <td>match      </td> <td>match      </td> <td>no match   </td> <td>match      </td> <td>match      </td> <td>no match   </td> <td>match      </td> <td>match      </td> <td>match      </td> <td>match      </td> <td>match      </td> <td>no match   </td> <td>no match   </td> <td>match      </td> <td>match      </td> <td>no match   </td> <td>match      </td> <td>match      </td> <td>match      </td> <td>no match   </td> <td>no match   </td> <td>match      </td> <td>no match   </td> <td>match      </td> <td>match      </td> <td>no match   </td> <td>match      </td> <td>no match   </td> <td>no match   </td> <td>match      </td> <td>no match   </td> <td>match      </td> <td>no match   </td> <td>no match   </td> <td>no match   </td> <td>B    </td>\n",
       "        </tr>\n",
       "        <tr>\n",
       "            <td>no match  </td> <td>match     </td> <td>match     </td> <td>match     </td> <td>match     </td> <td>match     </td> <td>no match  </td> <td>match     </td> <td>match     </td> <td>match      </td> <td>match      </td> <td>match      </td> <td>no match   </td> <td>no match   </td> <td>no match   </td> <td>match      </td> <td>match      </td> <td>no match   </td> <td>match      </td> <td>no match   </td> <td>no match   </td> <td>match      </td> <td>match      </td> <td>match      </td> <td>match      </td> <td>match      </td> <td>no match   </td> <td>no match   </td> <td>match      </td> <td>match      </td> <td>no match   </td> <td>match      </td> <td>match      </td> <td>match      </td> <td>match      </td> <td>no match   </td> <td>match      </td> <td>no match   </td> <td>match      </td> <td>match      </td> <td>match      </td> <td>match      </td> <td>no match   </td> <td>match      </td> <td>match      </td> <td>no match   </td> <td>match      </td> <td>match      </td> <td>no match   </td> <td>no match   </td> <td>C    </td>\n",
       "        </tr>\n",
       "        <tr>\n",
       "            <td>no match  </td> <td>no match  </td> <td>match     </td> <td>match     </td> <td>no match  </td> <td>no match  </td> <td>no match  </td> <td>match     </td> <td>match     </td> <td>no match   </td> <td>no match   </td> <td>no match   </td> <td>no match   </td> <td>no match   </td> <td>no match   </td> <td>match      </td> <td>match      </td> <td>no match   </td> <td>match      </td> <td>match      </td> <td>no match   </td> <td>match      </td> <td>match      </td> <td>match      </td> <td>match      </td> <td>match      </td> <td>no match   </td> <td>no match   </td> <td>match      </td> <td>match      </td> <td>no match   </td> <td>no match   </td> <td>match      </td> <td>no match   </td> <td>no match   </td> <td>no match   </td> <td>no match   </td> <td>no match   </td> <td>match      </td> <td>match      </td> <td>no match   </td> <td>match      </td> <td>no match   </td> <td>no match   </td> <td>match      </td> <td>no match   </td> <td>match      </td> <td>match      </td> <td>no match   </td> <td>no match   </td> <td>D    </td>\n",
       "        </tr>\n",
       "        <tr>\n",
       "            <td>no match  </td> <td>match     </td> <td>match     </td> <td>match     </td> <td>match     </td> <td>match     </td> <td>no match  </td> <td>match     </td> <td>match     </td> <td>no match   </td> <td>match      </td> <td>no match   </td> <td>no match   </td> <td>no match   </td> <td>no match   </td> <td>match      </td> <td>match      </td> <td>no match   </td> <td>match      </td> <td>match      </td> <td>no match   </td> <td>match      </td> <td>match      </td> <td>match      </td> <td>match      </td> <td>match      </td> <td>match      </td> <td>no match   </td> <td>match      </td> <td>match      </td> <td>no match   </td> <td>no match   </td> <td>match      </td> <td>match      </td> <td>no match   </td> <td>no match   </td> <td>match      </td> <td>no match   </td> <td>match      </td> <td>match      </td> <td>match      </td> <td>match      </td> <td>match      </td> <td>no match   </td> <td>match      </td> <td>no match   </td> <td>match      </td> <td>match      </td> <td>no match   </td> <td>match      </td> <td>E    </td>\n",
       "        </tr>\n",
       "        <tr>\n",
       "            <td>no match  </td> <td>match     </td> <td>match     </td> <td>match     </td> <td>match     </td> <td>no match  </td> <td>no match  </td> <td>match     </td> <td>no match  </td> <td>no match   </td> <td>match      </td> <td>no match   </td> <td>match      </td> <td>match      </td> <td>no match   </td> <td>match      </td> <td>match      </td> <td>no match   </td> <td>match      </td> <td>match      </td> <td>match      </td> <td>match      </td> <td>match      </td> <td>match      </td> <td>match      </td> <td>match      </td> <td>no match   </td> <td>no match   </td> <td>no match   </td> <td>match      </td> <td>no match   </td> <td>no match   </td> <td>no match   </td> <td>match      </td> <td>no match   </td> <td>no match   </td> <td>match      </td> <td>no match   </td> <td>match      </td> <td>match      </td> <td>match      </td> <td>match      </td> <td>match      </td> <td>no match   </td> <td>match      </td> <td>no match   </td> <td>match      </td> <td>match      </td> <td>match      </td> <td>no match   </td> <td>F    </td>\n",
       "        </tr>\n",
       "        <tr>\n",
       "            <td>no match  </td> <td>match     </td> <td>match     </td> <td>match     </td> <td>no match  </td> <td>no match  </td> <td>no match  </td> <td>match     </td> <td>no match  </td> <td>no match   </td> <td>match      </td> <td>no match   </td> <td>no match   </td> <td>no match   </td> <td>no match   </td> <td>match      </td> <td>match      </td> <td>no match   </td> <td>match      </td> <td>match      </td> <td>no match   </td> <td>match      </td> <td>match      </td> <td>match      </td> <td>match      </td> <td>no match   </td> <td>no match   </td> <td>no match   </td> <td>no match   </td> <td>match      </td> <td>no match   </td> <td>no match   </td> <td>no match   </td> <td>match      </td> <td>no match   </td> <td>no match   </td> <td>no match   </td> <td>no match   </td> <td>match      </td> <td>no match   </td> <td>no match   </td> <td>match      </td> <td>no match   </td> <td>no match   </td> <td>match      </td> <td>match      </td> <td>match      </td> <td>no match   </td> <td>no match   </td> <td>no match   </td> <td>G    </td>\n",
       "        </tr>\n",
       "        <tr>\n",
       "            <td>no match  </td> <td>match     </td> <td>match     </td> <td>match     </td> <td>no match  </td> <td>no match  </td> <td>no match  </td> <td>no match  </td> <td>no match  </td> <td>match      </td> <td>no match   </td> <td>no match   </td> <td>no match   </td> <td>no match   </td> <td>match      </td> <td>match      </td> <td>match      </td> <td>no match   </td> <td>no match   </td> <td>match      </td> <td>no match   </td> <td>match      </td> <td>match      </td> <td>match      </td> <td>match      </td> <td>match      </td> <td>match      </td> <td>no match   </td> <td>match      </td> <td>match      </td> <td>no match   </td> <td>match      </td> <td>no match   </td> <td>match      </td> <td>no match   </td> <td>no match   </td> <td>no match   </td> <td>no match   </td> <td>match      </td> <td>match      </td> <td>no match   </td> <td>match      </td> <td>match      </td> <td>match      </td> <td>no match   </td> <td>no match   </td> <td>match      </td> <td>no match   </td> <td>no match   </td> <td>no match   </td> <td>H    </td>\n",
       "        </tr>\n",
       "        <tr>\n",
       "            <td>no match  </td> <td>match     </td> <td>match     </td> <td>no match  </td> <td>no match  </td> <td>no match  </td> <td>no match  </td> <td>match     </td> <td>no match  </td> <td>no match   </td> <td>no match   </td> <td>no match   </td> <td>no match   </td> <td>no match   </td> <td>no match   </td> <td>match      </td> <td>match      </td> <td>no match   </td> <td>match      </td> <td>match      </td> <td>match      </td> <td>match      </td> <td>match      </td> <td>match      </td> <td>match      </td> <td>no match   </td> <td>no match   </td> <td>match      </td> <td>match      </td> <td>match      </td> <td>no match   </td> <td>no match   </td> <td>no match   </td> <td>no match   </td> <td>no match   </td> <td>no match   </td> <td>match      </td> <td>no match   </td> <td>match      </td> <td>match      </td> <td>match      </td> <td>match      </td> <td>no match   </td> <td>match      </td> <td>no match   </td> <td>no match   </td> <td>match      </td> <td>no match   </td> <td>no match   </td> <td>match      </td> <td>I    </td>\n",
       "        </tr>\n",
       "        <tr>\n",
       "            <td>no match  </td> <td>match     </td> <td>match     </td> <td>match     </td> <td>no match  </td> <td>no match  </td> <td>no match  </td> <td>match     </td> <td>match     </td> <td>match      </td> <td>match      </td> <td>no match   </td> <td>no match   </td> <td>no match   </td> <td>no match   </td> <td>match      </td> <td>match      </td> <td>no match   </td> <td>match      </td> <td>match      </td> <td>no match   </td> <td>match      </td> <td>match      </td> <td>match      </td> <td>match      </td> <td>match      </td> <td>no match   </td> <td>match      </td> <td>match      </td> <td>match      </td> <td>no match   </td> <td>no match   </td> <td>match      </td> <td>match      </td> <td>match      </td> <td>no match   </td> <td>match      </td> <td>no match   </td> <td>match      </td> <td>match      </td> <td>match      </td> <td>match      </td> <td>match      </td> <td>match      </td> <td>match      </td> <td>match      </td> <td>match      </td> <td>match      </td> <td>no match   </td> <td>match      </td> <td>J    </td>\n",
       "        </tr>\n",
       "    </tbody>\n",
       "</table>\n",
       "<p>... (12 rows omitted)</p>"
      ],
      "text/plain": [
       "Unnamed: 1 | Unnamed: 2 | Unnamed: 3 | Unnamed: 4 | Unnamed: 5 | Unnamed: 6 | Unnamed: 7 | Unnamed: 8 | Unnamed: 9 | Unnamed: 10 | Unnamed: 11 | Unnamed: 12 | Unnamed: 13 | Unnamed: 14 | Unnamed: 15 | Unnamed: 16 | Unnamed: 17 | Unnamed: 18 | Unnamed: 19 | Unnamed: 20 | Unnamed: 21 | Unnamed: 22 | Unnamed: 23 | Unnamed: 24 | Unnamed: 25 | Unnamed: 26 | Unnamed: 27 | Unnamed: 28 | Unnamed: 29 | Unnamed: 30 | Unnamed: 31 | Unnamed: 32 | Unnamed: 33 | Unnamed: 34 | Unnamed: 35 | Unnamed: 36 | Unnamed: 37 | Unnamed: 38 | Unnamed: 39 | Unnamed: 40 | Unnamed: 41 | Unnamed: 42 | Unnamed: 43 | Unnamed: 44 | Unnamed: 45 | Unnamed: 46 | Unnamed: 47 | Unnamed: 48 | Unnamed: 49 | Unnamed: 50 | label\n",
       "no match   | match      | match      | no match   | no match   | match      | no match   | match      | match      | no match    | match       | no match    | no match    | no match    | match       | match       | match       | no match    | match       | no match    | no match    | match       | match       | match       | match       | match       | no match    | no match    | match       | match       | no match    | no match    | no match    | no match    | no match    | match       | no match    | no match    | match       | match       | match       | match       | no match    | no match    | match       | no match    | no match    | match       | match       | match       | A\n",
       "no match   | match      | match      | match      | no match   | no match   | no match   | match      | no match   | match       | match       | no match    | no match    | no match    | no match    | match       | match       | no match    | match       | match       | no match    | match       | match       | match       | match       | match       | no match    | no match    | match       | match       | no match    | match       | match       | match       | no match    | no match    | match       | no match    | match       | match       | no match    | match       | no match    | no match    | match       | no match    | match       | no match    | no match    | no match    | B\n",
       "no match   | match      | match      | match      | match      | match      | no match   | match      | match      | match       | match       | match       | no match    | no match    | no match    | match       | match       | no match    | match       | no match    | no match    | match       | match       | match       | match       | match       | no match    | no match    | match       | match       | no match    | match       | match       | match       | match       | no match    | match       | no match    | match       | match       | match       | match       | no match    | match       | match       | no match    | match       | match       | no match    | no match    | C\n",
       "no match   | no match   | match      | match      | no match   | no match   | no match   | match      | match      | no match    | no match    | no match    | no match    | no match    | no match    | match       | match       | no match    | match       | match       | no match    | match       | match       | match       | match       | match       | no match    | no match    | match       | match       | no match    | no match    | match       | no match    | no match    | no match    | no match    | no match    | match       | match       | no match    | match       | no match    | no match    | match       | no match    | match       | match       | no match    | no match    | D\n",
       "no match   | match      | match      | match      | match      | match      | no match   | match      | match      | no match    | match       | no match    | no match    | no match    | no match    | match       | match       | no match    | match       | match       | no match    | match       | match       | match       | match       | match       | match       | no match    | match       | match       | no match    | no match    | match       | match       | no match    | no match    | match       | no match    | match       | match       | match       | match       | match       | no match    | match       | no match    | match       | match       | no match    | match       | E\n",
       "no match   | match      | match      | match      | match      | no match   | no match   | match      | no match   | no match    | match       | no match    | match       | match       | no match    | match       | match       | no match    | match       | match       | match       | match       | match       | match       | match       | match       | no match    | no match    | no match    | match       | no match    | no match    | no match    | match       | no match    | no match    | match       | no match    | match       | match       | match       | match       | match       | no match    | match       | no match    | match       | match       | match       | no match    | F\n",
       "no match   | match      | match      | match      | no match   | no match   | no match   | match      | no match   | no match    | match       | no match    | no match    | no match    | no match    | match       | match       | no match    | match       | match       | no match    | match       | match       | match       | match       | no match    | no match    | no match    | no match    | match       | no match    | no match    | no match    | match       | no match    | no match    | no match    | no match    | match       | no match    | no match    | match       | no match    | no match    | match       | match       | match       | no match    | no match    | no match    | G\n",
       "no match   | match      | match      | match      | no match   | no match   | no match   | no match   | no match   | match       | no match    | no match    | no match    | no match    | match       | match       | match       | no match    | no match    | match       | no match    | match       | match       | match       | match       | match       | match       | no match    | match       | match       | no match    | match       | no match    | match       | no match    | no match    | no match    | no match    | match       | match       | no match    | match       | match       | match       | no match    | no match    | match       | no match    | no match    | no match    | H\n",
       "no match   | match      | match      | no match   | no match   | no match   | no match   | match      | no match   | no match    | no match    | no match    | no match    | no match    | no match    | match       | match       | no match    | match       | match       | match       | match       | match       | match       | match       | no match    | no match    | match       | match       | match       | no match    | no match    | no match    | no match    | no match    | no match    | match       | no match    | match       | match       | match       | match       | no match    | match       | no match    | no match    | match       | no match    | no match    | match       | I\n",
       "no match   | match      | match      | match      | no match   | no match   | no match   | match      | match      | match       | match       | no match    | no match    | no match    | no match    | match       | match       | no match    | match       | match       | no match    | match       | match       | match       | match       | match       | no match    | match       | match       | match       | no match    | no match    | match       | match       | match       | no match    | match       | no match    | match       | match       | match       | match       | match       | match       | match       | match       | match       | match       | no match    | match       | J\n",
       "... (12 rows omitted)"
      ]
     },
     "execution_count": 130,
     "metadata": {},
     "output_type": "execute_result"
    }
   ],
   "source": [
    "Bres1"
   ]
  },
  {
   "cell_type": "code",
   "execution_count": 131,
   "metadata": {},
   "outputs": [
    {
     "data": {
      "text/plain": [
       "22"
      ]
     },
     "execution_count": 131,
     "metadata": {},
     "output_type": "execute_result"
    }
   ],
   "source": [
    "Bres.num_rows"
   ]
  },
  {
   "cell_type": "code",
   "execution_count": 132,
   "metadata": {},
   "outputs": [
    {
     "data": {
      "text/plain": [
       "'A'"
      ]
     },
     "execution_count": 132,
     "metadata": {},
     "output_type": "execute_result"
    }
   ],
   "source": [
    "Bres1[50][0]"
   ]
  },
  {
   "cell_type": "code",
   "execution_count": 133,
   "metadata": {},
   "outputs": [
    {
     "data": {
      "text/plain": [
       "51"
      ]
     },
     "execution_count": 133,
     "metadata": {},
     "output_type": "execute_result"
    }
   ],
   "source": [
    "Bres1.num_columns"
   ]
  },
  {
   "cell_type": "code",
   "execution_count": 134,
   "metadata": {},
   "outputs": [
    {
     "data": {
      "text/html": [
       "<table border=\"1\" class=\"dataframe\">\n",
       "    <thead>\n",
       "        <tr>\n",
       "            \n",
       "        </tr>\n",
       "    </thead>\n",
       "    <tbody>\n",
       "    </tbody>\n",
       "</table>"
      ],
      "text/plain": []
     },
     "execution_count": 134,
     "metadata": {},
     "output_type": "execute_result"
    }
   ],
   "source": [
    "Bres_flip = Table()\n",
    "Bres_flip"
   ]
  },
  {
   "cell_type": "code",
   "execution_count": 135,
   "metadata": {},
   "outputs": [],
   "source": [
    "for i in np.arange(0,Bres.num_rows):\n",
    "    Bres_flip = Bres_flip.with_columns(Bres1[50][i], Bres1.row(i))"
   ]
  },
  {
   "cell_type": "code",
   "execution_count": 136,
   "metadata": {},
   "outputs": [],
   "source": [
    "Bres_flip = Bres_flip.take(np.arange(50))"
   ]
  },
  {
   "cell_type": "code",
   "execution_count": 137,
   "metadata": {},
   "outputs": [
    {
     "data": {
      "text/html": [
       "<table border=\"1\" class=\"dataframe\">\n",
       "    <thead>\n",
       "        <tr>\n",
       "            <th>A</th> <th>B</th> <th>C</th> <th>D</th> <th>E</th> <th>F</th> <th>G</th> <th>H</th> <th>I</th> <th>J</th> <th>K</th> <th>L</th> <th>M</th> <th>N</th> <th>O</th> <th>P</th> <th>Q</th> <th>R</th> <th>S</th> <th>T</th> <th>U</th> <th>V</th>\n",
       "        </tr>\n",
       "    </thead>\n",
       "    <tbody>\n",
       "        <tr>\n",
       "            <td>no match</td> <td>no match</td> <td>no match</td> <td>no match</td> <td>no match</td> <td>no match</td> <td>no match</td> <td>no match</td> <td>no match</td> <td>no match</td> <td>no match</td> <td>no match</td> <td>no match</td> <td>no match</td> <td>no match</td> <td>no match</td> <td>no match</td> <td>no match</td> <td>match   </td> <td>no match</td> <td>match   </td> <td>match   </td>\n",
       "        </tr>\n",
       "        <tr>\n",
       "            <td>match   </td> <td>match   </td> <td>match   </td> <td>no match</td> <td>match   </td> <td>match   </td> <td>match   </td> <td>match   </td> <td>match   </td> <td>match   </td> <td>no match</td> <td>match   </td> <td>match   </td> <td>match   </td> <td>match   </td> <td>match   </td> <td>no match</td> <td>match   </td> <td>match   </td> <td>match   </td> <td>match   </td> <td>no match</td>\n",
       "        </tr>\n",
       "        <tr>\n",
       "            <td>match   </td> <td>match   </td> <td>match   </td> <td>match   </td> <td>match   </td> <td>match   </td> <td>match   </td> <td>match   </td> <td>match   </td> <td>match   </td> <td>match   </td> <td>match   </td> <td>match   </td> <td>match   </td> <td>match   </td> <td>match   </td> <td>match   </td> <td>no match</td> <td>match   </td> <td>match   </td> <td>match   </td> <td>match   </td>\n",
       "        </tr>\n",
       "        <tr>\n",
       "            <td>no match</td> <td>match   </td> <td>match   </td> <td>match   </td> <td>match   </td> <td>match   </td> <td>match   </td> <td>match   </td> <td>no match</td> <td>match   </td> <td>match   </td> <td>no match</td> <td>match   </td> <td>no match</td> <td>match   </td> <td>match   </td> <td>no match</td> <td>match   </td> <td>no match</td> <td>match   </td> <td>match   </td> <td>match   </td>\n",
       "        </tr>\n",
       "        <tr>\n",
       "            <td>no match</td> <td>no match</td> <td>match   </td> <td>no match</td> <td>match   </td> <td>match   </td> <td>no match</td> <td>no match</td> <td>no match</td> <td>no match</td> <td>match   </td> <td>no match</td> <td>no match</td> <td>no match</td> <td>no match</td> <td>no match</td> <td>match   </td> <td>no match</td> <td>no match</td> <td>no match</td> <td>match   </td> <td>no match</td>\n",
       "        </tr>\n",
       "        <tr>\n",
       "            <td>match   </td> <td>no match</td> <td>match   </td> <td>no match</td> <td>match   </td> <td>no match</td> <td>no match</td> <td>no match</td> <td>no match</td> <td>no match</td> <td>no match</td> <td>no match</td> <td>no match</td> <td>no match</td> <td>no match</td> <td>match   </td> <td>match   </td> <td>no match</td> <td>match   </td> <td>no match</td> <td>match   </td> <td>no match</td>\n",
       "        </tr>\n",
       "        <tr>\n",
       "            <td>no match</td> <td>no match</td> <td>no match</td> <td>no match</td> <td>no match</td> <td>no match</td> <td>no match</td> <td>no match</td> <td>no match</td> <td>no match</td> <td>no match</td> <td>no match</td> <td>no match</td> <td>no match</td> <td>no match</td> <td>match   </td> <td>no match</td> <td>no match</td> <td>match   </td> <td>no match</td> <td>match   </td> <td>match   </td>\n",
       "        </tr>\n",
       "        <tr>\n",
       "            <td>match   </td> <td>match   </td> <td>match   </td> <td>match   </td> <td>match   </td> <td>match   </td> <td>match   </td> <td>no match</td> <td>match   </td> <td>match   </td> <td>match   </td> <td>match   </td> <td>match   </td> <td>match   </td> <td>no match</td> <td>no match</td> <td>match   </td> <td>match   </td> <td>match   </td> <td>nan     </td> <td>match   </td> <td>match   </td>\n",
       "        </tr>\n",
       "        <tr>\n",
       "            <td>match   </td> <td>no match</td> <td>match   </td> <td>match   </td> <td>match   </td> <td>no match</td> <td>no match</td> <td>no match</td> <td>no match</td> <td>match   </td> <td>match   </td> <td>no match</td> <td>no match</td> <td>no match</td> <td>no match</td> <td>match   </td> <td>match   </td> <td>match   </td> <td>match   </td> <td>no match</td> <td>match   </td> <td>match   </td>\n",
       "        </tr>\n",
       "        <tr>\n",
       "            <td>no match</td> <td>match   </td> <td>match   </td> <td>no match</td> <td>no match</td> <td>no match</td> <td>no match</td> <td>match   </td> <td>no match</td> <td>match   </td> <td>match   </td> <td>no match</td> <td>no match</td> <td>match   </td> <td>no match</td> <td>no match</td> <td>match   </td> <td>no match</td> <td>no match</td> <td>match   </td> <td>no match</td> <td>no match</td>\n",
       "        </tr>\n",
       "    </tbody>\n",
       "</table>\n",
       "<p>... (40 rows omitted)</p>"
      ],
      "text/plain": [
       "A        | B        | C        | D        | E        | F        | G        | H        | I        | J        | K        | L        | M        | N        | O        | P        | Q        | R        | S        | T        | U        | V\n",
       "no match | no match | no match | no match | no match | no match | no match | no match | no match | no match | no match | no match | no match | no match | no match | no match | no match | no match | match    | no match | match    | match\n",
       "match    | match    | match    | no match | match    | match    | match    | match    | match    | match    | no match | match    | match    | match    | match    | match    | no match | match    | match    | match    | match    | no match\n",
       "match    | match    | match    | match    | match    | match    | match    | match    | match    | match    | match    | match    | match    | match    | match    | match    | match    | no match | match    | match    | match    | match\n",
       "no match | match    | match    | match    | match    | match    | match    | match    | no match | match    | match    | no match | match    | no match | match    | match    | no match | match    | no match | match    | match    | match\n",
       "no match | no match | match    | no match | match    | match    | no match | no match | no match | no match | match    | no match | no match | no match | no match | no match | match    | no match | no match | no match | match    | no match\n",
       "match    | no match | match    | no match | match    | no match | no match | no match | no match | no match | no match | no match | no match | no match | no match | match    | match    | no match | match    | no match | match    | no match\n",
       "no match | no match | no match | no match | no match | no match | no match | no match | no match | no match | no match | no match | no match | no match | no match | match    | no match | no match | match    | no match | match    | match\n",
       "match    | match    | match    | match    | match    | match    | match    | no match | match    | match    | match    | match    | match    | match    | no match | no match | match    | match    | match    | nan      | match    | match\n",
       "match    | no match | match    | match    | match    | no match | no match | no match | no match | match    | match    | no match | no match | no match | no match | match    | match    | match    | match    | no match | match    | match\n",
       "no match | match    | match    | no match | no match | no match | no match | match    | no match | match    | match    | no match | no match | match    | no match | no match | match    | no match | no match | match    | no match | no match\n",
       "... (40 rows omitted)"
      ]
     },
     "execution_count": 137,
     "metadata": {},
     "output_type": "execute_result"
    }
   ],
   "source": [
    "Bres_flip"
   ]
  },
  {
   "cell_type": "code",
   "execution_count": 138,
   "metadata": {},
   "outputs": [
    {
     "data": {
      "text/plain": [
       "array(['no match', 'match', 'match', 'match', 'no match', 'no match',\n",
       "       'no match', 'match', 'no match', 'match', 'match', 'no match',\n",
       "       'no match', 'no match', 'no match', 'match', 'match', 'no match',\n",
       "       'match', 'match', 'no match', 'match', 'match', 'match', 'match',\n",
       "       'match', 'no match', 'no match', 'match', 'match', 'no match',\n",
       "       'match', 'match', 'match', 'no match', 'no match', 'match',\n",
       "       'no match', 'match', 'match', 'no match', 'match', 'no match',\n",
       "       'no match', 'match', 'no match', 'match', 'no match', 'no match',\n",
       "       'no match'],\n",
       "      dtype='<U8')"
      ]
     },
     "execution_count": 138,
     "metadata": {},
     "output_type": "execute_result"
    }
   ],
   "source": [
    "Bres_flip[1]"
   ]
  },
  {
   "cell_type": "code",
   "execution_count": 139,
   "metadata": {},
   "outputs": [
    {
     "data": {
      "text/plain": [
       "Row(Unnamed: 1='no match', Unnamed: 2='match', Unnamed: 3='match', Unnamed: 4='match', Unnamed: 5='no match', Unnamed: 6='no match', Unnamed: 7='no match', Unnamed: 8='match', Unnamed: 9='no match', Unnamed: 10='match', Unnamed: 11='match', Unnamed: 12='no match', Unnamed: 13='no match', Unnamed: 14='no match', Unnamed: 15='no match', Unnamed: 16='match', Unnamed: 17='match', Unnamed: 18='no match', Unnamed: 19='match', Unnamed: 20='match', Unnamed: 21='no match', Unnamed: 22='match', Unnamed: 23='match', Unnamed: 24='match', Unnamed: 25='match', Unnamed: 26='match', Unnamed: 27='no match', Unnamed: 28='no match', Unnamed: 29='match', Unnamed: 30='match', Unnamed: 31='no match', Unnamed: 32='match', Unnamed: 33='match', Unnamed: 34='match', Unnamed: 35='no match', Unnamed: 36='no match', Unnamed: 37='match', Unnamed: 38='no match', Unnamed: 39='match', Unnamed: 40='match', Unnamed: 41='no match', Unnamed: 42='match', Unnamed: 43='no match', Unnamed: 44='no match', Unnamed: 45='match', Unnamed: 46='no match', Unnamed: 47='match', Unnamed: 48='no match', Unnamed: 49='no match', Unnamed: 50='no match', label='B')"
      ]
     },
     "execution_count": 139,
     "metadata": {},
     "output_type": "execute_result"
    }
   ],
   "source": [
    "Bres1.row(1)"
   ]
  },
  {
   "cell_type": "code",
   "execution_count": 140,
   "metadata": {},
   "outputs": [
    {
     "data": {
      "text/plain": [
       "array([ True,  True,  True,  True,  True,  True,  True,  True,  True,\n",
       "        True,  True,  True,  True,  True,  True,  True,  True,  True,\n",
       "        True,  True,  True,  True,  True,  True,  True,  True,  True,\n",
       "        True,  True,  True,  True,  True,  True,  True,  True,  True,\n",
       "        True,  True,  True,  True,  True,  True,  True,  True,  True,\n",
       "        True,  True,  True,  True,  True], dtype=bool)"
      ]
     },
     "execution_count": 140,
     "metadata": {},
     "output_type": "execute_result"
    }
   ],
   "source": [
    "Bres1.drop(50).row(1) == Bres_flip[1]"
   ]
  },
  {
   "cell_type": "code",
   "execution_count": 141,
   "metadata": {},
   "outputs": [
    {
     "data": {
      "text/plain": [
       "50"
      ]
     },
     "execution_count": 141,
     "metadata": {},
     "output_type": "execute_result"
    }
   ],
   "source": [
    "len(Bres_flip[1])"
   ]
  },
  {
   "cell_type": "code",
   "execution_count": 142,
   "metadata": {},
   "outputs": [
    {
     "data": {
      "text/plain": [
       "array([ 0.68,  0.96,  0.82,  0.84,  0.84,  0.76,  0.8 ,  0.8 ,  0.7 ,\n",
       "        0.8 ,  0.78,  0.8 ,  0.8 ,  0.88,  0.82,  0.56,  0.58,  0.68,\n",
       "        0.66,  0.88,  0.58,  0.6 ])"
      ]
     },
     "execution_count": 142,
     "metadata": {},
     "output_type": "execute_result"
    }
   ],
   "source": [
    "Bscores = make_array()\n",
    "\n",
    "for i in np.arange(len(Bres_flip.columns)):\n",
    "    Bscores = np.append(Bscores, (sum(answerkey == Bres_flip[i]))/50)\n",
    "Bscores"
   ]
  },
  {
   "cell_type": "code",
   "execution_count": 143,
   "metadata": {},
   "outputs": [
    {
     "data": {
      "text/plain": [
       "array([ 34.,  48.,  41.,  42.,  42.,  38.,  40.,  40.,  35.,  40.,  39.,\n",
       "        40.,  40.,  44.,  41.,  28.,  29.,  34.,  33.,  44.,  29.,  30.])"
      ]
     },
     "execution_count": 143,
     "metadata": {},
     "output_type": "execute_result"
    }
   ],
   "source": [
    "Bpoints = make_array()\n",
    "\n",
    "for i in np.arange(len(Bres_flip.columns)):\n",
    "    Bpoints = np.append(Bpoints, (sum(answerkey == Bres_flip[i])))\n",
    "Bpoints"
   ]
  },
  {
   "cell_type": "code",
   "execution_count": null,
   "metadata": {},
   "outputs": [],
   "source": []
  },
  {
   "cell_type": "code",
   "execution_count": 144,
   "metadata": {},
   "outputs": [],
   "source": [
    "Cres1=Cres.drop(0)\n",
    "Cres_flip = Table()\n",
    "for i in np.arange(0,Cres.num_rows):\n",
    "    Cres_flip = Cres_flip.with_columns(Cres1[50][i], Cres1.row(i))\n",
    "Cres_flip = Cres_flip.take(np.arange(50))"
   ]
  },
  {
   "cell_type": "code",
   "execution_count": 145,
   "metadata": {},
   "outputs": [
    {
     "data": {
      "text/plain": [
       "array([ 0.68,  0.86,  0.8 ,  0.82,  0.58,  0.76,  0.78,  0.68,  0.6 ,\n",
       "        0.64,  0.78,  0.7 ,  0.58,  0.78,  0.7 ,  0.86,  0.6 ,  0.82,\n",
       "        0.92,  0.84,  0.7 ,  0.86])"
      ]
     },
     "execution_count": 145,
     "metadata": {},
     "output_type": "execute_result"
    }
   ],
   "source": [
    "Cscores = make_array()\n",
    "\n",
    "for i in np.arange(len(Cres_flip.columns)):\n",
    "    Cscores = np.append(Cscores, (sum(answerkey == Cres_flip[i]))/50)\n",
    "Cscores"
   ]
  },
  {
   "cell_type": "code",
   "execution_count": 146,
   "metadata": {},
   "outputs": [
    {
     "data": {
      "text/plain": [
       "array([ 34.,  43.,  40.,  41.,  29.,  38.,  39.,  34.,  30.,  32.,  39.,\n",
       "        35.,  29.,  39.,  35.,  43.,  30.,  41.,  46.,  42.,  35.,  43.])"
      ]
     },
     "execution_count": 146,
     "metadata": {},
     "output_type": "execute_result"
    }
   ],
   "source": [
    "Cpoints = make_array()\n",
    "\n",
    "for i in np.arange(len(Cres_flip.columns)):\n",
    "    Cpoints = np.append(Cpoints, (sum(answerkey == Cres_flip[i])))\n",
    "Cpoints"
   ]
  },
  {
   "cell_type": "code",
   "execution_count": 147,
   "metadata": {},
   "outputs": [
    {
     "data": {
      "text/plain": [
       "0.75545454545454549"
      ]
     },
     "execution_count": 147,
     "metadata": {},
     "output_type": "execute_result"
    }
   ],
   "source": [
    "np.mean(Bscores)"
   ]
  },
  {
   "cell_type": "code",
   "execution_count": 148,
   "metadata": {},
   "outputs": [
    {
     "data": {
      "text/plain": [
       "0.74272727272727268"
      ]
     },
     "execution_count": 148,
     "metadata": {},
     "output_type": "execute_result"
    }
   ],
   "source": [
    "np.mean(Cscores)"
   ]
  },
  {
   "cell_type": "code",
   "execution_count": null,
   "metadata": {},
   "outputs": [],
   "source": []
  },
  {
   "cell_type": "code",
   "execution_count": 149,
   "metadata": {},
   "outputs": [],
   "source": [
    "BCscores = np.append(Bscores, Cscores)"
   ]
  },
  {
   "cell_type": "code",
   "execution_count": 150,
   "metadata": {},
   "outputs": [
    {
     "data": {
      "text/plain": [
       "array([ 0.68,  0.96,  0.82,  0.84,  0.84,  0.76,  0.8 ,  0.8 ,  0.7 ,\n",
       "        0.8 ,  0.78,  0.8 ,  0.8 ,  0.88,  0.82,  0.56,  0.58,  0.68,\n",
       "        0.66,  0.88,  0.58,  0.6 ,  0.68,  0.86,  0.8 ,  0.82,  0.58,\n",
       "        0.76,  0.78,  0.68,  0.6 ,  0.64,  0.78,  0.7 ,  0.58,  0.78,\n",
       "        0.7 ,  0.86,  0.6 ,  0.82,  0.92,  0.84,  0.7 ,  0.86])"
      ]
     },
     "execution_count": 150,
     "metadata": {},
     "output_type": "execute_result"
    }
   ],
   "source": [
    "BCscores"
   ]
  },
  {
   "cell_type": "code",
   "execution_count": 151,
   "metadata": {},
   "outputs": [
    {
     "data": {
      "text/plain": [
       "0.74909090909090914"
      ]
     },
     "execution_count": 151,
     "metadata": {},
     "output_type": "execute_result"
    }
   ],
   "source": [
    "np.mean(BCscores)"
   ]
  },
  {
   "cell_type": "code",
   "execution_count": 152,
   "metadata": {},
   "outputs": [],
   "source": [
    "bmm = make_array() \n",
    "bem = make_array()\n",
    "bcr = make_array()\n",
    "\n",
    "for i in np.arange(len(Bres_flip.columns)):\n",
    "    Bmissedmatches = 0\n",
    "    Berrormatches = 0\n",
    "    correct = 0\n",
    "    for l in np.arange(50):\n",
    "        if answerkey[l] == \"match\" and Bres_flip[i][l] == \"no match\":\n",
    "            Bmissedmatches = Bmissedmatches + 1\n",
    "        elif answerkey[l] == \"no match\" and Bres_flip[i][l] == \"match\":\n",
    "            Berrormatches = Berrormatches + 1\n",
    "        else:\n",
    "            correct = correct+1\n",
    "\n",
    "    bmm, bem, bcr = np.append(bmm, Bmissedmatches), np.append(bem, Berrormatches), np.append(bcr, correct)"
   ]
  },
  {
   "cell_type": "code",
   "execution_count": 153,
   "metadata": {},
   "outputs": [
    {
     "data": {
      "text/plain": [
       "array([  9.,   2.,   2.,   7.,   2.,   5.,   9.,   7.,  10.,   2.,   6.,\n",
       "         9.,  10.,   3.,   9.,  13.,  16.,   7.,  11.,   2.,   5.,   9.])"
      ]
     },
     "execution_count": 153,
     "metadata": {},
     "output_type": "execute_result"
    }
   ],
   "source": [
    "bmm"
   ]
  },
  {
   "cell_type": "code",
   "execution_count": 154,
   "metadata": {},
   "outputs": [
    {
     "data": {
      "text/plain": [
       "array([  7.,   0.,   7.,   1.,   6.,   7.,   1.,   3.,   5.,   8.,   5.,\n",
       "         1.,   0.,   3.,   0.,   9.,   5.,   4.,   6.,   2.,  16.,  11.])"
      ]
     },
     "execution_count": 154,
     "metadata": {},
     "output_type": "execute_result"
    }
   ],
   "source": [
    "bem"
   ]
  },
  {
   "cell_type": "code",
   "execution_count": 155,
   "metadata": {},
   "outputs": [
    {
     "data": {
      "text/plain": [
       "array([ 34.,  48.,  41.,  42.,  42.,  38.,  40.,  40.,  35.,  40.,  39.,\n",
       "        40.,  40.,  44.,  41.,  28.,  29.,  39.,  33.,  46.,  29.,  30.])"
      ]
     },
     "execution_count": 155,
     "metadata": {},
     "output_type": "execute_result"
    }
   ],
   "source": [
    "bcr"
   ]
  },
  {
   "cell_type": "code",
   "execution_count": 156,
   "metadata": {},
   "outputs": [
    {
     "data": {
      "image/png": "[encoded data removed]",
      "text/plain": [
       "<Figure size 432x432 with 1 Axes>"
      ]
     },
     "metadata": {},
     "output_type": "display_data"
    }
   ],
   "source": [
    "bdattbl = Table().with_columns(\"Total Score\", bcr/50)\n",
    "bdattbl = bdattbl.with_columns(\"Missed Matches\", bmm/50)\n",
    "bdattbl = bdattbl.with_columns(\"Erroneous Matches\", bem/50)\n",
    "bdattbl = bdattbl.sort(bcr)\n",
    "bdattbl = bdattbl.with_columns(\"ID\", np.arange(1,bdattbl.num_rows+1))\n",
    "bdattbl.plot(\"ID\")"
   ]
  },
  {
   "cell_type": "code",
   "execution_count": 157,
   "metadata": {},
   "outputs": [
    {
     "data": {
      "text/html": [
       "<table border=\"1\" class=\"dataframe\">\n",
       "    <thead>\n",
       "        <tr>\n",
       "            <th>Total Score</th> <th>Missed Matches</th> <th>Erroneous Matches</th> <th>ID</th>\n",
       "        </tr>\n",
       "    </thead>\n",
       "    <tbody>\n",
       "        <tr>\n",
       "            <td>0.56       </td> <td>0.26          </td> <td>0.18             </td> <td>1   </td>\n",
       "        </tr>\n",
       "        <tr>\n",
       "            <td>0.58       </td> <td>0.32          </td> <td>0.1              </td> <td>2   </td>\n",
       "        </tr>\n",
       "        <tr>\n",
       "            <td>0.58       </td> <td>0.1           </td> <td>0.32             </td> <td>3   </td>\n",
       "        </tr>\n",
       "        <tr>\n",
       "            <td>0.6        </td> <td>0.18          </td> <td>0.22             </td> <td>4   </td>\n",
       "        </tr>\n",
       "        <tr>\n",
       "            <td>0.66       </td> <td>0.22          </td> <td>0.12             </td> <td>5   </td>\n",
       "        </tr>\n",
       "        <tr>\n",
       "            <td>0.68       </td> <td>0.18          </td> <td>0.14             </td> <td>6   </td>\n",
       "        </tr>\n",
       "        <tr>\n",
       "            <td>0.7        </td> <td>0.2           </td> <td>0.1              </td> <td>7   </td>\n",
       "        </tr>\n",
       "        <tr>\n",
       "            <td>0.76       </td> <td>0.1           </td> <td>0.14             </td> <td>8   </td>\n",
       "        </tr>\n",
       "        <tr>\n",
       "            <td>0.78       </td> <td>0.12          </td> <td>0.1              </td> <td>9   </td>\n",
       "        </tr>\n",
       "        <tr>\n",
       "            <td>0.78       </td> <td>0.14          </td> <td>0.08             </td> <td>10  </td>\n",
       "        </tr>\n",
       "    </tbody>\n",
       "</table>\n",
       "<p>... (12 rows omitted)</p>"
      ],
      "text/plain": [
       "Total Score | Missed Matches | Erroneous Matches | ID\n",
       "0.56        | 0.26           | 0.18              | 1\n",
       "0.58        | 0.32           | 0.1               | 2\n",
       "0.58        | 0.1            | 0.32              | 3\n",
       "0.6         | 0.18           | 0.22              | 4\n",
       "0.66        | 0.22           | 0.12              | 5\n",
       "0.68        | 0.18           | 0.14              | 6\n",
       "0.7         | 0.2            | 0.1               | 7\n",
       "0.76        | 0.1            | 0.14              | 8\n",
       "0.78        | 0.12           | 0.1               | 9\n",
       "0.78        | 0.14           | 0.08              | 10\n",
       "... (12 rows omitted)"
      ]
     },
     "execution_count": 157,
     "metadata": {},
     "output_type": "execute_result"
    }
   ],
   "source": [
    "bdattbl"
   ]
  },
  {
   "cell_type": "code",
   "execution_count": 158,
   "metadata": {},
   "outputs": [
    {
     "data": {
      "image/png": "[encoded data removed]",
      "text/plain": [
       "<Figure size 432x432 with 1 Axes>"
      ]
     },
     "metadata": {},
     "output_type": "display_data"
    }
   ],
   "source": [
    "bdattbl = Table().with_columns(\"Percent of Total Score\", bcr*2)\n",
    "bdattbl = bdattbl.with_columns(\"Missed Matches\", bmm*2)\n",
    "bdattbl = bdattbl.with_columns(\"Erroneous Matches\", bem*2)\n",
    "bdattbl = bdattbl.sort(bcr)\n",
    "bdattbl = bdattbl.with_columns(\"Observer ID\", np.arange(1,bdattbl.num_rows+1))\n",
    "bdattbl.plot(\"Observer ID\" )"
   ]
  },
  {
   "cell_type": "code",
   "execution_count": 159,
   "metadata": {},
   "outputs": [
    {
     "data": {
      "text/html": [
       "<table border=\"1\" class=\"dataframe\">\n",
       "    <thead>\n",
       "        <tr>\n",
       "            <th>Percent of Total Score</th> <th>Missed Matches</th> <th>Erroneous Matches</th> <th>Observer ID</th>\n",
       "        </tr>\n",
       "    </thead>\n",
       "    <tbody>\n",
       "        <tr>\n",
       "            <td>56                    </td> <td>26            </td> <td>18               </td> <td>1          </td>\n",
       "        </tr>\n",
       "        <tr>\n",
       "            <td>58                    </td> <td>32            </td> <td>10               </td> <td>2          </td>\n",
       "        </tr>\n",
       "        <tr>\n",
       "            <td>58                    </td> <td>10            </td> <td>32               </td> <td>3          </td>\n",
       "        </tr>\n",
       "        <tr>\n",
       "            <td>60                    </td> <td>18            </td> <td>22               </td> <td>4          </td>\n",
       "        </tr>\n",
       "        <tr>\n",
       "            <td>66                    </td> <td>22            </td> <td>12               </td> <td>5          </td>\n",
       "        </tr>\n",
       "        <tr>\n",
       "            <td>68                    </td> <td>18            </td> <td>14               </td> <td>6          </td>\n",
       "        </tr>\n",
       "        <tr>\n",
       "            <td>70                    </td> <td>20            </td> <td>10               </td> <td>7          </td>\n",
       "        </tr>\n",
       "        <tr>\n",
       "            <td>76                    </td> <td>10            </td> <td>14               </td> <td>8          </td>\n",
       "        </tr>\n",
       "        <tr>\n",
       "            <td>78                    </td> <td>12            </td> <td>10               </td> <td>9          </td>\n",
       "        </tr>\n",
       "        <tr>\n",
       "            <td>78                    </td> <td>14            </td> <td>8                </td> <td>10         </td>\n",
       "        </tr>\n",
       "        <tr>\n",
       "            <td>80                    </td> <td>18            </td> <td>2                </td> <td>11         </td>\n",
       "        </tr>\n",
       "        <tr>\n",
       "            <td>80                    </td> <td>14            </td> <td>6                </td> <td>12         </td>\n",
       "        </tr>\n",
       "        <tr>\n",
       "            <td>80                    </td> <td>4             </td> <td>16               </td> <td>13         </td>\n",
       "        </tr>\n",
       "        <tr>\n",
       "            <td>80                    </td> <td>18            </td> <td>2                </td> <td>14         </td>\n",
       "        </tr>\n",
       "        <tr>\n",
       "            <td>80                    </td> <td>20            </td> <td>0                </td> <td>15         </td>\n",
       "        </tr>\n",
       "        <tr>\n",
       "            <td>82                    </td> <td>4             </td> <td>14               </td> <td>16         </td>\n",
       "        </tr>\n",
       "        <tr>\n",
       "            <td>82                    </td> <td>18            </td> <td>0                </td> <td>17         </td>\n",
       "        </tr>\n",
       "        <tr>\n",
       "            <td>84                    </td> <td>14            </td> <td>2                </td> <td>18         </td>\n",
       "        </tr>\n",
       "        <tr>\n",
       "            <td>84                    </td> <td>4             </td> <td>12               </td> <td>19         </td>\n",
       "        </tr>\n",
       "        <tr>\n",
       "            <td>88                    </td> <td>6             </td> <td>6                </td> <td>20         </td>\n",
       "        </tr>\n",
       "        <tr>\n",
       "            <td>92                    </td> <td>4             </td> <td>4                </td> <td>21         </td>\n",
       "        </tr>\n",
       "        <tr>\n",
       "            <td>96                    </td> <td>4             </td> <td>0                </td> <td>22         </td>\n",
       "        </tr>\n",
       "    </tbody>\n",
       "</table>"
      ],
      "text/plain": [
       "<IPython.core.display.HTML object>"
      ]
     },
     "metadata": {},
     "output_type": "display_data"
    }
   ],
   "source": [
    "bdattbl.show(22)"
   ]
  },
  {
   "cell_type": "code",
   "execution_count": null,
   "metadata": {},
   "outputs": [],
   "source": []
  },
  {
   "cell_type": "code",
   "execution_count": 160,
   "metadata": {},
   "outputs": [],
   "source": [
    "cmm = make_array()\n",
    "cem = make_array()\n",
    "ccr = make_array()\n",
    "\n",
    "for i in np.arange(len(Cres_flip.columns)):\n",
    "    Cmissedmatches = 0\n",
    "    Cerrormatches = 0\n",
    "    correct = 0\n",
    "    for l in np.arange(50):\n",
    "        if answerkey[l] == \"match\" and Cres_flip[i][l] == \"no match\":\n",
    "            Cmissedmatches = Cmissedmatches + 1\n",
    "        elif answerkey[l] == \"no match\" and Cres_flip[i][l] == \"match\":\n",
    "            Cerrormatches = Cerrormatches + 1\n",
    "        else:\n",
    "            correct = correct+1\n",
    "\n",
    "    cmm, cem, ccr = np.append(cmm, Cmissedmatches), np.append(cem, Cerrormatches), np.append(ccr, correct)"
   ]
  },
  {
   "cell_type": "code",
   "execution_count": 161,
   "metadata": {},
   "outputs": [
    {
     "data": {
      "text/plain": [
       "array([ 10.,   7.,   8.,   2.,  12.,   8.,   3.,  12.,  13.,  12.,  11.,\n",
       "         3.,   4.,   6.,   5.,   3.,  13.,   7.,   4.,   7.,   1.,   7.])"
      ]
     },
     "execution_count": 161,
     "metadata": {},
     "output_type": "execute_result"
    }
   ],
   "source": [
    "cmm"
   ]
  },
  {
   "cell_type": "code",
   "execution_count": 162,
   "metadata": {},
   "outputs": [
    {
     "data": {
      "text/plain": [
       "array([  4.,   0.,   2.,   7.,   9.,   4.,   8.,   4.,   7.,   6.,   0.,\n",
       "        12.,  17.,   5.,  10.,   4.,   6.,   2.,   0.,   1.,  14.,   0.])"
      ]
     },
     "execution_count": 162,
     "metadata": {},
     "output_type": "execute_result"
    }
   ],
   "source": [
    "cem"
   ]
  },
  {
   "cell_type": "code",
   "execution_count": 163,
   "metadata": {},
   "outputs": [
    {
     "data": {
      "text/plain": [
       "array([ 36.,  43.,  40.,  41.,  29.,  38.,  39.,  34.,  30.,  32.,  39.,\n",
       "        35.,  29.,  39.,  35.,  43.,  31.,  41.,  46.,  42.,  35.,  43.])"
      ]
     },
     "execution_count": 163,
     "metadata": {},
     "output_type": "execute_result"
    }
   ],
   "source": [
    "ccr"
   ]
  },
  {
   "cell_type": "code",
   "execution_count": null,
   "metadata": {},
   "outputs": [],
   "source": []
  },
  {
   "cell_type": "code",
   "execution_count": 164,
   "metadata": {},
   "outputs": [
    {
     "data": {
      "image/png": "[encoded data removed]",
      "text/plain": [
       "<Figure size 432x432 with 1 Axes>"
      ]
     },
     "metadata": {},
     "output_type": "display_data"
    }
   ],
   "source": [
    "cdattbl = Table().with_columns(\"Total Score\", ccr*2)\n",
    "cdattbl = cdattbl.with_columns(\"Missed Matches\", cmm*2)\n",
    "cdattbl = cdattbl.with_columns(\"Erroneous Matches\", cem*2)\n",
    "cdattbl = cdattbl.sort(ccr)\n",
    "cdattbl = cdattbl.with_columns(\"Observer ID\", np.arange(1,cdattbl.num_rows+1))\n",
    "cdattbl.plot(\"Observer ID\")"
   ]
  },
  {
   "cell_type": "code",
   "execution_count": 165,
   "metadata": {},
   "outputs": [
    {
     "data": {
      "text/html": [
       "<table border=\"1\" class=\"dataframe\">\n",
       "    <thead>\n",
       "        <tr>\n",
       "            <th>Total Score</th> <th>Missed Matches</th> <th>Erroneous Matches</th> <th>Observer ID</th>\n",
       "        </tr>\n",
       "    </thead>\n",
       "    <tbody>\n",
       "        <tr>\n",
       "            <td>58         </td> <td>24            </td> <td>18               </td> <td>1          </td>\n",
       "        </tr>\n",
       "        <tr>\n",
       "            <td>58         </td> <td>8             </td> <td>34               </td> <td>2          </td>\n",
       "        </tr>\n",
       "        <tr>\n",
       "            <td>60         </td> <td>26            </td> <td>14               </td> <td>3          </td>\n",
       "        </tr>\n",
       "        <tr>\n",
       "            <td>62         </td> <td>26            </td> <td>12               </td> <td>4          </td>\n",
       "        </tr>\n",
       "        <tr>\n",
       "            <td>64         </td> <td>24            </td> <td>12               </td> <td>5          </td>\n",
       "        </tr>\n",
       "        <tr>\n",
       "            <td>68         </td> <td>24            </td> <td>8                </td> <td>6          </td>\n",
       "        </tr>\n",
       "        <tr>\n",
       "            <td>70         </td> <td>6             </td> <td>24               </td> <td>7          </td>\n",
       "        </tr>\n",
       "        <tr>\n",
       "            <td>70         </td> <td>10            </td> <td>20               </td> <td>8          </td>\n",
       "        </tr>\n",
       "        <tr>\n",
       "            <td>70         </td> <td>2             </td> <td>28               </td> <td>9          </td>\n",
       "        </tr>\n",
       "        <tr>\n",
       "            <td>72         </td> <td>20            </td> <td>8                </td> <td>10         </td>\n",
       "        </tr>\n",
       "    </tbody>\n",
       "</table>\n",
       "<p>... (12 rows omitted)</p>"
      ],
      "text/plain": [
       "Total Score | Missed Matches | Erroneous Matches | Observer ID\n",
       "58          | 24             | 18                | 1\n",
       "58          | 8              | 34                | 2\n",
       "60          | 26             | 14                | 3\n",
       "62          | 26             | 12                | 4\n",
       "64          | 24             | 12                | 5\n",
       "68          | 24             | 8                 | 6\n",
       "70          | 6              | 24                | 7\n",
       "70          | 10             | 20                | 8\n",
       "70          | 2              | 28                | 9\n",
       "72          | 20             | 8                 | 10\n",
       "... (12 rows omitted)"
      ]
     },
     "execution_count": 165,
     "metadata": {},
     "output_type": "execute_result"
    }
   ],
   "source": [
    "cdattbl"
   ]
  },
  {
   "cell_type": "code",
   "execution_count": 166,
   "metadata": {},
   "outputs": [
    {
     "data": {
      "text/plain": [
       "Ttest_indResult(statistic=0.39777191401518719, pvalue=0.69281293723338289)"
      ]
     },
     "execution_count": 166,
     "metadata": {},
     "output_type": "execute_result"
    }
   ],
   "source": [
    "ttest_ind(Bscores, Cscores)"
   ]
  },
  {
   "cell_type": "code",
   "execution_count": 167,
   "metadata": {},
   "outputs": [
    {
     "data": {
      "image/png": "[encoded data removed]",
      "text/plain": [
       "<Figure size 432x432 with 1 Axes>"
      ]
     },
     "metadata": {},
     "output_type": "display_data"
    }
   ],
   "source": [
    "cdattbl.plot(\"Observer ID\")"
   ]
  },
  {
   "cell_type": "code",
   "execution_count": 168,
   "metadata": {},
   "outputs": [
    {
     "data": {
      "text/plain": [
       "22"
      ]
     },
     "execution_count": 168,
     "metadata": {},
     "output_type": "execute_result"
    }
   ],
   "source": [
    "len(Bscores\n",
    "   )"
   ]
  },
  {
   "cell_type": "code",
   "execution_count": 169,
   "metadata": {},
   "outputs": [
    {
     "data": {
      "text/plain": [
       "22"
      ]
     },
     "execution_count": 169,
     "metadata": {},
     "output_type": "execute_result"
    }
   ],
   "source": [
    "len(Cscores\n",
    "   )"
   ]
  },
  {
   "cell_type": "code",
   "execution_count": null,
   "metadata": {},
   "outputs": [],
   "source": []
  },
  {
   "cell_type": "code",
   "execution_count": 170,
   "metadata": {},
   "outputs": [
    {
     "data": {
      "text/plain": [
       "28"
      ]
     },
     "execution_count": 170,
     "metadata": {},
     "output_type": "execute_result"
    }
   ],
   "source": [
    "sum(answerkey == \"match\")"
   ]
  },
  {
   "cell_type": "code",
   "execution_count": 171,
   "metadata": {},
   "outputs": [
    {
     "data": {
      "text/plain": [
       "22"
      ]
     },
     "execution_count": 171,
     "metadata": {},
     "output_type": "execute_result"
    }
   ],
   "source": [
    "sum(answerkey == \"no match\")"
   ]
  },
  {
   "cell_type": "code",
   "execution_count": 172,
   "metadata": {},
   "outputs": [
    {
     "data": {
      "text/plain": [
       "0.25162337662337664"
      ]
     },
     "execution_count": 172,
     "metadata": {},
     "output_type": "execute_result"
    }
   ],
   "source": [
    "np.mean(bmm/sum(answerkey == \"match\"))"
   ]
  },
  {
   "cell_type": "code",
   "execution_count": 173,
   "metadata": {},
   "outputs": [
    {
     "data": {
      "text/plain": [
       "0.2564935064935065"
      ]
     },
     "execution_count": 173,
     "metadata": {},
     "output_type": "execute_result"
    }
   ],
   "source": [
    "np.mean(cmm/sum(answerkey == \"match\"))"
   ]
  },
  {
   "cell_type": "code",
   "execution_count": 174,
   "metadata": {},
   "outputs": [
    {
     "data": {
      "text/plain": [
       "0.22107438016528924"
      ]
     },
     "execution_count": 174,
     "metadata": {},
     "output_type": "execute_result"
    }
   ],
   "source": [
    "np.mean(bem/sum(answerkey == \"no match\"))"
   ]
  },
  {
   "cell_type": "code",
   "execution_count": 175,
   "metadata": {},
   "outputs": [
    {
     "data": {
      "text/plain": [
       "0.25206611570247933"
      ]
     },
     "execution_count": 175,
     "metadata": {},
     "output_type": "execute_result"
    }
   ],
   "source": [
    "np.mean(cem/sum(answerkey == \"no match\"))"
   ]
  },
  {
   "cell_type": "code",
   "execution_count": 176,
   "metadata": {},
   "outputs": [
    {
     "data": {
      "text/plain": [
       "0.023426474023278056"
      ]
     },
     "execution_count": 176,
     "metadata": {},
     "output_type": "execute_result"
    }
   ],
   "source": [
    "sem(Bscores)"
   ]
  },
  {
   "cell_type": "code",
   "execution_count": 177,
   "metadata": {},
   "outputs": [
    {
     "data": {
      "text/plain": [
       "0.021793817565112204"
      ]
     },
     "execution_count": 177,
     "metadata": {},
     "output_type": "execute_result"
    }
   ],
   "source": [
    "sem(Cscores)"
   ]
  },
  {
   "cell_type": "code",
   "execution_count": 178,
   "metadata": {},
   "outputs": [
    {
     "data": {
      "text/plain": [
       "0.63636363636363635"
      ]
     },
     "execution_count": 178,
     "metadata": {},
     "output_type": "execute_result"
    }
   ],
   "source": [
    "sum(Bscores > 0.75)/len(Bscores)"
   ]
  },
  {
   "cell_type": "code",
   "execution_count": 179,
   "metadata": {},
   "outputs": [
    {
     "data": {
      "text/plain": [
       "0.54545454545454541"
      ]
     },
     "execution_count": 179,
     "metadata": {},
     "output_type": "execute_result"
    }
   ],
   "source": [
    "sum(Cscores > 0.75)/len(Cscores)"
   ]
  },
  {
   "cell_type": "code",
   "execution_count": null,
   "metadata": {},
   "outputs": [],
   "source": []
  },
  {
   "cell_type": "code",
   "execution_count": 180,
   "metadata": {},
   "outputs": [
    {
     "data": {
      "text/plain": [
       "Ttest_1sampResult(statistic=10.904523881857312, pvalue=4.1651827448740315e-10)"
      ]
     },
     "execution_count": 180,
     "metadata": {},
     "output_type": "execute_result"
    }
   ],
   "source": [
    "ttest_1samp(Bscores, 0.5)"
   ]
  },
  {
   "cell_type": "code",
   "execution_count": 181,
   "metadata": {},
   "outputs": [
    {
     "data": {
      "text/plain": [
       "Ttest_1sampResult(statistic=11.137437119590894, pvalue=2.8449948583966461e-10)"
      ]
     },
     "execution_count": 181,
     "metadata": {},
     "output_type": "execute_result"
    }
   ],
   "source": [
    "ttest_1samp(Cscores, 0.5)"
   ]
  },
  {
   "cell_type": "code",
   "execution_count": 182,
   "metadata": {},
   "outputs": [
    {
     "data": {
      "text/plain": [
       "SpearmanrResult(correlation=-0.6333250741774703, pvalue=0.0015560098106081179)"
      ]
     },
     "execution_count": 182,
     "metadata": {},
     "output_type": "execute_result"
    }
   ],
   "source": [
    "spearmanr(bem, Bscores)"
   ]
  },
  {
   "cell_type": "code",
   "execution_count": 183,
   "metadata": {},
   "outputs": [
    {
     "data": {
      "text/plain": [
       "SpearmanrResult(correlation=-0.69369250690659467, pvalue=0.00034311817922369269)"
      ]
     },
     "execution_count": 183,
     "metadata": {},
     "output_type": "execute_result"
    }
   ],
   "source": [
    "spearmanr(cem, Cscores)"
   ]
  },
  {
   "cell_type": "code",
   "execution_count": 184,
   "metadata": {},
   "outputs": [
    {
     "data": {
      "text/plain": [
       "SpearmanrResult(correlation=-0.64679950711471479, pvalue=0.0011416863342200599)"
      ]
     },
     "execution_count": 184,
     "metadata": {},
     "output_type": "execute_result"
    }
   ],
   "source": [
    "spearmanr(bmm, Bscores)"
   ]
  },
  {
   "cell_type": "code",
   "execution_count": 185,
   "metadata": {},
   "outputs": [
    {
     "data": {
      "text/plain": [
       "SpearmanrResult(correlation=-0.4582030339816841, pvalue=0.031987458831860972)"
      ]
     },
     "execution_count": 185,
     "metadata": {},
     "output_type": "execute_result"
    }
   ],
   "source": [
    "spearmanr(cmm, Cscores)"
   ]
  },
  {
   "cell_type": "code",
   "execution_count": 186,
   "metadata": {},
   "outputs": [
    {
     "data": {
      "text/plain": [
       "SpearmanrResult(correlation=-0.4582030339816841, pvalue=0.031987458831860972)"
      ]
     },
     "execution_count": 186,
     "metadata": {},
     "output_type": "execute_result"
    }
   ],
   "source": [
    "len(Bres_flip[1])\n",
    "Bscores = make_array()\n",
    "\n",
    "for i in np.arange(len(Bres_flip.columns)):\n",
    "    Bscores = np.append(Bscores, (sum(answerkey == Bres_flip[i]))/50)\n",
    "Bscores\n",
    "\n",
    "bmm = make_array() #missed matches in survey B\n",
    "bem = make_array() #erroneous matches in survey B\n",
    "bcr = make_array() #correct responses in survey B\n",
    "\n",
    "for i in np.arange(len(Bres_flip.columns)):\n",
    "    Bmissedmatches = 0\n",
    "    Berrormatches = 0\n",
    "    correct = 0\n",
    "    for l in np.arange(50):\n",
    "        if answerkey[l] == \"match\" and Bres_flip[i][l] == \"no match\":\n",
    "            Bmissedmatches = Bmissedmatches + 1\n",
    "        elif answerkey[l] == \"no match\" and Bres_flip[i][l] == \"match\":\n",
    "            Berrormatches = Berrormatches + 1\n",
    "        else:\n",
    "            correct = correct+1\n",
    "\n",
    "    bmm = np.append(bmm, Bmissedmatches)\n",
    "    bem = np.append(bem, Berrormatches)\n",
    "    bcr = np.append(bcr, correct)\n",
    "\n",
    "    \n",
    "ttest_1samp(Bscores, 0.5)\n",
    "spearmanr(bem, Bscores)\n",
    "spearmanr(bmm, Bscores)\n",
    "\n",
    "\n",
    "Cscores = make_array()\n",
    "\n",
    "for i in np.arange(len(Cres_flip.columns)):\n",
    "    Cscores = np.append(Cscores, (sum(answerkey == Cres_flip[i]))/50)\n",
    "Cscores\n",
    "\n",
    "cmm = make_array() #missed matches in survey C\n",
    "cem = make_array() #erroneous matches in survey C\n",
    "ccr = make_array() #correct responses in survey C\n",
    "\n",
    "for i in np.arange(len(Cres_flip.columns)):\n",
    "    Cmissedmatches = 0\n",
    "    Cerrormatches = 0\n",
    "    correct = 0\n",
    "    for l in np.arange(50):\n",
    "        if answerkey[l] == \"match\" and Cres_flip[i][l] == \"no match\":\n",
    "            Cmissedmatches = Cmissedmatches + 1\n",
    "        elif answerkey[l] == \"no match\" and Cres_flip[i][l] == \"match\":\n",
    "            Cerrormatches = Cerrormatches + 1\n",
    "        else:\n",
    "            correct = correct+1\n",
    "\n",
    "    cmm = np.append(cmm, Cmissedmatches)\n",
    "    cem = np.append(cem, Cerrormatches)\n",
    "    ccr = np.append(ccr, correct)\n",
    "    \n",
    "\n",
    "ttest_1samp(Cscores, 0.5)\n",
    "spearmanr(cem, Cscores)\n",
    "spearmanr(cmm, Cscores)"
   ]
  },
  {
   "cell_type": "code",
   "execution_count": 187,
   "metadata": {},
   "outputs": [
    {
     "data": {
      "text/html": [
       "<table border=\"1\" class=\"dataframe\">\n",
       "    <thead>\n",
       "        <tr>\n",
       "            <th>Unnamed: 1</th> <th>Unnamed: 2</th> <th>Unnamed: 3</th> <th>Unnamed: 4</th> <th>Unnamed: 5</th> <th>Unnamed: 6</th> <th>Unnamed: 7</th> <th>Unnamed: 8</th> <th>Unnamed: 9</th> <th>Unnamed: 10</th> <th>Unnamed: 11</th> <th>Unnamed: 12</th> <th>Unnamed: 13</th> <th>Unnamed: 14</th> <th>Unnamed: 15</th> <th>Unnamed: 16</th> <th>Unnamed: 17</th> <th>Unnamed: 18</th> <th>Unnamed: 19</th> <th>Unnamed: 20</th> <th>Unnamed: 21</th> <th>Unnamed: 22</th> <th>Unnamed: 23</th> <th>Unnamed: 24</th> <th>Unnamed: 25</th> <th>Unnamed: 26</th> <th>Unnamed: 27</th> <th>Unnamed: 28</th> <th>Unnamed: 29</th> <th>Unnamed: 30</th> <th>Unnamed: 31</th> <th>Unnamed: 32</th> <th>Unnamed: 33</th> <th>Unnamed: 34</th> <th>Unnamed: 35</th> <th>Unnamed: 36</th> <th>Unnamed: 37</th> <th>Unnamed: 38</th> <th>Unnamed: 39</th> <th>Unnamed: 40</th> <th>Unnamed: 41</th> <th>Unnamed: 42</th> <th>Unnamed: 43</th> <th>Unnamed: 44</th> <th>Unnamed: 45</th> <th>Unnamed: 46</th> <th>Unnamed: 47</th> <th>Unnamed: 48</th> <th>Unnamed: 49</th> <th>Unnamed: 50</th>\n",
       "        </tr>\n",
       "    </thead>\n",
       "    <tbody>\n",
       "        <tr>\n",
       "            <td>no match  </td> <td>match     </td> <td>match     </td> <td>no match  </td> <td>no match  </td> <td>match     </td> <td>no match  </td> <td>match     </td> <td>match     </td> <td>no match   </td> <td>match      </td> <td>no match   </td> <td>no match   </td> <td>no match   </td> <td>match      </td> <td>match      </td> <td>match      </td> <td>no match   </td> <td>match      </td> <td>no match   </td> <td>no match   </td> <td>match      </td> <td>match      </td> <td>match      </td> <td>match      </td> <td>match      </td> <td>no match   </td> <td>no match   </td> <td>match      </td> <td>match      </td> <td>no match   </td> <td>no match   </td> <td>no match   </td> <td>no match   </td> <td>no match   </td> <td>match      </td> <td>no match   </td> <td>no match   </td> <td>match      </td> <td>match      </td> <td>match      </td> <td>match      </td> <td>no match   </td> <td>no match   </td> <td>match      </td> <td>no match   </td> <td>no match   </td> <td>match      </td> <td>match      </td> <td>match      </td>\n",
       "        </tr>\n",
       "        <tr>\n",
       "            <td>no match  </td> <td>match     </td> <td>match     </td> <td>match     </td> <td>no match  </td> <td>no match  </td> <td>no match  </td> <td>match     </td> <td>no match  </td> <td>match      </td> <td>match      </td> <td>no match   </td> <td>no match   </td> <td>no match   </td> <td>no match   </td> <td>match      </td> <td>match      </td> <td>no match   </td> <td>match      </td> <td>match      </td> <td>no match   </td> <td>match      </td> <td>match      </td> <td>match      </td> <td>match      </td> <td>match      </td> <td>no match   </td> <td>no match   </td> <td>match      </td> <td>match      </td> <td>no match   </td> <td>match      </td> <td>match      </td> <td>match      </td> <td>no match   </td> <td>no match   </td> <td>match      </td> <td>no match   </td> <td>match      </td> <td>match      </td> <td>no match   </td> <td>match      </td> <td>no match   </td> <td>no match   </td> <td>match      </td> <td>no match   </td> <td>match      </td> <td>no match   </td> <td>no match   </td> <td>no match   </td>\n",
       "        </tr>\n",
       "        <tr>\n",
       "            <td>no match  </td> <td>match     </td> <td>match     </td> <td>match     </td> <td>match     </td> <td>match     </td> <td>no match  </td> <td>match     </td> <td>match     </td> <td>match      </td> <td>match      </td> <td>match      </td> <td>no match   </td> <td>no match   </td> <td>no match   </td> <td>match      </td> <td>match      </td> <td>no match   </td> <td>match      </td> <td>no match   </td> <td>no match   </td> <td>match      </td> <td>match      </td> <td>match      </td> <td>match      </td> <td>match      </td> <td>no match   </td> <td>no match   </td> <td>match      </td> <td>match      </td> <td>no match   </td> <td>match      </td> <td>match      </td> <td>match      </td> <td>match      </td> <td>no match   </td> <td>match      </td> <td>no match   </td> <td>match      </td> <td>match      </td> <td>match      </td> <td>match      </td> <td>no match   </td> <td>match      </td> <td>match      </td> <td>no match   </td> <td>match      </td> <td>match      </td> <td>no match   </td> <td>no match   </td>\n",
       "        </tr>\n",
       "        <tr>\n",
       "            <td>no match  </td> <td>no match  </td> <td>match     </td> <td>match     </td> <td>no match  </td> <td>no match  </td> <td>no match  </td> <td>match     </td> <td>match     </td> <td>no match   </td> <td>no match   </td> <td>no match   </td> <td>no match   </td> <td>no match   </td> <td>no match   </td> <td>match      </td> <td>match      </td> <td>no match   </td> <td>match      </td> <td>match      </td> <td>no match   </td> <td>match      </td> <td>match      </td> <td>match      </td> <td>match      </td> <td>match      </td> <td>no match   </td> <td>no match   </td> <td>match      </td> <td>match      </td> <td>no match   </td> <td>no match   </td> <td>match      </td> <td>no match   </td> <td>no match   </td> <td>no match   </td> <td>no match   </td> <td>no match   </td> <td>match      </td> <td>match      </td> <td>no match   </td> <td>match      </td> <td>no match   </td> <td>no match   </td> <td>match      </td> <td>no match   </td> <td>match      </td> <td>match      </td> <td>no match   </td> <td>no match   </td>\n",
       "        </tr>\n",
       "        <tr>\n",
       "            <td>no match  </td> <td>match     </td> <td>match     </td> <td>match     </td> <td>match     </td> <td>match     </td> <td>no match  </td> <td>match     </td> <td>match     </td> <td>no match   </td> <td>match      </td> <td>no match   </td> <td>no match   </td> <td>no match   </td> <td>no match   </td> <td>match      </td> <td>match      </td> <td>no match   </td> <td>match      </td> <td>match      </td> <td>no match   </td> <td>match      </td> <td>match      </td> <td>match      </td> <td>match      </td> <td>match      </td> <td>match      </td> <td>no match   </td> <td>match      </td> <td>match      </td> <td>no match   </td> <td>no match   </td> <td>match      </td> <td>match      </td> <td>no match   </td> <td>no match   </td> <td>match      </td> <td>no match   </td> <td>match      </td> <td>match      </td> <td>match      </td> <td>match      </td> <td>match      </td> <td>no match   </td> <td>match      </td> <td>no match   </td> <td>match      </td> <td>match      </td> <td>no match   </td> <td>match      </td>\n",
       "        </tr>\n",
       "        <tr>\n",
       "            <td>no match  </td> <td>match     </td> <td>match     </td> <td>match     </td> <td>match     </td> <td>no match  </td> <td>no match  </td> <td>match     </td> <td>no match  </td> <td>no match   </td> <td>match      </td> <td>no match   </td> <td>match      </td> <td>match      </td> <td>no match   </td> <td>match      </td> <td>match      </td> <td>no match   </td> <td>match      </td> <td>match      </td> <td>match      </td> <td>match      </td> <td>match      </td> <td>match      </td> <td>match      </td> <td>match      </td> <td>no match   </td> <td>no match   </td> <td>no match   </td> <td>match      </td> <td>no match   </td> <td>no match   </td> <td>no match   </td> <td>match      </td> <td>no match   </td> <td>no match   </td> <td>match      </td> <td>no match   </td> <td>match      </td> <td>match      </td> <td>match      </td> <td>match      </td> <td>match      </td> <td>no match   </td> <td>match      </td> <td>no match   </td> <td>match      </td> <td>match      </td> <td>match      </td> <td>no match   </td>\n",
       "        </tr>\n",
       "        <tr>\n",
       "            <td>no match  </td> <td>match     </td> <td>match     </td> <td>match     </td> <td>no match  </td> <td>no match  </td> <td>no match  </td> <td>match     </td> <td>no match  </td> <td>no match   </td> <td>match      </td> <td>no match   </td> <td>no match   </td> <td>no match   </td> <td>no match   </td> <td>match      </td> <td>match      </td> <td>no match   </td> <td>match      </td> <td>match      </td> <td>no match   </td> <td>match      </td> <td>match      </td> <td>match      </td> <td>match      </td> <td>no match   </td> <td>no match   </td> <td>no match   </td> <td>no match   </td> <td>match      </td> <td>no match   </td> <td>no match   </td> <td>no match   </td> <td>match      </td> <td>no match   </td> <td>no match   </td> <td>no match   </td> <td>no match   </td> <td>match      </td> <td>no match   </td> <td>no match   </td> <td>match      </td> <td>no match   </td> <td>no match   </td> <td>match      </td> <td>match      </td> <td>match      </td> <td>no match   </td> <td>no match   </td> <td>no match   </td>\n",
       "        </tr>\n",
       "        <tr>\n",
       "            <td>no match  </td> <td>match     </td> <td>match     </td> <td>match     </td> <td>no match  </td> <td>no match  </td> <td>no match  </td> <td>no match  </td> <td>no match  </td> <td>match      </td> <td>no match   </td> <td>no match   </td> <td>no match   </td> <td>no match   </td> <td>match      </td> <td>match      </td> <td>match      </td> <td>no match   </td> <td>no match   </td> <td>match      </td> <td>no match   </td> <td>match      </td> <td>match      </td> <td>match      </td> <td>match      </td> <td>match      </td> <td>match      </td> <td>no match   </td> <td>match      </td> <td>match      </td> <td>no match   </td> <td>match      </td> <td>no match   </td> <td>match      </td> <td>no match   </td> <td>no match   </td> <td>no match   </td> <td>no match   </td> <td>match      </td> <td>match      </td> <td>no match   </td> <td>match      </td> <td>match      </td> <td>match      </td> <td>no match   </td> <td>no match   </td> <td>match      </td> <td>no match   </td> <td>no match   </td> <td>no match   </td>\n",
       "        </tr>\n",
       "        <tr>\n",
       "            <td>no match  </td> <td>match     </td> <td>match     </td> <td>no match  </td> <td>no match  </td> <td>no match  </td> <td>no match  </td> <td>match     </td> <td>no match  </td> <td>no match   </td> <td>no match   </td> <td>no match   </td> <td>no match   </td> <td>no match   </td> <td>no match   </td> <td>match      </td> <td>match      </td> <td>no match   </td> <td>match      </td> <td>match      </td> <td>match      </td> <td>match      </td> <td>match      </td> <td>match      </td> <td>match      </td> <td>no match   </td> <td>no match   </td> <td>match      </td> <td>match      </td> <td>match      </td> <td>no match   </td> <td>no match   </td> <td>no match   </td> <td>no match   </td> <td>no match   </td> <td>no match   </td> <td>match      </td> <td>no match   </td> <td>match      </td> <td>match      </td> <td>match      </td> <td>match      </td> <td>no match   </td> <td>match      </td> <td>no match   </td> <td>no match   </td> <td>match      </td> <td>no match   </td> <td>no match   </td> <td>match      </td>\n",
       "        </tr>\n",
       "        <tr>\n",
       "            <td>no match  </td> <td>match     </td> <td>match     </td> <td>match     </td> <td>no match  </td> <td>no match  </td> <td>no match  </td> <td>match     </td> <td>match     </td> <td>match      </td> <td>match      </td> <td>no match   </td> <td>no match   </td> <td>no match   </td> <td>no match   </td> <td>match      </td> <td>match      </td> <td>no match   </td> <td>match      </td> <td>match      </td> <td>no match   </td> <td>match      </td> <td>match      </td> <td>match      </td> <td>match      </td> <td>match      </td> <td>no match   </td> <td>match      </td> <td>match      </td> <td>match      </td> <td>no match   </td> <td>no match   </td> <td>match      </td> <td>match      </td> <td>match      </td> <td>no match   </td> <td>match      </td> <td>no match   </td> <td>match      </td> <td>match      </td> <td>match      </td> <td>match      </td> <td>match      </td> <td>match      </td> <td>match      </td> <td>match      </td> <td>match      </td> <td>match      </td> <td>no match   </td> <td>match      </td>\n",
       "        </tr>\n",
       "    </tbody>\n",
       "</table>\n",
       "<p>... (12 rows omitted)</p>"
      ],
      "text/plain": [
       "Unnamed: 1 | Unnamed: 2 | Unnamed: 3 | Unnamed: 4 | Unnamed: 5 | Unnamed: 6 | Unnamed: 7 | Unnamed: 8 | Unnamed: 9 | Unnamed: 10 | Unnamed: 11 | Unnamed: 12 | Unnamed: 13 | Unnamed: 14 | Unnamed: 15 | Unnamed: 16 | Unnamed: 17 | Unnamed: 18 | Unnamed: 19 | Unnamed: 20 | Unnamed: 21 | Unnamed: 22 | Unnamed: 23 | Unnamed: 24 | Unnamed: 25 | Unnamed: 26 | Unnamed: 27 | Unnamed: 28 | Unnamed: 29 | Unnamed: 30 | Unnamed: 31 | Unnamed: 32 | Unnamed: 33 | Unnamed: 34 | Unnamed: 35 | Unnamed: 36 | Unnamed: 37 | Unnamed: 38 | Unnamed: 39 | Unnamed: 40 | Unnamed: 41 | Unnamed: 42 | Unnamed: 43 | Unnamed: 44 | Unnamed: 45 | Unnamed: 46 | Unnamed: 47 | Unnamed: 48 | Unnamed: 49 | Unnamed: 50\n",
       "no match   | match      | match      | no match   | no match   | match      | no match   | match      | match      | no match    | match       | no match    | no match    | no match    | match       | match       | match       | no match    | match       | no match    | no match    | match       | match       | match       | match       | match       | no match    | no match    | match       | match       | no match    | no match    | no match    | no match    | no match    | match       | no match    | no match    | match       | match       | match       | match       | no match    | no match    | match       | no match    | no match    | match       | match       | match\n",
       "no match   | match      | match      | match      | no match   | no match   | no match   | match      | no match   | match       | match       | no match    | no match    | no match    | no match    | match       | match       | no match    | match       | match       | no match    | match       | match       | match       | match       | match       | no match    | no match    | match       | match       | no match    | match       | match       | match       | no match    | no match    | match       | no match    | match       | match       | no match    | match       | no match    | no match    | match       | no match    | match       | no match    | no match    | no match\n",
       "no match   | match      | match      | match      | match      | match      | no match   | match      | match      | match       | match       | match       | no match    | no match    | no match    | match       | match       | no match    | match       | no match    | no match    | match       | match       | match       | match       | match       | no match    | no match    | match       | match       | no match    | match       | match       | match       | match       | no match    | match       | no match    | match       | match       | match       | match       | no match    | match       | match       | no match    | match       | match       | no match    | no match\n",
       "no match   | no match   | match      | match      | no match   | no match   | no match   | match      | match      | no match    | no match    | no match    | no match    | no match    | no match    | match       | match       | no match    | match       | match       | no match    | match       | match       | match       | match       | match       | no match    | no match    | match       | match       | no match    | no match    | match       | no match    | no match    | no match    | no match    | no match    | match       | match       | no match    | match       | no match    | no match    | match       | no match    | match       | match       | no match    | no match\n",
       "no match   | match      | match      | match      | match      | match      | no match   | match      | match      | no match    | match       | no match    | no match    | no match    | no match    | match       | match       | no match    | match       | match       | no match    | match       | match       | match       | match       | match       | match       | no match    | match       | match       | no match    | no match    | match       | match       | no match    | no match    | match       | no match    | match       | match       | match       | match       | match       | no match    | match       | no match    | match       | match       | no match    | match\n",
       "no match   | match      | match      | match      | match      | no match   | no match   | match      | no match   | no match    | match       | no match    | match       | match       | no match    | match       | match       | no match    | match       | match       | match       | match       | match       | match       | match       | match       | no match    | no match    | no match    | match       | no match    | no match    | no match    | match       | no match    | no match    | match       | no match    | match       | match       | match       | match       | match       | no match    | match       | no match    | match       | match       | match       | no match\n",
       "no match   | match      | match      | match      | no match   | no match   | no match   | match      | no match   | no match    | match       | no match    | no match    | no match    | no match    | match       | match       | no match    | match       | match       | no match    | match       | match       | match       | match       | no match    | no match    | no match    | no match    | match       | no match    | no match    | no match    | match       | no match    | no match    | no match    | no match    | match       | no match    | no match    | match       | no match    | no match    | match       | match       | match       | no match    | no match    | no match\n",
       "no match   | match      | match      | match      | no match   | no match   | no match   | no match   | no match   | match       | no match    | no match    | no match    | no match    | match       | match       | match       | no match    | no match    | match       | no match    | match       | match       | match       | match       | match       | match       | no match    | match       | match       | no match    | match       | no match    | match       | no match    | no match    | no match    | no match    | match       | match       | no match    | match       | match       | match       | no match    | no match    | match       | no match    | no match    | no match\n",
       "no match   | match      | match      | no match   | no match   | no match   | no match   | match      | no match   | no match    | no match    | no match    | no match    | no match    | no match    | match       | match       | no match    | match       | match       | match       | match       | match       | match       | match       | no match    | no match    | match       | match       | match       | no match    | no match    | no match    | no match    | no match    | no match    | match       | no match    | match       | match       | match       | match       | no match    | match       | no match    | no match    | match       | no match    | no match    | match\n",
       "no match   | match      | match      | match      | no match   | no match   | no match   | match      | match      | match       | match       | no match    | no match    | no match    | no match    | match       | match       | no match    | match       | match       | no match    | match       | match       | match       | match       | match       | no match    | match       | match       | match       | no match    | no match    | match       | match       | match       | no match    | match       | no match    | match       | match       | match       | match       | match       | match       | match       | match       | match       | match       | no match    | match\n",
       "... (12 rows omitted)"
      ]
     },
     "execution_count": 187,
     "metadata": {},
     "output_type": "execute_result"
    }
   ],
   "source": [
    "#most missed questions\n",
    "BresM = Bres.drop(0,51)\n",
    "BresM"
   ]
  },
  {
   "cell_type": "code",
   "execution_count": 188,
   "metadata": {},
   "outputs": [
    {
     "data": {
      "text/plain": [
       "array(['no match', 'match', 'match', 'match', 'no match', 'no match',\n",
       "       'no match', 'match', 'no match', 'match', 'match', 'no match',\n",
       "       'no match', 'no match', 'no match', 'match', 'match', 'no match',\n",
       "       'match', 'match', 'no match', 'match', 'match', 'match', 'match',\n",
       "       'match', 'match', 'no match', 'match', 'match', 'no match', 'match',\n",
       "       'match', 'match', 'no match', 'no match', 'match', 'no match',\n",
       "       'match', 'match', 'no match', 'match', 'no match', 'no match',\n",
       "       'match', 'no match', 'match', 'match', 'no match', 'no match'],\n",
       "      dtype='<U8')"
      ]
     },
     "execution_count": 188,
     "metadata": {},
     "output_type": "execute_result"
    }
   ],
   "source": [
    "answerkey"
   ]
  },
  {
   "cell_type": "code",
   "execution_count": 189,
   "metadata": {},
   "outputs": [
    {
     "data": {
      "text/plain": [
       "array([  3.,   4.,   1.,   6.,   6.,   7.,   4.,   4.,  12.,  14.,   6.,\n",
       "         3.,   4.,   5.,   7.,   6.,   1.,   3.,   2.,   6.,   9.,   0.,\n",
       "         0.,   0.,   2.,   4.,  16.,   6.,   5.,   1.,   2.,  15.,  14.,\n",
       "         7.,   6.,   5.,  11.,   1.,   2.,  10.,   8.,   7.,   7.,   6.,\n",
       "         3.,   3.,   1.,   8.,   2.,   4.])"
      ]
     },
     "execution_count": 189,
     "metadata": {},
     "output_type": "execute_result"
    }
   ],
   "source": [
    "missedquestions = make_array()\n",
    "for i in np.arange(len(answerkey)):\n",
    "    missedquestions = np.append(missedquestions, sum(BresM[i] != answerkey[i]))\n",
    "missedquestions"
   ]
  },
  {
   "cell_type": "code",
   "execution_count": 190,
   "metadata": {},
   "outputs": [
    {
     "data": {
      "text/plain": [
       "3"
      ]
     },
     "execution_count": 190,
     "metadata": {},
     "output_type": "execute_result"
    }
   ],
   "source": [
    "sum(BresM[0] != answerkey[0])"
   ]
  },
  {
   "cell_type": "code",
   "execution_count": 191,
   "metadata": {},
   "outputs": [
    {
     "data": {
      "text/plain": [
       "19"
      ]
     },
     "execution_count": 191,
     "metadata": {},
     "output_type": "execute_result"
    }
   ],
   "source": [
    "sum(BresM[0] == answerkey[0])"
   ]
  },
  {
   "cell_type": "code",
   "execution_count": 192,
   "metadata": {},
   "outputs": [
    {
     "data": {
      "text/html": [
       "<table border=\"1\" class=\"dataframe\">\n",
       "    <thead>\n",
       "        <tr>\n",
       "            <th>Question Number</th> <th>Number Missed</th>\n",
       "        </tr>\n",
       "    </thead>\n",
       "    <tbody>\n",
       "        <tr>\n",
       "            <td>1              </td> <td>3            </td>\n",
       "        </tr>\n",
       "        <tr>\n",
       "            <td>2              </td> <td>4            </td>\n",
       "        </tr>\n",
       "        <tr>\n",
       "            <td>3              </td> <td>1            </td>\n",
       "        </tr>\n",
       "        <tr>\n",
       "            <td>4              </td> <td>6            </td>\n",
       "        </tr>\n",
       "        <tr>\n",
       "            <td>5              </td> <td>6            </td>\n",
       "        </tr>\n",
       "        <tr>\n",
       "            <td>6              </td> <td>7            </td>\n",
       "        </tr>\n",
       "        <tr>\n",
       "            <td>7              </td> <td>4            </td>\n",
       "        </tr>\n",
       "        <tr>\n",
       "            <td>8              </td> <td>4            </td>\n",
       "        </tr>\n",
       "        <tr>\n",
       "            <td>9              </td> <td>12           </td>\n",
       "        </tr>\n",
       "        <tr>\n",
       "            <td>10             </td> <td>14           </td>\n",
       "        </tr>\n",
       "    </tbody>\n",
       "</table>\n",
       "<p>... (40 rows omitted)</p>"
      ],
      "text/plain": [
       "Question Number | Number Missed\n",
       "1               | 3\n",
       "2               | 4\n",
       "3               | 1\n",
       "4               | 6\n",
       "5               | 6\n",
       "6               | 7\n",
       "7               | 4\n",
       "8               | 4\n",
       "9               | 12\n",
       "10              | 14\n",
       "... (40 rows omitted)"
      ]
     },
     "execution_count": 192,
     "metadata": {},
     "output_type": "execute_result"
    }
   ],
   "source": [
    "WrongAnswers = Table().with_columns(\"Question Number\",np.arange(1,51)).with_columns(\"Number Missed\",missedquestions)\n",
    "WrongAnswers"
   ]
  },
  {
   "cell_type": "code",
   "execution_count": 193,
   "metadata": {},
   "outputs": [
    {
     "data": {
      "text/html": [
       "<table border=\"1\" class=\"dataframe\">\n",
       "    <thead>\n",
       "        <tr>\n",
       "            <th>Question Number</th> <th>Number Missed</th>\n",
       "        </tr>\n",
       "    </thead>\n",
       "    <tbody>\n",
       "        <tr>\n",
       "            <td>27             </td> <td>16           </td>\n",
       "        </tr>\n",
       "        <tr>\n",
       "            <td>32             </td> <td>15           </td>\n",
       "        </tr>\n",
       "        <tr>\n",
       "            <td>10             </td> <td>14           </td>\n",
       "        </tr>\n",
       "        <tr>\n",
       "            <td>33             </td> <td>14           </td>\n",
       "        </tr>\n",
       "        <tr>\n",
       "            <td>9              </td> <td>12           </td>\n",
       "        </tr>\n",
       "        <tr>\n",
       "            <td>37             </td> <td>11           </td>\n",
       "        </tr>\n",
       "        <tr>\n",
       "            <td>40             </td> <td>10           </td>\n",
       "        </tr>\n",
       "        <tr>\n",
       "            <td>21             </td> <td>9            </td>\n",
       "        </tr>\n",
       "        <tr>\n",
       "            <td>41             </td> <td>8            </td>\n",
       "        </tr>\n",
       "        <tr>\n",
       "            <td>48             </td> <td>8            </td>\n",
       "        </tr>\n",
       "    </tbody>\n",
       "</table>\n",
       "<p>... (40 rows omitted)</p>"
      ],
      "text/plain": [
       "Question Number | Number Missed\n",
       "27              | 16\n",
       "32              | 15\n",
       "10              | 14\n",
       "33              | 14\n",
       "9               | 12\n",
       "37              | 11\n",
       "40              | 10\n",
       "21              | 9\n",
       "41              | 8\n",
       "48              | 8\n",
       "... (40 rows omitted)"
      ]
     },
     "execution_count": 193,
     "metadata": {},
     "output_type": "execute_result"
    }
   ],
   "source": [
    "MostMissed = WrongAnswers.sort(1,descending=True)\n",
    "MostMissed"
   ]
  },
  {
   "cell_type": "code",
   "execution_count": 194,
   "metadata": {},
   "outputs": [
    {
     "data": {
      "text/html": [
       "<table border=\"1\" class=\"dataframe\">\n",
       "    <thead>\n",
       "        <tr>\n",
       "            <th>Question Number</th> <th>Number Missed</th>\n",
       "        </tr>\n",
       "    </thead>\n",
       "    <tbody>\n",
       "        <tr>\n",
       "            <td>27             </td> <td>16           </td>\n",
       "        </tr>\n",
       "        <tr>\n",
       "            <td>32             </td> <td>15           </td>\n",
       "        </tr>\n",
       "        <tr>\n",
       "            <td>10             </td> <td>14           </td>\n",
       "        </tr>\n",
       "        <tr>\n",
       "            <td>33             </td> <td>14           </td>\n",
       "        </tr>\n",
       "        <tr>\n",
       "            <td>9              </td> <td>12           </td>\n",
       "        </tr>\n",
       "        <tr>\n",
       "            <td>37             </td> <td>11           </td>\n",
       "        </tr>\n",
       "        <tr>\n",
       "            <td>40             </td> <td>10           </td>\n",
       "        </tr>\n",
       "        <tr>\n",
       "            <td>21             </td> <td>9            </td>\n",
       "        </tr>\n",
       "        <tr>\n",
       "            <td>41             </td> <td>8            </td>\n",
       "        </tr>\n",
       "        <tr>\n",
       "            <td>48             </td> <td>8            </td>\n",
       "        </tr>\n",
       "        <tr>\n",
       "            <td>6              </td> <td>7            </td>\n",
       "        </tr>\n",
       "        <tr>\n",
       "            <td>15             </td> <td>7            </td>\n",
       "        </tr>\n",
       "        <tr>\n",
       "            <td>34             </td> <td>7            </td>\n",
       "        </tr>\n",
       "        <tr>\n",
       "            <td>42             </td> <td>7            </td>\n",
       "        </tr>\n",
       "        <tr>\n",
       "            <td>43             </td> <td>7            </td>\n",
       "        </tr>\n",
       "        <tr>\n",
       "            <td>4              </td> <td>6            </td>\n",
       "        </tr>\n",
       "        <tr>\n",
       "            <td>5              </td> <td>6            </td>\n",
       "        </tr>\n",
       "        <tr>\n",
       "            <td>11             </td> <td>6            </td>\n",
       "        </tr>\n",
       "        <tr>\n",
       "            <td>16             </td> <td>6            </td>\n",
       "        </tr>\n",
       "        <tr>\n",
       "            <td>20             </td> <td>6            </td>\n",
       "        </tr>\n",
       "        <tr>\n",
       "            <td>28             </td> <td>6            </td>\n",
       "        </tr>\n",
       "        <tr>\n",
       "            <td>35             </td> <td>6            </td>\n",
       "        </tr>\n",
       "        <tr>\n",
       "            <td>44             </td> <td>6            </td>\n",
       "        </tr>\n",
       "        <tr>\n",
       "            <td>14             </td> <td>5            </td>\n",
       "        </tr>\n",
       "        <tr>\n",
       "            <td>29             </td> <td>5            </td>\n",
       "        </tr>\n",
       "        <tr>\n",
       "            <td>36             </td> <td>5            </td>\n",
       "        </tr>\n",
       "        <tr>\n",
       "            <td>2              </td> <td>4            </td>\n",
       "        </tr>\n",
       "        <tr>\n",
       "            <td>7              </td> <td>4            </td>\n",
       "        </tr>\n",
       "        <tr>\n",
       "            <td>8              </td> <td>4            </td>\n",
       "        </tr>\n",
       "        <tr>\n",
       "            <td>13             </td> <td>4            </td>\n",
       "        </tr>\n",
       "        <tr>\n",
       "            <td>26             </td> <td>4            </td>\n",
       "        </tr>\n",
       "        <tr>\n",
       "            <td>50             </td> <td>4            </td>\n",
       "        </tr>\n",
       "        <tr>\n",
       "            <td>1              </td> <td>3            </td>\n",
       "        </tr>\n",
       "        <tr>\n",
       "            <td>12             </td> <td>3            </td>\n",
       "        </tr>\n",
       "        <tr>\n",
       "            <td>18             </td> <td>3            </td>\n",
       "        </tr>\n",
       "        <tr>\n",
       "            <td>45             </td> <td>3            </td>\n",
       "        </tr>\n",
       "        <tr>\n",
       "            <td>46             </td> <td>3            </td>\n",
       "        </tr>\n",
       "        <tr>\n",
       "            <td>19             </td> <td>2            </td>\n",
       "        </tr>\n",
       "        <tr>\n",
       "            <td>25             </td> <td>2            </td>\n",
       "        </tr>\n",
       "        <tr>\n",
       "            <td>31             </td> <td>2            </td>\n",
       "        </tr>\n",
       "        <tr>\n",
       "            <td>39             </td> <td>2            </td>\n",
       "        </tr>\n",
       "        <tr>\n",
       "            <td>49             </td> <td>2            </td>\n",
       "        </tr>\n",
       "        <tr>\n",
       "            <td>3              </td> <td>1            </td>\n",
       "        </tr>\n",
       "        <tr>\n",
       "            <td>17             </td> <td>1            </td>\n",
       "        </tr>\n",
       "        <tr>\n",
       "            <td>30             </td> <td>1            </td>\n",
       "        </tr>\n",
       "        <tr>\n",
       "            <td>38             </td> <td>1            </td>\n",
       "        </tr>\n",
       "        <tr>\n",
       "            <td>47             </td> <td>1            </td>\n",
       "        </tr>\n",
       "        <tr>\n",
       "            <td>22             </td> <td>0            </td>\n",
       "        </tr>\n",
       "        <tr>\n",
       "            <td>23             </td> <td>0            </td>\n",
       "        </tr>\n",
       "        <tr>\n",
       "            <td>24             </td> <td>0            </td>\n",
       "        </tr>\n",
       "    </tbody>\n",
       "</table>"
      ],
      "text/plain": [
       "<IPython.core.display.HTML object>"
      ]
     },
     "metadata": {},
     "output_type": "display_data"
    }
   ],
   "source": [
    "MostMissed.show(50)"
   ]
  },
  {
   "cell_type": "code",
   "execution_count": 195,
   "metadata": {},
   "outputs": [
    {
     "data": {
      "text/plain": [
       "'match'"
      ]
     },
     "execution_count": 195,
     "metadata": {},
     "output_type": "execute_result"
    }
   ],
   "source": [
    "answerkey[26]"
   ]
  },
  {
   "cell_type": "code",
   "execution_count": null,
   "metadata": {},
   "outputs": [],
   "source": []
  },
  {
   "cell_type": "code",
   "execution_count": 196,
   "metadata": {},
   "outputs": [],
   "source": [
    "# These lines do some fancy plotting magic.\n",
    "import matplotlib\n",
    "%matplotlib inline\n",
    "import matplotlib.pyplot as plots\n",
    "plots.style.use('fivethirtyeight')\n",
    "import warnings\n",
    "warnings.simplefilter('ignore', FutureWarning)\n",
    "\n",
    "%matplotlib inline\n",
    "import matplotlib.pyplot as plots\n",
    "plots.style.use('fivethirtyeight')\n",
    "np.set_printoptions(legacy='1.13')"
   ]
  },
  {
   "cell_type": "code",
   "execution_count": 197,
   "metadata": {},
   "outputs": [
    {
     "data": {
      "image/png": "[encoded data removed]",
      "text/plain": [
       "<Figure size 432x288 with 1 Axes>"
      ]
     },
     "metadata": {},
     "output_type": "display_data"
    }
   ],
   "source": [
    "Table().with_column('score', Bscores).hist(bins=7)"
   ]
  },
  {
   "cell_type": "code",
   "execution_count": 198,
   "metadata": {},
   "outputs": [
    {
     "data": {
      "text/html": [
       "<table border=\"1\" class=\"dataframe\">\n",
       "    <thead>\n",
       "        <tr>\n",
       "            <th>Unnamed: 1</th> <th>Unnamed: 2</th> <th>Unnamed: 3</th> <th>Unnamed: 4</th> <th>Unnamed: 5</th> <th>Unnamed: 6</th> <th>Unnamed: 7</th> <th>Unnamed: 8</th> <th>Unnamed: 9</th> <th>Unnamed: 10</th> <th>Unnamed: 11</th> <th>Unnamed: 12</th> <th>Unnamed: 13</th> <th>Unnamed: 14</th> <th>Unnamed: 15</th> <th>Unnamed: 16</th> <th>Unnamed: 17</th> <th>Unnamed: 18</th> <th>Unnamed: 19</th> <th>Unnamed: 20</th> <th>Unnamed: 21</th> <th>Unnamed: 22</th> <th>Unnamed: 23</th> <th>Unnamed: 24</th> <th>Unnamed: 25</th> <th>Unnamed: 26</th> <th>Unnamed: 27</th> <th>Unnamed: 28</th> <th>Unnamed: 29</th> <th>Unnamed: 30</th> <th>Unnamed: 31</th> <th>Unnamed: 32</th> <th>Unnamed: 33</th> <th>Unnamed: 34</th> <th>Unnamed: 35</th> <th>Unnamed: 36</th> <th>Unnamed: 37</th> <th>Unnamed: 38</th> <th>Unnamed: 39</th> <th>Unnamed: 40</th> <th>Unnamed: 41</th> <th>Unnamed: 42</th> <th>Unnamed: 43</th> <th>Unnamed: 44</th> <th>Unnamed: 45</th> <th>Unnamed: 46</th> <th>Unnamed: 47</th> <th>Unnamed: 48</th> <th>Unnamed: 49</th> <th>Unnamed: 50</th>\n",
       "        </tr>\n",
       "    </thead>\n",
       "    <tbody>\n",
       "        <tr>\n",
       "            <td>no match  </td> <td>no match  </td> <td>match     </td> <td>match     </td> <td>match     </td> <td>match     </td> <td>no match  </td> <td>match     </td> <td>no match  </td> <td>no match   </td> <td>match      </td> <td>no match   </td> <td>no match   </td> <td>no match   </td> <td>no match   </td> <td>match      </td> <td>nan        </td> <td>no match   </td> <td>no match   </td> <td>match      </td> <td>no match   </td> <td>no match   </td> <td>match      </td> <td>match      </td> <td>match      </td> <td>no match   </td> <td>no match   </td> <td>no match   </td> <td>no match   </td> <td>no match   </td> <td>no match   </td> <td>match      </td> <td>match      </td> <td>match      </td> <td>no match   </td> <td>no match   </td> <td>no match   </td> <td>no match   </td> <td>match      </td> <td>nan        </td> <td>match      </td> <td>match      </td> <td>no match   </td> <td>no match   </td> <td>no match   </td> <td>no match   </td> <td>match      </td> <td>match      </td> <td>match      </td> <td>no match   </td>\n",
       "        </tr>\n",
       "        <tr>\n",
       "            <td>no match  </td> <td>match     </td> <td>match     </td> <td>match     </td> <td>no match  </td> <td>no match  </td> <td>no match  </td> <td>no match  </td> <td>no match  </td> <td>match      </td> <td>no match   </td> <td>no match   </td> <td>no match   </td> <td>no match   </td> <td>no match   </td> <td>match      </td> <td>match      </td> <td>no match   </td> <td>match      </td> <td>match      </td> <td>no match   </td> <td>match      </td> <td>match      </td> <td>match      </td> <td>match      </td> <td>match      </td> <td>no match   </td> <td>no match   </td> <td>match      </td> <td>match      </td> <td>no match   </td> <td>no match   </td> <td>match      </td> <td>match      </td> <td>no match   </td> <td>no match   </td> <td>match      </td> <td>no match   </td> <td>match      </td> <td>match      </td> <td>no match   </td> <td>no match   </td> <td>no match   </td> <td>no match   </td> <td>no match   </td> <td>no match   </td> <td>no match   </td> <td>match      </td> <td>no match   </td> <td>no match   </td>\n",
       "        </tr>\n",
       "        <tr>\n",
       "            <td>no match  </td> <td>no match  </td> <td>match     </td> <td>match     </td> <td>no match  </td> <td>no match  </td> <td>no match  </td> <td>no match  </td> <td>no match  </td> <td>match      </td> <td>match      </td> <td>no match   </td> <td>no match   </td> <td>no match   </td> <td>no match   </td> <td>match      </td> <td>match      </td> <td>no match   </td> <td>no match   </td> <td>no match   </td> <td>no match   </td> <td>match      </td> <td>match      </td> <td>match      </td> <td>match      </td> <td>match      </td> <td>no match   </td> <td>no match   </td> <td>match      </td> <td>match      </td> <td>no match   </td> <td>no match   </td> <td>match      </td> <td>match      </td> <td>no match   </td> <td>no match   </td> <td>match      </td> <td>no match   </td> <td>no match   </td> <td>match      </td> <td>match      </td> <td>match      </td> <td>no match   </td> <td>no match   </td> <td>match      </td> <td>match      </td> <td>no match   </td> <td>match      </td> <td>no match   </td> <td>no match   </td>\n",
       "        </tr>\n",
       "        <tr>\n",
       "            <td>no match  </td> <td>match     </td> <td>match     </td> <td>match     </td> <td>match     </td> <td>no match  </td> <td>no match  </td> <td>match     </td> <td>no match  </td> <td>match      </td> <td>match      </td> <td>no match   </td> <td>match      </td> <td>no match   </td> <td>match      </td> <td>match      </td> <td>match      </td> <td>no match   </td> <td>match      </td> <td>match      </td> <td>match      </td> <td>match      </td> <td>match      </td> <td>match      </td> <td>match      </td> <td>match      </td> <td>no match   </td> <td>match      </td> <td>match      </td> <td>match      </td> <td>no match   </td> <td>no match   </td> <td>match      </td> <td>match      </td> <td>no match   </td> <td>no match   </td> <td>match      </td> <td>no match   </td> <td>match      </td> <td>match      </td> <td>match      </td> <td>match      </td> <td>match      </td> <td>no match   </td> <td>match      </td> <td>no match   </td> <td>match      </td> <td>match      </td> <td>no match   </td> <td>no match   </td>\n",
       "        </tr>\n",
       "        <tr>\n",
       "            <td>match     </td> <td>no match  </td> <td>match     </td> <td>no match  </td> <td>match     </td> <td>match     </td> <td>no match  </td> <td>no match  </td> <td>no match  </td> <td>match      </td> <td>match      </td> <td>match      </td> <td>no match   </td> <td>no match   </td> <td>no match   </td> <td>no match   </td> <td>match      </td> <td>no match   </td> <td>no match   </td> <td>match      </td> <td>no match   </td> <td>match      </td> <td>match      </td> <td>match      </td> <td>no match   </td> <td>match      </td> <td>no match   </td> <td>no match   </td> <td>match      </td> <td>match      </td> <td>match      </td> <td>match      </td> <td>no match   </td> <td>no match   </td> <td>match      </td> <td>no match   </td> <td>match      </td> <td>no match   </td> <td>match      </td> <td>no match   </td> <td>no match   </td> <td>no match   </td> <td>no match   </td> <td>match      </td> <td>no match   </td> <td>match      </td> <td>match      </td> <td>match      </td> <td>match      </td> <td>no match   </td>\n",
       "        </tr>\n",
       "        <tr>\n",
       "            <td>match     </td> <td>match     </td> <td>match     </td> <td>match     </td> <td>no match  </td> <td>no match  </td> <td>no match  </td> <td>no match  </td> <td>no match  </td> <td>no match   </td> <td>match      </td> <td>no match   </td> <td>no match   </td> <td>no match   </td> <td>no match   </td> <td>match      </td> <td>match      </td> <td>no match   </td> <td>match      </td> <td>match      </td> <td>no match   </td> <td>match      </td> <td>match      </td> <td>match      </td> <td>match      </td> <td>match      </td> <td>no match   </td> <td>match      </td> <td>no match   </td> <td>match      </td> <td>no match   </td> <td>no match   </td> <td>no match   </td> <td>match      </td> <td>match      </td> <td>no match   </td> <td>match      </td> <td>no match   </td> <td>match      </td> <td>no match   </td> <td>no match   </td> <td>no match   </td> <td>no match   </td> <td>no match   </td> <td>match      </td> <td>no match   </td> <td>match      </td> <td>match      </td> <td>no match   </td> <td>match      </td>\n",
       "        </tr>\n",
       "        <tr>\n",
       "            <td>no match  </td> <td>match     </td> <td>match     </td> <td>no match  </td> <td>match     </td> <td>match     </td> <td>match     </td> <td>match     </td> <td>no match  </td> <td>no match   </td> <td>no match   </td> <td>no match   </td> <td>no match   </td> <td>no match   </td> <td>no match   </td> <td>match      </td> <td>match      </td> <td>no match   </td> <td>match      </td> <td>match      </td> <td>no match   </td> <td>match      </td> <td>match      </td> <td>match      </td> <td>match      </td> <td>match      </td> <td>match      </td> <td>match      </td> <td>match      </td> <td>match      </td> <td>no match   </td> <td>match      </td> <td>match      </td> <td>match      </td> <td>no match   </td> <td>no match   </td> <td>match      </td> <td>no match   </td> <td>match      </td> <td>match      </td> <td>match      </td> <td>match      </td> <td>match      </td> <td>no match   </td> <td>match      </td> <td>no match   </td> <td>match      </td> <td>match      </td> <td>match      </td> <td>match      </td>\n",
       "        </tr>\n",
       "        <tr>\n",
       "            <td>no match  </td> <td>match     </td> <td>match     </td> <td>match     </td> <td>no match  </td> <td>match     </td> <td>no match  </td> <td>no match  </td> <td>no match  </td> <td>match      </td> <td>match      </td> <td>no match   </td> <td>no match   </td> <td>no match   </td> <td>match      </td> <td>no match   </td> <td>match      </td> <td>match      </td> <td>no match   </td> <td>match      </td> <td>no match   </td> <td>no match   </td> <td>match      </td> <td>match      </td> <td>match      </td> <td>no match   </td> <td>no match   </td> <td>no match   </td> <td>match      </td> <td>match      </td> <td>no match   </td> <td>no match   </td> <td>no match   </td> <td>match      </td> <td>no match   </td> <td>no match   </td> <td>match      </td> <td>no match   </td> <td>no match   </td> <td>no match   </td> <td>match      </td> <td>no match   </td> <td>no match   </td> <td>no match   </td> <td>no match   </td> <td>no match   </td> <td>match      </td> <td>match      </td> <td>no match   </td> <td>no match   </td>\n",
       "        </tr>\n",
       "        <tr>\n",
       "            <td>no match  </td> <td>no match  </td> <td>match     </td> <td>match     </td> <td>match     </td> <td>no match  </td> <td>no match  </td> <td>no match  </td> <td>no match  </td> <td>no match   </td> <td>match      </td> <td>no match   </td> <td>no match   </td> <td>no match   </td> <td>no match   </td> <td>no match   </td> <td>match      </td> <td>match      </td> <td>match      </td> <td>no match   </td> <td>no match   </td> <td>no match   </td> <td>match      </td> <td>match      </td> <td>no match   </td> <td>no match   </td> <td>no match   </td> <td>no match   </td> <td>match      </td> <td>match      </td> <td>match      </td> <td>no match   </td> <td>match      </td> <td>match      </td> <td>match      </td> <td>no match   </td> <td>match      </td> <td>match      </td> <td>match      </td> <td>no match   </td> <td>no match   </td> <td>no match   </td> <td>match      </td> <td>no match   </td> <td>match      </td> <td>no match   </td> <td>no match   </td> <td>match      </td> <td>no match   </td> <td>match      </td>\n",
       "        </tr>\n",
       "        <tr>\n",
       "            <td>no match  </td> <td>match     </td> <td>no match  </td> <td>no match  </td> <td>match     </td> <td>match     </td> <td>no match  </td> <td>no match  </td> <td>no match  </td> <td>no match   </td> <td>match      </td> <td>no match   </td> <td>no match   </td> <td>no match   </td> <td>no match   </td> <td>match      </td> <td>match      </td> <td>no match   </td> <td>match      </td> <td>match      </td> <td>no match   </td> <td>no match   </td> <td>match      </td> <td>match      </td> <td>no match   </td> <td>match      </td> <td>no match   </td> <td>no match   </td> <td>no match   </td> <td>match      </td> <td>match      </td> <td>no match   </td> <td>match      </td> <td>match      </td> <td>match      </td> <td>no match   </td> <td>no match   </td> <td>no match   </td> <td>match      </td> <td>match      </td> <td>match      </td> <td>no match   </td> <td>no match   </td> <td>no match   </td> <td>match      </td> <td>match      </td> <td>match      </td> <td>no match   </td> <td>no match   </td> <td>no match   </td>\n",
       "        </tr>\n",
       "    </tbody>\n",
       "</table>\n",
       "<p>... (12 rows omitted)</p>"
      ],
      "text/plain": [
       "Unnamed: 1 | Unnamed: 2 | Unnamed: 3 | Unnamed: 4 | Unnamed: 5 | Unnamed: 6 | Unnamed: 7 | Unnamed: 8 | Unnamed: 9 | Unnamed: 10 | Unnamed: 11 | Unnamed: 12 | Unnamed: 13 | Unnamed: 14 | Unnamed: 15 | Unnamed: 16 | Unnamed: 17 | Unnamed: 18 | Unnamed: 19 | Unnamed: 20 | Unnamed: 21 | Unnamed: 22 | Unnamed: 23 | Unnamed: 24 | Unnamed: 25 | Unnamed: 26 | Unnamed: 27 | Unnamed: 28 | Unnamed: 29 | Unnamed: 30 | Unnamed: 31 | Unnamed: 32 | Unnamed: 33 | Unnamed: 34 | Unnamed: 35 | Unnamed: 36 | Unnamed: 37 | Unnamed: 38 | Unnamed: 39 | Unnamed: 40 | Unnamed: 41 | Unnamed: 42 | Unnamed: 43 | Unnamed: 44 | Unnamed: 45 | Unnamed: 46 | Unnamed: 47 | Unnamed: 48 | Unnamed: 49 | Unnamed: 50\n",
       "no match   | no match   | match      | match      | match      | match      | no match   | match      | no match   | no match    | match       | no match    | no match    | no match    | no match    | match       | nan         | no match    | no match    | match       | no match    | no match    | match       | match       | match       | no match    | no match    | no match    | no match    | no match    | no match    | match       | match       | match       | no match    | no match    | no match    | no match    | match       | nan         | match       | match       | no match    | no match    | no match    | no match    | match       | match       | match       | no match\n",
       "no match   | match      | match      | match      | no match   | no match   | no match   | no match   | no match   | match       | no match    | no match    | no match    | no match    | no match    | match       | match       | no match    | match       | match       | no match    | match       | match       | match       | match       | match       | no match    | no match    | match       | match       | no match    | no match    | match       | match       | no match    | no match    | match       | no match    | match       | match       | no match    | no match    | no match    | no match    | no match    | no match    | no match    | match       | no match    | no match\n",
       "no match   | no match   | match      | match      | no match   | no match   | no match   | no match   | no match   | match       | match       | no match    | no match    | no match    | no match    | match       | match       | no match    | no match    | no match    | no match    | match       | match       | match       | match       | match       | no match    | no match    | match       | match       | no match    | no match    | match       | match       | no match    | no match    | match       | no match    | no match    | match       | match       | match       | no match    | no match    | match       | match       | no match    | match       | no match    | no match\n",
       "no match   | match      | match      | match      | match      | no match   | no match   | match      | no match   | match       | match       | no match    | match       | no match    | match       | match       | match       | no match    | match       | match       | match       | match       | match       | match       | match       | match       | no match    | match       | match       | match       | no match    | no match    | match       | match       | no match    | no match    | match       | no match    | match       | match       | match       | match       | match       | no match    | match       | no match    | match       | match       | no match    | no match\n",
       "match      | no match   | match      | no match   | match      | match      | no match   | no match   | no match   | match       | match       | match       | no match    | no match    | no match    | no match    | match       | no match    | no match    | match       | no match    | match       | match       | match       | no match    | match       | no match    | no match    | match       | match       | match       | match       | no match    | no match    | match       | no match    | match       | no match    | match       | no match    | no match    | no match    | no match    | match       | no match    | match       | match       | match       | match       | no match\n",
       "match      | match      | match      | match      | no match   | no match   | no match   | no match   | no match   | no match    | match       | no match    | no match    | no match    | no match    | match       | match       | no match    | match       | match       | no match    | match       | match       | match       | match       | match       | no match    | match       | no match    | match       | no match    | no match    | no match    | match       | match       | no match    | match       | no match    | match       | no match    | no match    | no match    | no match    | no match    | match       | no match    | match       | match       | no match    | match\n",
       "no match   | match      | match      | no match   | match      | match      | match      | match      | no match   | no match    | no match    | no match    | no match    | no match    | no match    | match       | match       | no match    | match       | match       | no match    | match       | match       | match       | match       | match       | match       | match       | match       | match       | no match    | match       | match       | match       | no match    | no match    | match       | no match    | match       | match       | match       | match       | match       | no match    | match       | no match    | match       | match       | match       | match\n",
       "no match   | match      | match      | match      | no match   | match      | no match   | no match   | no match   | match       | match       | no match    | no match    | no match    | match       | no match    | match       | match       | no match    | match       | no match    | no match    | match       | match       | match       | no match    | no match    | no match    | match       | match       | no match    | no match    | no match    | match       | no match    | no match    | match       | no match    | no match    | no match    | match       | no match    | no match    | no match    | no match    | no match    | match       | match       | no match    | no match\n",
       "no match   | no match   | match      | match      | match      | no match   | no match   | no match   | no match   | no match    | match       | no match    | no match    | no match    | no match    | no match    | match       | match       | match       | no match    | no match    | no match    | match       | match       | no match    | no match    | no match    | no match    | match       | match       | match       | no match    | match       | match       | match       | no match    | match       | match       | match       | no match    | no match    | no match    | match       | no match    | match       | no match    | no match    | match       | no match    | match\n",
       "no match   | match      | no match   | no match   | match      | match      | no match   | no match   | no match   | no match    | match       | no match    | no match    | no match    | no match    | match       | match       | no match    | match       | match       | no match    | no match    | match       | match       | no match    | match       | no match    | no match    | no match    | match       | match       | no match    | match       | match       | match       | no match    | no match    | no match    | match       | match       | match       | no match    | no match    | no match    | match       | match       | match       | no match    | no match    | no match\n",
       "... (12 rows omitted)"
      ]
     },
     "execution_count": 198,
     "metadata": {},
     "output_type": "execute_result"
    }
   ],
   "source": [
    "CresM = Cres.drop(0,51)\n",
    "CresM"
   ]
  },
  {
   "cell_type": "code",
   "execution_count": 199,
   "metadata": {},
   "outputs": [
    {
     "data": {
      "text/plain": [
       "array([ 0,  1,  2,  3,  4,  5,  6,  7,  8,  9, 10, 11, 12, 13, 14, 15, 16,\n",
       "       17, 18, 19, 20, 21])"
      ]
     },
     "execution_count": 199,
     "metadata": {},
     "output_type": "execute_result"
    }
   ],
   "source": [
    "np.arange(CresM.num_rows)"
   ]
  },
  {
   "cell_type": "code",
   "execution_count": 200,
   "metadata": {},
   "outputs": [
    {
     "data": {
      "text/plain": [
       "array([ 0,  1,  2,  3,  4,  5,  6,  7,  8,  9, 10, 11, 12, 13, 14, 15, 16,\n",
       "       17, 18, 19, 20, 21, 22, 23, 24, 25, 26, 27, 28, 29, 30, 31, 32, 33,\n",
       "       34, 35, 36, 37, 38, 39, 40, 41, 42, 43, 44, 45, 46, 47, 48, 49])"
      ]
     },
     "execution_count": 200,
     "metadata": {},
     "output_type": "execute_result"
    }
   ],
   "source": [
    "np.arange(len(answerkey))"
   ]
  },
  {
   "cell_type": "code",
   "execution_count": 201,
   "metadata": {},
   "outputs": [
    {
     "data": {
      "text/plain": [
       "array([False, False, False, False,  True,  True, False, False, False,\n",
       "       False, False, False, False, False, False, False, False, False,\n",
       "       False, False, False, False], dtype=bool)"
      ]
     },
     "execution_count": 201,
     "metadata": {},
     "output_type": "execute_result"
    }
   ],
   "source": [
    "CresM[0] != answerkey[0]"
   ]
  },
  {
   "cell_type": "code",
   "execution_count": 202,
   "metadata": {},
   "outputs": [
    {
     "data": {
      "text/plain": [
       "array([  2.,   6.,   2.,   4.,   8.,  10.,   3.,  15.,   6.,  12.,   3.,\n",
       "         3.,   4.,   1.,   5.,   5.,   1.,   5.,   5.,   4.,   5.,   4.,\n",
       "         0.,   0.,   5.,   4.,  17.,   8.,   3.,   1.,   4.,  14.,   9.,\n",
       "         4.,   9.,   3.,   6.,   3.,   2.,   6.,  12.,  11.,   9.,   4.,\n",
       "         8.,   8.,   3.,   6.,   5.,   6.])"
      ]
     },
     "execution_count": 202,
     "metadata": {},
     "output_type": "execute_result"
    }
   ],
   "source": [
    "missedquestionsC = make_array()\n",
    "for question_number in np.arange(len(answerkey)):\n",
    "    missedquestionsC = np.append(missedquestionsC, sum(CresM[question_number] != answerkey[question_number]))\n",
    "missedquestionsC"
   ]
  },
  {
   "cell_type": "code",
   "execution_count": 203,
   "metadata": {},
   "outputs": [
    {
     "data": {
      "text/html": [
       "<table border=\"1\" class=\"dataframe\">\n",
       "    <thead>\n",
       "        <tr>\n",
       "            <th>Question Number</th> <th>Number Missed</th>\n",
       "        </tr>\n",
       "    </thead>\n",
       "    <tbody>\n",
       "        <tr>\n",
       "            <td>1              </td> <td>2            </td>\n",
       "        </tr>\n",
       "        <tr>\n",
       "            <td>2              </td> <td>6            </td>\n",
       "        </tr>\n",
       "        <tr>\n",
       "            <td>3              </td> <td>2            </td>\n",
       "        </tr>\n",
       "        <tr>\n",
       "            <td>4              </td> <td>4            </td>\n",
       "        </tr>\n",
       "        <tr>\n",
       "            <td>5              </td> <td>8            </td>\n",
       "        </tr>\n",
       "        <tr>\n",
       "            <td>6              </td> <td>10           </td>\n",
       "        </tr>\n",
       "        <tr>\n",
       "            <td>7              </td> <td>3            </td>\n",
       "        </tr>\n",
       "        <tr>\n",
       "            <td>8              </td> <td>15           </td>\n",
       "        </tr>\n",
       "        <tr>\n",
       "            <td>9              </td> <td>6            </td>\n",
       "        </tr>\n",
       "        <tr>\n",
       "            <td>10             </td> <td>12           </td>\n",
       "        </tr>\n",
       "    </tbody>\n",
       "</table>\n",
       "<p>... (40 rows omitted)</p>"
      ],
      "text/plain": [
       "Question Number | Number Missed\n",
       "1               | 2\n",
       "2               | 6\n",
       "3               | 2\n",
       "4               | 4\n",
       "5               | 8\n",
       "6               | 10\n",
       "7               | 3\n",
       "8               | 15\n",
       "9               | 6\n",
       "10              | 12\n",
       "... (40 rows omitted)"
      ]
     },
     "execution_count": 203,
     "metadata": {},
     "output_type": "execute_result"
    }
   ],
   "source": [
    "WrongAnswersC = Table().with_columns(\"Question Number\",np.arange(1,51)).with_columns(\"Number Missed\",missedquestionsC)\n",
    "WrongAnswersC"
   ]
  },
  {
   "cell_type": "code",
   "execution_count": 204,
   "metadata": {},
   "outputs": [
    {
     "data": {
      "text/html": [
       "<table border=\"1\" class=\"dataframe\">\n",
       "    <thead>\n",
       "        <tr>\n",
       "            <th>Question Number</th> <th>Number Missed</th>\n",
       "        </tr>\n",
       "    </thead>\n",
       "    <tbody>\n",
       "        <tr>\n",
       "            <td>27             </td> <td>17           </td>\n",
       "        </tr>\n",
       "        <tr>\n",
       "            <td>8              </td> <td>15           </td>\n",
       "        </tr>\n",
       "        <tr>\n",
       "            <td>32             </td> <td>14           </td>\n",
       "        </tr>\n",
       "        <tr>\n",
       "            <td>10             </td> <td>12           </td>\n",
       "        </tr>\n",
       "        <tr>\n",
       "            <td>41             </td> <td>12           </td>\n",
       "        </tr>\n",
       "        <tr>\n",
       "            <td>42             </td> <td>11           </td>\n",
       "        </tr>\n",
       "        <tr>\n",
       "            <td>6              </td> <td>10           </td>\n",
       "        </tr>\n",
       "        <tr>\n",
       "            <td>33             </td> <td>9            </td>\n",
       "        </tr>\n",
       "        <tr>\n",
       "            <td>35             </td> <td>9            </td>\n",
       "        </tr>\n",
       "        <tr>\n",
       "            <td>43             </td> <td>9            </td>\n",
       "        </tr>\n",
       "    </tbody>\n",
       "</table>\n",
       "<p>... (40 rows omitted)</p>"
      ],
      "text/plain": [
       "<IPython.core.display.HTML object>"
      ]
     },
     "metadata": {},
     "output_type": "display_data"
    }
   ],
   "source": [
    "MostMissedC = WrongAnswersC.sort(1,descending=True)\n",
    "MostMissedC.show(10)"
   ]
  },
  {
   "cell_type": "code",
   "execution_count": null,
   "metadata": {},
   "outputs": [],
   "source": []
  },
  {
   "cell_type": "code",
   "execution_count": 205,
   "metadata": {},
   "outputs": [
    {
     "data": {
      "text/html": [
       "<table border=\"1\" class=\"dataframe\">\n",
       "    <thead>\n",
       "        <tr>\n",
       "            <th>Question Number</th> <th>Number Missed</th>\n",
       "        </tr>\n",
       "    </thead>\n",
       "    <tbody>\n",
       "        <tr>\n",
       "            <td>27             </td> <td>16           </td>\n",
       "        </tr>\n",
       "        <tr>\n",
       "            <td>32             </td> <td>15           </td>\n",
       "        </tr>\n",
       "        <tr>\n",
       "            <td>10             </td> <td>14           </td>\n",
       "        </tr>\n",
       "        <tr>\n",
       "            <td>33             </td> <td>14           </td>\n",
       "        </tr>\n",
       "        <tr>\n",
       "            <td>9              </td> <td>12           </td>\n",
       "        </tr>\n",
       "        <tr>\n",
       "            <td>37             </td> <td>11           </td>\n",
       "        </tr>\n",
       "        <tr>\n",
       "            <td>40             </td> <td>10           </td>\n",
       "        </tr>\n",
       "        <tr>\n",
       "            <td>21             </td> <td>9            </td>\n",
       "        </tr>\n",
       "        <tr>\n",
       "            <td>41             </td> <td>8            </td>\n",
       "        </tr>\n",
       "        <tr>\n",
       "            <td>48             </td> <td>8            </td>\n",
       "        </tr>\n",
       "        <tr>\n",
       "            <td>6              </td> <td>7            </td>\n",
       "        </tr>\n",
       "        <tr>\n",
       "            <td>15             </td> <td>7            </td>\n",
       "        </tr>\n",
       "        <tr>\n",
       "            <td>34             </td> <td>7            </td>\n",
       "        </tr>\n",
       "        <tr>\n",
       "            <td>42             </td> <td>7            </td>\n",
       "        </tr>\n",
       "        <tr>\n",
       "            <td>43             </td> <td>7            </td>\n",
       "        </tr>\n",
       "        <tr>\n",
       "            <td>4              </td> <td>6            </td>\n",
       "        </tr>\n",
       "        <tr>\n",
       "            <td>5              </td> <td>6            </td>\n",
       "        </tr>\n",
       "        <tr>\n",
       "            <td>11             </td> <td>6            </td>\n",
       "        </tr>\n",
       "        <tr>\n",
       "            <td>16             </td> <td>6            </td>\n",
       "        </tr>\n",
       "        <tr>\n",
       "            <td>20             </td> <td>6            </td>\n",
       "        </tr>\n",
       "        <tr>\n",
       "            <td>28             </td> <td>6            </td>\n",
       "        </tr>\n",
       "        <tr>\n",
       "            <td>35             </td> <td>6            </td>\n",
       "        </tr>\n",
       "        <tr>\n",
       "            <td>44             </td> <td>6            </td>\n",
       "        </tr>\n",
       "        <tr>\n",
       "            <td>14             </td> <td>5            </td>\n",
       "        </tr>\n",
       "        <tr>\n",
       "            <td>29             </td> <td>5            </td>\n",
       "        </tr>\n",
       "        <tr>\n",
       "            <td>36             </td> <td>5            </td>\n",
       "        </tr>\n",
       "        <tr>\n",
       "            <td>2              </td> <td>4            </td>\n",
       "        </tr>\n",
       "        <tr>\n",
       "            <td>7              </td> <td>4            </td>\n",
       "        </tr>\n",
       "        <tr>\n",
       "            <td>8              </td> <td>4            </td>\n",
       "        </tr>\n",
       "        <tr>\n",
       "            <td>13             </td> <td>4            </td>\n",
       "        </tr>\n",
       "        <tr>\n",
       "            <td>26             </td> <td>4            </td>\n",
       "        </tr>\n",
       "        <tr>\n",
       "            <td>50             </td> <td>4            </td>\n",
       "        </tr>\n",
       "        <tr>\n",
       "            <td>1              </td> <td>3            </td>\n",
       "        </tr>\n",
       "        <tr>\n",
       "            <td>12             </td> <td>3            </td>\n",
       "        </tr>\n",
       "        <tr>\n",
       "            <td>18             </td> <td>3            </td>\n",
       "        </tr>\n",
       "        <tr>\n",
       "            <td>45             </td> <td>3            </td>\n",
       "        </tr>\n",
       "        <tr>\n",
       "            <td>46             </td> <td>3            </td>\n",
       "        </tr>\n",
       "        <tr>\n",
       "            <td>19             </td> <td>2            </td>\n",
       "        </tr>\n",
       "        <tr>\n",
       "            <td>25             </td> <td>2            </td>\n",
       "        </tr>\n",
       "        <tr>\n",
       "            <td>31             </td> <td>2            </td>\n",
       "        </tr>\n",
       "        <tr>\n",
       "            <td>39             </td> <td>2            </td>\n",
       "        </tr>\n",
       "        <tr>\n",
       "            <td>49             </td> <td>2            </td>\n",
       "        </tr>\n",
       "        <tr>\n",
       "            <td>3              </td> <td>1            </td>\n",
       "        </tr>\n",
       "        <tr>\n",
       "            <td>17             </td> <td>1            </td>\n",
       "        </tr>\n",
       "        <tr>\n",
       "            <td>30             </td> <td>1            </td>\n",
       "        </tr>\n",
       "        <tr>\n",
       "            <td>38             </td> <td>1            </td>\n",
       "        </tr>\n",
       "        <tr>\n",
       "            <td>47             </td> <td>1            </td>\n",
       "        </tr>\n",
       "        <tr>\n",
       "            <td>22             </td> <td>0            </td>\n",
       "        </tr>\n",
       "        <tr>\n",
       "            <td>23             </td> <td>0            </td>\n",
       "        </tr>\n",
       "        <tr>\n",
       "            <td>24             </td> <td>0            </td>\n",
       "        </tr>\n",
       "    </tbody>\n",
       "</table>"
      ],
      "text/plain": [
       "<IPython.core.display.HTML object>"
      ]
     },
     "metadata": {},
     "output_type": "display_data"
    }
   ],
   "source": [
    "missedquestionsB = make_array()\n",
    "for question_number in np.arange(len(answerkey)):\n",
    "    missedquestionsB = np.append(missedquestionsB, sum(BresM[question_number] != answerkey[question_number]))\n",
    "missedquestionsB\n",
    "WrongAnswersB = Table().with_columns(\"Question Number\",np.arange(1,51)).with_columns(\"Number Missed\",missedquestionsB)\n",
    "MostMissedB = WrongAnswersB.sort(1,descending=True)\n",
    "MostMissedB.show(50)"
   ]
  },
  {
   "cell_type": "code",
   "execution_count": 206,
   "metadata": {},
   "outputs": [
    {
     "data": {
      "text/plain": [
       "array(['no match', 'no match', 'no match', 'no match', 'match', 'match',\n",
       "       'no match', 'no match', 'no match', 'no match', 'no match',\n",
       "       'no match', 'no match', 'no match', 'no match', 'no match',\n",
       "       'no match', 'no match', 'no match', 'no match', 'no match',\n",
       "       'no match'],\n",
       "      dtype='<U8')"
      ]
     },
     "execution_count": 206,
     "metadata": {},
     "output_type": "execute_result"
    }
   ],
   "source": [
    "CresM[0]"
   ]
  },
  {
   "cell_type": "code",
   "execution_count": 207,
   "metadata": {},
   "outputs": [
    {
     "data": {
      "text/plain": [
       "array([ 0,  1,  2,  3,  4,  5,  6,  7,  8,  9, 10, 11, 12, 13, 14, 15, 16,\n",
       "       17, 18, 19, 20, 21])"
      ]
     },
     "execution_count": 207,
     "metadata": {},
     "output_type": "execute_result"
    }
   ],
   "source": [
    "np.arange(CresM.num_rows)"
   ]
  },
  {
   "cell_type": "code",
   "execution_count": 208,
   "metadata": {},
   "outputs": [
    {
     "data": {
      "text/plain": [
       "52"
      ]
     },
     "execution_count": 208,
     "metadata": {},
     "output_type": "execute_result"
    }
   ],
   "source": [
    "len(Bres)\n"
   ]
  },
  {
   "cell_type": "code",
   "execution_count": 209,
   "metadata": {},
   "outputs": [
    {
     "data": {
      "text/plain": [
       "array([ 0.68,  0.96,  0.82,  0.84,  0.84,  0.76,  0.8 ,  0.8 ,  0.7 ,\n",
       "        0.8 ,  0.78,  0.8 ,  0.8 ,  0.88,  0.82,  0.56,  0.58,  0.68,\n",
       "        0.66,  0.88,  0.58,  0.6 ])"
      ]
     },
     "execution_count": 209,
     "metadata": {},
     "output_type": "execute_result"
    }
   ],
   "source": [
    "Bscores"
   ]
  },
  {
   "cell_type": "code",
   "execution_count": 210,
   "metadata": {},
   "outputs": [
    {
     "data": {
      "text/plain": [
       "array([  7.,   0.,   7.,   1.,   6.,   7.,   1.,   3.,   5.,   8.,   5.,\n",
       "         1.,   0.,   3.,   0.,   9.,   5.,   4.,   6.,   2.,  16.,  11.])"
      ]
     },
     "execution_count": 210,
     "metadata": {},
     "output_type": "execute_result"
    }
   ],
   "source": [
    "bem"
   ]
  },
  {
   "cell_type": "code",
   "execution_count": 211,
   "metadata": {},
   "outputs": [
    {
     "data": {
      "text/plain": [
       "array([  9.,   2.,   2.,   7.,   2.,   5.,   9.,   7.,  10.,   2.,   6.,\n",
       "         9.,  10.,   3.,   9.,  13.,  16.,   7.,  11.,   2.,   5.,   9.])"
      ]
     },
     "execution_count": 211,
     "metadata": {},
     "output_type": "execute_result"
    }
   ],
   "source": [
    "bmm"
   ]
  },
  {
   "cell_type": "code",
   "execution_count": 212,
   "metadata": {},
   "outputs": [
    {
     "data": {
      "image/png": "[encoded data removed]",
      "text/plain": [
       "<Figure size 432x288 with 1 Axes>"
      ]
     },
     "metadata": {},
     "output_type": "display_data"
    }
   ],
   "source": [
    "binwidth = 0.05\n",
    "plt.figure(facecolor='white')\n",
    "ax = plt.axes()\n",
    "plt.hist(Bscores, bins=np.arange(min(Bscores), max(Bscores) + binwidth, binwidth))\n",
    "plt.title('Histogram of Survey B Scores')\n",
    "plt.grid(False)\n",
    "ax.set_facecolor(\"white\")\n",
    "\n",
    "plt.show()"
   ]
  },
  {
   "cell_type": "code",
   "execution_count": 213,
   "metadata": {},
   "outputs": [
    {
     "data": {
      "image/png": "[encoded data removed]",
      "text/plain": [
       "<Figure size 432x288 with 1 Axes>"
      ]
     },
     "metadata": {},
     "output_type": "display_data"
    }
   ],
   "source": [
    "binwidth = 0.05\n",
    "plt.figure(facecolor='white')\n",
    "ax = plt.axes()\n",
    "plt.hist(Bscores, bins=np.arange(min(Cscores), max(Cscores) + binwidth, binwidth))\n",
    "plt.title('Histogram of Survey C Scores')\n",
    "plt.grid(False)\n",
    "ax.set_facecolor(\"white\")\n",
    "\n",
    "plt.show()"
   ]
  },
  {
   "cell_type": "code",
   "execution_count": null,
   "metadata": {},
   "outputs": [],
   "source": []
  },
  {
   "cell_type": "code",
   "execution_count": 214,
   "metadata": {},
   "outputs": [
    {
     "data": {
      "text/plain": [
       "Text(0.5, 0, 'Participant ID number')"
      ]
     },
     "execution_count": 214,
     "metadata": {},
     "output_type": "execute_result"
    },
    {
     "data": {
      "image/png": "[encoded data removed]",
      "text/plain": [
       "<Figure size 432x288 with 1 Axes>"
      ]
     },
     "metadata": {},
     "output_type": "display_data"
    }
   ],
   "source": [
    "ax=plt.axes()\n",
    "plt.bar(np.arange(0,len(Bscores)),Bscores)\n",
    "plt.title('Histogram of Survey B Scores')\n",
    "ax.set_ylabel('Percent of Total Score')\n",
    "ax.set_xlabel('Participant ID number')"
   ]
  },
  {
   "cell_type": "code",
   "execution_count": 215,
   "metadata": {},
   "outputs": [
    {
     "ename": "NameError",
     "evalue": "name 'IT' is not defined",
     "output_type": "error",
     "traceback": [
      "\u001b[0;31m---------------------------------------------------------------------------\u001b[0m",
      "\u001b[0;31mNameError\u001b[0m                                 Traceback (most recent call last)",
      "\u001b[0;32m/tmp/ipykernel_101/1966782411.py\u001b[0m in \u001b[0;36m<module>\u001b[0;34m\u001b[0m\n\u001b[1;32m      5\u001b[0m \u001b[0;34m\u001b[0m\u001b[0m\n\u001b[1;32m      6\u001b[0m \u001b[0;31m# Set position of bar on X axis\u001b[0m\u001b[0;34m\u001b[0m\u001b[0;34m\u001b[0m\u001b[0m\n\u001b[0;32m----> 7\u001b[0;31m \u001b[0mbr1\u001b[0m \u001b[0;34m=\u001b[0m \u001b[0mnp\u001b[0m\u001b[0;34m.\u001b[0m\u001b[0marange\u001b[0m\u001b[0;34m(\u001b[0m\u001b[0mlen\u001b[0m\u001b[0;34m(\u001b[0m\u001b[0mIT\u001b[0m\u001b[0;34m)\u001b[0m\u001b[0;34m)\u001b[0m\u001b[0;34m\u001b[0m\u001b[0;34m\u001b[0m\u001b[0m\n\u001b[0m\u001b[1;32m      8\u001b[0m \u001b[0mbr2\u001b[0m \u001b[0;34m=\u001b[0m \u001b[0;34m[\u001b[0m\u001b[0mx\u001b[0m \u001b[0;34m+\u001b[0m \u001b[0mbarWidth\u001b[0m \u001b[0;32mfor\u001b[0m \u001b[0mx\u001b[0m \u001b[0;32min\u001b[0m \u001b[0mbr1\u001b[0m\u001b[0;34m]\u001b[0m\u001b[0;34m\u001b[0m\u001b[0;34m\u001b[0m\u001b[0m\n\u001b[1;32m      9\u001b[0m \u001b[0mbr3\u001b[0m \u001b[0;34m=\u001b[0m \u001b[0;34m[\u001b[0m\u001b[0mx\u001b[0m \u001b[0;34m+\u001b[0m \u001b[0mbarWidth\u001b[0m \u001b[0;32mfor\u001b[0m \u001b[0mx\u001b[0m \u001b[0;32min\u001b[0m \u001b[0mbr2\u001b[0m\u001b[0;34m]\u001b[0m\u001b[0;34m\u001b[0m\u001b[0;34m\u001b[0m\u001b[0m\n",
      "\u001b[0;31mNameError\u001b[0m: name 'IT' is not defined"
     ]
    },
    {
     "data": {
      "image/png": "[encoded data removed]",
      "text/plain": [
       "<Figure size 1440x720 with 1 Axes>"
      ]
     },
     "metadata": {},
     "output_type": "display_data"
    }
   ],
   "source": [
    "# set width of bar\n",
    "barWidth = 0.3\n",
    "fig = plt.subplots(figsize =(20, 10))\n",
    "\n",
    " \n",
    "# Set position of bar on X axis\n",
    "br1 = np.arange(len(IT))\n",
    "br2 = [x + barWidth for x in br1]\n",
    "br3 = [x + barWidth for x in br2]\n",
    " \n",
    "# Make the plot\n",
    "plt.bar(br1, bcr/50, color ='blue', width = barWidth,\n",
    "        edgecolor ='grey', label ='Correct')\n",
    "plt.bar(br2, bmm/50, color ='red', width = barWidth,\n",
    "        edgecolor ='grey', label ='Missed Match')\n",
    "plt.bar(br3, bem/50, color ='orange', width = barWidth,\n",
    "        edgecolor ='grey', label ='Erroneous Match')\n",
    " \n",
    "plt.title(\"Survey B Scores\")\n",
    "# Adding Xticks\n",
    "plt.xlabel('Participant ID number', fontsize = 15)\n",
    "plt.ylabel('Percent of Total Score',  fontsize = 15)\n",
    "\n",
    "# Adding Xticks\n",
    "#plt.xlabel('Branch', fontweight ='bold', fontsize = 15)\n",
    "#plt.ylabel('Students passed', fontweight ='bold', fontsize = 15)\n",
    "plt.legend()\n",
    "\n",
    "\n",
    "plt.show()"
   ]
  },
  {
   "cell_type": "code",
   "execution_count": null,
   "metadata": {},
   "outputs": [],
   "source": [
    "Bscores"
   ]
  },
  {
   "cell_type": "code",
   "execution_count": 216,
   "metadata": {},
   "outputs": [
    {
     "data": {
      "text/plain": [
       "array([ 50.,  50.,  50.,  50.,  50.,  50.,  50.,  50.,  50.,  50.,  50.,\n",
       "        50.,  50.,  50.,  50.,  50.,  50.,  50.,  50.,  50.,  50.,  50.])"
      ]
     },
     "execution_count": 216,
     "metadata": {},
     "output_type": "execute_result"
    }
   ],
   "source": [
    "bmm+bem+bcr"
   ]
  },
  {
   "cell_type": "code",
   "execution_count": 217,
   "metadata": {},
   "outputs": [
    {
     "data": {
      "image/png": "[encoded data removed]",
      "text/plain": [
       "<Figure size 720x504 with 1 Axes>"
      ]
     },
     "metadata": {},
     "output_type": "display_data"
    }
   ],
   "source": [
    "N = 5\n",
    " \n",
    "boys = (20, 35, 30, 35, 27)\n",
    "girls = (25, 32, 34, 20, 25)\n",
    "boyStd = (2, 3, 4, 1, 2)\n",
    "girlStd = (3, 5, 2, 3, 3)\n",
    "ind = np.arange(N)  \n",
    "width = 0.35 \n",
    " \n",
    "fig = plt.subplots(figsize =(10, 7))\n",
    "p1 = plt.bar(ind, boys, width, yerr = boyStd)\n",
    "p2 = plt.bar(ind, girls, width,\n",
    "             bottom = boys, yerr = girlStd)\n",
    " \n",
    "plt.ylabel('Contribution')\n",
    "plt.title('Contribution by the teams')\n",
    "plt.xticks(ind, ('T1', 'T2', 'T3', 'T4', 'T5'))\n",
    "plt.yticks(np.arange(0, 81, 10))\n",
    "plt.legend((p1[0], p2[0]), ('boys', 'girls'))\n",
    " \n",
    "plt.show()"
   ]
  },
  {
   "cell_type": "code",
   "execution_count": 218,
   "metadata": {},
   "outputs": [
    {
     "data": {
      "image/png": "[encoded data removed]",
      "text/plain": [
       "<Figure size 1440x576 with 1 Axes>"
      ]
     },
     "metadata": {},
     "output_type": "display_data"
    }
   ],
   "source": [
    "N = len(bcr)\n",
    " \n",
    "\n",
    "ind = np.arange(N)  \n",
    "width = 0.8\n",
    " \n",
    "fig = plt.subplots(figsize =(20, 8))\n",
    "p1 = plt.bar(ind, bcr/50, width)\n",
    "p2 = plt.bar(ind, bmm/50, width,\n",
    "             bottom = bcr/50)\n",
    "p3 = plt.bar(ind, bem/50, width,\n",
    "             bottom = bcr/50+bmm/50)\n",
    "plt.ylabel('Percent of Total Score')\n",
    "plt.xlabel('Participant ID')\n",
    "plt.title('Survey B Scores')\n",
    "\n",
    "plt.legend((p1[0], p2[0], p3[0]), ('Correct Response', 'Flase Negative', 'False Positive'))\n",
    " \n",
    "plt.show()"
   ]
  },
  {
   "cell_type": "code",
   "execution_count": 219,
   "metadata": {},
   "outputs": [
    {
     "data": {
      "text/plain": [
       "array([ 0.,  0.,  0.,  0.,  0.,  0.,  0.,  0.,  0.,  0.,  0.,  0.,  0.,\n",
       "        0.,  0.,  0.,  0.,  0.,  0.,  0.,  0.,  0.])"
      ]
     },
     "execution_count": 219,
     "metadata": {},
     "output_type": "execute_result"
    }
   ],
   "source": [
    "np.zeros(len(bcr))"
   ]
  },
  {
   "cell_type": "code",
   "execution_count": 220,
   "metadata": {},
   "outputs": [
    {
     "data": {
      "text/plain": [
       "array([ 50.,  50.,  50.,  50.,  50.,  50.,  50.,  50.,  50.,  50.,  50.,\n",
       "        50.,  50.,  50.,  50.,  50.,  50.,  50.,  50.,  50.,  50.,  50.])"
      ]
     },
     "execution_count": 220,
     "metadata": {},
     "output_type": "execute_result"
    }
   ],
   "source": [
    "cmm+cem+ccr"
   ]
  },
  {
   "cell_type": "code",
   "execution_count": 221,
   "metadata": {},
   "outputs": [
    {
     "data": {
      "image/png": "[encoded data removed]",
      "text/plain": [
       "<Figure size 1440x576 with 1 Axes>"
      ]
     },
     "metadata": {},
     "output_type": "display_data"
    }
   ],
   "source": [
    "N = len(ccr)\n",
    " \n",
    "\n",
    "ind = np.arange(N)  \n",
    "width = 0.8\n",
    " \n",
    "fig = plt.subplots(figsize =(20, 8))\n",
    "p1 = plt.bar(ind, ccr/50, width)\n",
    "p2 = plt.bar(ind, cmm/50, width,\n",
    "             bottom = ccr/50)\n",
    "p3 = plt.bar(ind, cem/50, width,\n",
    "             bottom = ccr/50+cmm/50)\n",
    "plt.ylabel('Percent of Total Score')\n",
    "plt.xlabel('Participant ID')\n",
    "plt.title('Survey C Scores')\n",
    "\n",
    "plt.legend((p1[0], p2[0], p3[0]), ('Correct Response', 'Missed Match', 'Erroneous Match'))\n",
    " \n",
    "plt.show()"
   ]
  },
  {
   "cell_type": "code",
   "execution_count": null,
   "metadata": {},
   "outputs": [],
   "source": []
  }
 ],
 "metadata": {
  "kernelspec": {
   "display_name": "Python 3 (ipykernel)",
   "language": "python",
   "name": "python3"
  },
  "language_info": {
   "codemirror_mode": {
    "name": "ipython",
    "version": 3
   },
   "file_extension": ".py",
   "mimetype": "text/x-python",
   "name": "python",
   "nbconvert_exporter": "python",
   "pygments_lexer": "ipython3",
   "version": "3.9.7"
  }
 },
 "nbformat": 4,
 "nbformat_minor": 4
}
